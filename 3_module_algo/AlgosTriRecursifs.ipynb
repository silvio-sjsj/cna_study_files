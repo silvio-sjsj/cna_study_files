{
 "cells": [
  {
   "cell_type": "markdown",
   "metadata": {},
   "source": [
    "# 0 Mise en place des fonctions de travail "
   ]
  },
  {
   "cell_type": "code",
   "execution_count": 1,
   "metadata": {},
   "outputs": [],
   "source": [
    "import random\n",
    "\n",
    "def generate_random_array(debug=False, N=21):\n",
    "    \"\"\"Renvoie un tableau contenant toutes les valeurs entières de 0 (inclus)\n",
    "    à N (exclus) rangées dans un ordre aléatoire\n",
    "\n",
    "    Args:\n",
    "        debug (boolean): quand debug est vrai, la fonction renvoie toujours le\n",
    "                         même tableau afin de simplifier le débogage de vos\n",
    "                         algorithmes de tri\n",
    "        N (int): la taille du tableau à renvoyer\n",
    "\n",
    "    Returns:\n",
    "        list[int]: un tableau d'entiers, de taille N, non ordonné\n",
    "    \"\"\"\n",
    "\n",
    "    if debug:\n",
    "        return [3, 9, 7, 1, 6, 2, 8, 4, 5, 0]\n",
    "\n",
    "    array = list(range(0, N))\n",
    "    random.shuffle(array)\n",
    "\n",
    "    return array"
   ]
  },
  {
   "cell_type": "code",
   "execution_count": 2,
   "metadata": {},
   "outputs": [],
   "source": [
    "def swap(tab, i, j):\n",
    "    \"\"\"Échange la place des éléments aux indices i et j du tableau\"\"\"\n",
    "\n",
    "    tab[i], tab[j] = tab[j], tab[i]\n",
    "    \n",
    "    return tab"
   ]
  },
  {
   "cell_type": "code",
   "execution_count": 3,
   "metadata": {},
   "outputs": [
    {
     "data": {
      "text/plain": [
       "[5, 3, 1, 0, 4, 6, 2]"
      ]
     },
     "execution_count": 3,
     "metadata": {},
     "output_type": "execute_result"
    }
   ],
   "source": [
    "tab_test = generate_random_array(N=7)\n",
    "tab_test"
   ]
  },
  {
   "cell_type": "code",
   "execution_count": 4,
   "metadata": {},
   "outputs": [
    {
     "data": {
      "text/plain": [
       "[5, 3, 2, 0, 4, 6, 1]"
      ]
     },
     "execution_count": 4,
     "metadata": {},
     "output_type": "execute_result"
    }
   ],
   "source": [
    "tab_test_swap = swap(tab_test, 2, 6)\n",
    "tab_test_swap"
   ]
  },
  {
   "cell_type": "markdown",
   "metadata": {},
   "source": [
    "# 1 Les tris recursif "
   ]
  },
  {
   "cell_type": "markdown",
   "metadata": {},
   "source": [
    "## 1.1 Merge Sort"
   ]
  },
  {
   "cell_type": "code",
   "execution_count": 5,
   "metadata": {},
   "outputs": [],
   "source": [
    "#from IPython.display import YouTubeVideo\n",
    "\n",
    "#YouTubeVideo('XaqR3G_NVoo', height=600, width=900)"
   ]
  },
  {
   "attachments": {},
   "cell_type": "markdown",
   "metadata": {},
   "source": [
    "**Remarque :** si le pseudo n'est pas au format qui vous convient, réécrivez le ! Il y a peu de chance dans votre futur métier que le pseudocode que vous lirez soit dans votre code de prédilection."
   ]
  },
  {
   "cell_type": "markdown",
   "metadata": {},
   "source": [
    "**Un pseudocode possible** *(source : Wikipedia)*\n",
    "\n",
    "```\n",
    "procedure tri_fusion (E/S t :Tableau[1..MAX] d’Entier,E nb :Naturel) \n",
    "debut\n",
    "    tri_fusion_recursif(t,0,nb)\n",
    "fin\n",
    "\n",
    "procedure tri_fusion_recursif (E/S t :Tableau[1..MAX] d’Entier,E d,f :Naturel) \n",
    "debut\n",
    "    si d < f - 1  alors\n",
    "        m = (d+f) div 2\n",
    "        tri_fusion_recursif(t,d, m) \n",
    "        tri_fusion_recursif(t, m+1,f) \n",
    "        fusionnner(t,d,m,f)\n",
    "    finsi\n",
    "fin\n",
    "\n",
    "procedure fusionner (E/S t : Tableau[1..MAX] d’Entier ; E debut,milieu,fin : Naturel) \n",
    "    Declaration i,j,k : Naturel,\n",
    "                 temp : Tableau[1..MAX] d’Entier\n",
    "debut\n",
    "    i ← debut\n",
    "    j ← milieu\n",
    "    pour k ← debut a fin faire\n",
    "        si i < milieu et j <fin alors \n",
    "            si t[i] <= t[j] alors\n",
    "                temp[k] ← t[i]\n",
    "                i ← i+1 \n",
    "            sinon\n",
    "                temp[k] ← t[j]\n",
    "                j ← j+1 \n",
    "            finsi\n",
    "        sinon\n",
    "            si i < milieu alors\n",
    "                temp[k] ← t[i]\n",
    "                i ← i+1 \n",
    "            sinon\n",
    "                temp[k] ← t[j]\n",
    "                j ← j+1 \n",
    "            finsi\n",
    "        finsi\n",
    "    fin pour\n",
    "    \n",
    "    pour k ← debut à fin faire \n",
    "        t[k] ← temp[k]\n",
    "    fin pour\n",
    "fin\n",
    "    \n",
    "```"
   ]
  },
  {
   "cell_type": "code",
   "execution_count": 6,
   "metadata": {},
   "outputs": [
    {
     "data": {
      "text/plain": [
       "[0, 1, 2, 3]"
      ]
     },
     "execution_count": 6,
     "metadata": {},
     "output_type": "execute_result"
    }
   ],
   "source": [
    "def merge_sort(tab):\n",
    "    \"\"\"Trie le tableau via le principe de « diviser pour mieux régner »\n",
    "    avec l'intelligence du tri qui se trouve au moment de la fusion\"\"\"\n",
    "\n",
    "    merge_sort_r(tab, 0, len(tab))\n",
    "\n",
    "    return tab\n",
    "    \n",
    "def merge_sort_r(tab, start, end):\n",
    "\n",
    "    if start < end - 1:\n",
    "\n",
    "        m = (start + end)//2\n",
    "        merge_sort_r(tab, start, m)\n",
    "        merge_sort_r(tab, m, end)\n",
    "        merge(tab, start, m, end)\n",
    "\n",
    "def merge(tab, start, middle, end):\n",
    "\n",
    "    i = start\n",
    "    j = middle\n",
    "    temp = [0]*(end - start)\n",
    "\n",
    "    for k in range(end - start):\n",
    "        if i < middle and j < end:\n",
    "            if tab[i] <= tab[j]:\n",
    "                temp[k] = tab[i]\n",
    "                i += 1\n",
    "            else:\n",
    "                temp[k] = tab[j]\n",
    "                j += 1\n",
    "        else:\n",
    "            if i < middle:\n",
    "                temp[k] = tab[i]\n",
    "                i += 1\n",
    "            else:\n",
    "                temp[k] = tab[j]\n",
    "                j += 1\n",
    "   \n",
    "    for k in range(end - start):\n",
    "\n",
    "        tab[start + k] = temp[k]\n",
    "\n",
    "\n",
    "merge_sort(generate_random_array(N=4))"
   ]
  },
  {
   "cell_type": "code",
   "execution_count": 7,
   "metadata": {},
   "outputs": [
    {
     "data": {
      "text/plain": [
       "[0, 1, 2, 3, 4, 5, 6, 7, 8, 9, 10, 11, 12, 13, 14, 15, 16, 17, 18, 19, 20]"
      ]
     },
     "execution_count": 7,
     "metadata": {},
     "output_type": "execute_result"
    }
   ],
   "source": [
    "merge_sort(generate_random_array())"
   ]
  },
  {
   "cell_type": "code",
   "execution_count": 9,
   "metadata": {},
   "outputs": [
    {
     "name": "stdout",
     "output_type": "stream",
     "text": [
      " "
     ]
    },
    {
     "name": "stdout",
     "output_type": "stream",
     "text": [
      "         129767 function calls (89763 primitive calls) in 0.191 seconds\n",
      "\n",
      "   Ordered by: internal time\n",
      "\n",
      "   ncalls  tottime  percall  cumtime  percall filename:lineno(function)\n",
      "    19999    0.101    0.000    0.101    0.000 3790960105.py:18(merge)\n",
      "  39999/1    0.045    0.000    0.180    0.180 3790960105.py:9(merge_sort_r)\n",
      "    19999    0.019    0.000    0.030    0.000 random.py:242(_randbelow_with_getrandbits)\n",
      "    29207    0.006    0.000    0.006    0.000 {method 'getrandbits' of '_random.Random' objects}\n",
      "    19999    0.005    0.000    0.005    0.000 {method 'bit_length' of 'int' objects}\n",
      "       14    0.004    0.000    0.011    0.001 socket.py:626(send)\n",
      "        1    0.003    0.003    0.011    0.011 random.py:350(shuffle)\n",
      "        1    0.003    0.003    0.010    0.010 history.py:833(_writeout_input_cache)\n",
      "      2/1    0.002    0.001    0.182    0.182 {built-in method builtins.exec}\n",
      "        2    0.002    0.001    0.005    0.003 socket.py:703(send_multipart)\n",
      "      2/1    0.000    0.000    0.180    0.180 <string>:1(<module>)\n",
      "        1    0.000    0.000    0.000    0.000 {method 'disable' of '_lsprof.Profiler' objects}\n",
      "  131/127    0.000    0.000    0.000    0.000 {built-in method builtins.isinstance}\n",
      "       60    0.000    0.000    0.000    0.000 enum.py:1544(_get_value)\n",
      "       14    0.000    0.000    0.000    0.000 enum.py:1551(__or__)\n",
      "        4    0.000    0.000    0.000    0.000 attrsettr.py:66(_get_attr_opt)\n",
      "        2    0.000    0.000    0.016    0.008 iostream.py:278(_really_send)\n",
      "        1    0.000    0.000    0.000    0.000 inspect.py:3123(_bind)\n",
      "        4    0.000    0.000    0.000    0.000 attrsettr.py:43(__getattr__)\n",
      "       26    0.000    0.000    0.000    0.000 enum.py:726(__call__)\n",
      "       26    0.000    0.000    0.000    0.000 enum.py:1129(__new__)\n",
      "        2    0.000    0.000    0.000    0.000 socket.py:778(recv_multipart)\n",
      "        1    0.000    0.000    0.000    0.000 {method 'execute' of 'sqlite3.Connection' objects}\n",
      "        6    0.000    0.000    0.000    0.000 enum.py:1562(__and__)\n",
      "        1    0.000    0.000    0.011    0.011 history.py:845(writeout_cache)\n",
      "        1    0.000    0.000    0.000    0.000 decorator.py:199(fix)\n",
      "        6    0.000    0.000    0.000    0.000 traitlets.py:676(__get__)\n",
      "        2    0.000    0.000    0.000    0.000 {method '__exit__' of 'sqlite3.Connection' objects}\n",
      "        1    0.000    0.000    0.027    0.027 decorator.py:229(fun)\n",
      "        6    0.000    0.000    0.000    0.000 typing.py:392(inner)\n",
      "        1    0.000    0.000    0.000    0.000 inspect.py:2939(apply_defaults)\n",
      "        1    0.000    0.000    0.000    0.000 inspect.py:3262(bind)\n",
      "        2    0.000    0.000    0.016    0.008 iostream.py:276(<lambda>)\n",
      "        1    0.000    0.000    0.000    0.000 traitlets.py:1527(_notify_observers)\n",
      "        6    0.000    0.000    0.000    0.000 traitlets.py:629(get)\n",
      "        2    0.000    0.000    0.001    0.000 zmqstream.py:584(_handle_events)\n",
      "        1    0.000    0.000    0.000    0.000 base_events.py:1910(_run_once)\n",
      "        4    0.000    0.000    0.000    0.000 <frozen importlib._bootstrap>:1390(_handle_fromlist)\n",
      "        1    0.000    0.000    0.000    0.000 inspect.py:2886(args)\n",
      "        1    0.000    0.000    0.000    0.000 threading.py:311(_acquire_restore)\n",
      "        1    0.000    0.000    0.000    0.000 asyncio.py:225(add_callback)\n",
      "        2    0.000    0.000    0.000    0.000 traitlets.py:3631(set)\n",
      "        1    0.000    0.000    0.180    0.180 3790960105.py:1(merge_sort)\n",
      "        2    0.000    0.000    0.000    0.000 traitlets.py:718(_validate)\n",
      "        2    0.000    0.000    0.000    0.000 zmqstream.py:664(_rebuild_io_state)\n",
      "        2    0.000    0.000    0.000    0.000 typing.py:1483(__subclasscheck__)\n",
      "        2    0.000    0.000    0.000    0.000 zmqstream.py:687(_update_handler)\n",
      "        9    0.000    0.000    0.000    0.000 {built-in method builtins.hasattr}\n",
      "        4    0.000    0.000    0.000    0.000 typing.py:1276(__hash__)\n",
      "        2    0.000    0.000    0.000    0.000 traitlets.py:689(set)\n",
      "        2    0.000    0.000    0.000    0.000 traitlets.py:3474(validate)\n",
      "        1    0.000    0.000    0.011    0.011 history.py:55(only_when_enabled)\n",
      "        1    0.000    0.000    0.000    0.000 base_events.py:1895(_add_callback)\n",
      "        1    0.000    0.000    0.000    0.000 selectors.py:451(select)\n",
      "        2    0.000    0.000    0.000    0.000 typing.py:1212(__instancecheck__)\n",
      "        2    0.000    0.000    0.000    0.000 zmqstream.py:557(_run_callback)\n",
      "       14    0.000    0.000    0.000    0.000 {built-in method builtins.len}\n",
      "        3    0.000    0.000    0.000    0.000 base_events.py:734(time)\n",
      "        2    0.000    0.000    0.000    0.000 traitlets.py:3624(validate_elements)\n",
      "        2    0.000    0.000    0.000    0.000 {built-in method posix.getpid}\n",
      "        6    0.000    0.000    0.000    0.000 {built-in method builtins.next}\n",
      "        2    0.000    0.000    0.000    0.000 traitlets.py:727(_cross_validate)\n",
      "        2    0.000    0.000    0.000    0.000 iostream.py:213(_is_master_process)\n",
      "        2    0.000    0.000    0.000    0.000 threading.py:302(__exit__)\n",
      "        2    0.000    0.000    0.000    0.000 queue.py:97(empty)\n",
      "        1    0.000    0.000    0.000    0.000 threading.py:627(clear)\n",
      "        4    0.000    0.000    0.000    0.000 {built-in method builtins.getattr}\n",
      "        1    0.000    0.000    0.000    0.000 traitlets.py:1512(_notify_trait)\n",
      "        2    0.000    0.000    0.000    0.000 selector_events.py:750(_process_events)\n",
      "        1    0.000    0.000    0.000    0.000 inspect.py:2909(kwargs)\n",
      "        2    0.000    0.000    0.000    0.000 zmqstream.py:625(_handle_recv)\n",
      "        1    0.000    0.000    0.000    0.000 base_events.py:814(_call_soon)\n",
      "        1    0.000    0.000    0.011    0.011 147406998.py:3(generate_random_array)\n",
      "        1    0.000    0.000    0.000    0.000 traitlets.py:1523(notify_change)\n",
      "        2    0.000    0.000    0.000    0.000 traitlets.py:708(__set__)\n",
      "        5    0.000    0.000    0.000    0.000 {method 'append' of 'list' objects}\n",
      "       24    0.000    0.000    0.000    0.000 typing.py:2173(cast)\n",
      "        1    0.000    0.000    0.000    0.000 {method 'poll' of 'select.epoll' objects}\n",
      "        2    0.000    0.000    0.001    0.001 {method 'run' of '_contextvars.Context' objects}\n",
      "        3    0.000    0.000    0.000    0.000 {method 'acquire' of '_thread.lock' objects}\n",
      "        2    0.000    0.000    0.005    0.002 events.py:86(_run)\n",
      "        1    0.000    0.000    0.000    0.000 events.py:36(__init__)\n",
      "        2    0.000    0.000    0.000    0.000 iostream.py:216(_check_mp_mode)\n",
      "        6    0.000    0.000    0.000    0.000 {method '__exit__' of '_thread.lock' objects}\n",
      "        2    0.000    0.000    0.000    0.000 threading.py:299(__enter__)\n",
      "        1    0.000    0.000    0.000    0.000 base_events.py:785(call_soon)\n",
      "        2    0.000    0.000    0.000    0.000 traitlets.py:2304(validate)\n",
      "        4    0.000    0.000    0.000    0.000 {method 'popleft' of 'collections.deque' objects}\n",
      "        2    0.000    0.000    0.000    0.000 <frozen abc>:121(__subclasscheck__)\n",
      "        2    0.000    0.000    0.000    0.000 {built-in method builtins.issubclass}\n",
      "        2    0.000    0.000    0.000    0.000 zmqstream.py:543(sending)\n",
      "        3    0.000    0.000    0.000    0.000 {built-in method builtins.max}\n",
      "       10    0.000    0.000    0.000    0.000 inspect.py:2798(kind)\n",
      "        2    0.000    0.000    0.000    0.000 iostream.py:157(_handle_event)\n",
      "        2    0.000    0.000    0.000    0.000 {built-in method _abc._abc_subclasscheck}\n",
      "        1    0.000    0.000    0.000    0.000 history.py:839(_writeout_output_cache)\n",
      "        3    0.000    0.000    0.000    0.000 {method 'items' of 'mappingproxy' objects}\n",
      "        4    0.000    0.000    0.000    0.000 {method 'upper' of 'str' objects}\n",
      "        1    0.000    0.000    0.000    0.000 threading.py:308(_release_save)\n",
      "        2    0.000    0.000    0.000    0.000 queue.py:209(_qsize)\n",
      "        2    0.000    0.000    0.000    0.000 {method '__enter__' of '_thread.lock' objects}\n",
      "        4    0.000    0.000    0.000    0.000 {method 'get' of 'dict' objects}\n",
      "        3    0.000    0.000    0.000    0.000 {built-in method time.monotonic}\n",
      "        3    0.000    0.000    0.000    0.000 {method 'append' of 'collections.deque' objects}\n",
      "        4    0.000    0.000    0.000    0.000 {built-in method builtins.hash}\n",
      "        2    0.000    0.000    0.000    0.000 traitlets.py:3486(validate_elements)\n",
      "        1    0.000    0.000    0.000    0.000 {method 'values' of 'mappingproxy' objects}\n",
      "        1    0.000    0.000    0.000    0.000 ioloop.py:742(_run_callback)\n",
      "        4    0.000    0.000    0.000    0.000 inspect.py:2786(name)\n",
      "        1    0.000    0.000    0.000    0.000 {built-in method _asyncio.get_running_loop}\n",
      "        2    0.000    0.000    0.000    0.000 {built-in method builtins.iter}\n",
      "        4    0.000    0.000    0.000    0.000 zmqstream.py:539(receiving)\n",
      "        4    0.000    0.000    0.000    0.000 inspect.py:3079(parameters)\n",
      "        1    0.000    0.000    0.000    0.000 selectors.py:275(_key_from_fd)\n",
      "        2    0.000    0.000    0.000    0.000 iostream.py:255(closed)\n",
      "        1    0.000    0.000    0.000    0.000 zmqstream.py:695(<lambda>)\n",
      "        1    0.000    0.000    0.000    0.000 {built-in method math.ceil}\n",
      "        1    0.000    0.000    0.001    0.001 asyncio.py:200(_handle_events)\n",
      "        1    0.000    0.000    0.000    0.000 {built-in method builtins.min}\n",
      "        1    0.000    0.000    0.000    0.000 inspect.py:2878(__init__)\n",
      "        1    0.000    0.000    0.000    0.000 {built-in method _thread.allocate_lock}\n",
      "        1    0.000    0.000    0.000    0.000 {built-in method _contextvars.copy_context}\n",
      "        2    0.000    0.000    0.000    0.000 {method 'extend' of 'list' objects}\n",
      "        1    0.000    0.000    0.000    0.000 threading.py:314(_is_owned)\n",
      "        1    0.000    0.000    0.000    0.000 base_events.py:539(_check_closed)\n",
      "        1    0.000    0.000    0.000    0.000 {method 'release' of '_thread.lock' objects}\n",
      "        1    0.000    0.000    0.000    0.000 base_events.py:2005(get_debug)"
     ]
    }
   ],
   "source": [
    "%%prun\n",
    "merge_sort(generate_random_array(N=20000))"
   ]
  },
  {
   "cell_type": "markdown",
   "metadata": {},
   "source": [
    "## 1.2 Tri quick sort"
   ]
  },
  {
   "cell_type": "code",
   "execution_count": 8,
   "metadata": {},
   "outputs": [],
   "source": [
    "#from IPython.display import YouTubeVideo\n",
    "\n",
    "#YouTubeVideo('ywWBy6J5gz8', height=600, width=900)"
   ]
  },
  {
   "cell_type": "markdown",
   "metadata": {},
   "source": [
    "**Un pseudocode possible** \n",
    "\n",
    "```\n",
    "tri_rapide(tableau T, entier nb):\n",
    "    tri_rapide_recursif(T,0,nb-1)\n",
    "\n",
    "\n",
    "tri_rapide_recursif(tableau T, entier premier, entier dernier)\n",
    "    si premier < dernier alors\n",
    "        pivot := partitionner(T, premier, dernier)\n",
    "        tri_rapide_recursif(T, premier, pivot-1)\n",
    "        tri_rapide_recursif(T, pivot+1, dernier)\n",
    "    fin si\n",
    "\n",
    "\n",
    "partitionner(tableau T, entier premier, entier dernier)\n",
    "    pivot := T[premier]\n",
    "    i := premier\n",
    "    j := dernier\n",
    "    tant que i <= j faire\n",
    "        si T[i] <= pivot alors \n",
    "            i := i+1\n",
    "        sinon\n",
    "            si T[j] > pivot alors\n",
    "                j := j-1 \n",
    "            sinon\n",
    "                echanger(T[i],T[j])\n",
    "            finsi \n",
    "        finsi\n",
    "    fin tant que\n",
    "    echanger(t[first],t[j])\n",
    "    \n",
    "    retourner j      \n",
    "```"
   ]
  },
  {
   "cell_type": "code",
   "execution_count": 10,
   "metadata": {},
   "outputs": [],
   "source": [
    "def quick_sort(tab):\n",
    "    \"\"\"Divise le tableau en deux, trie chacune des sous-parties et fusionne\n",
    "    intelligemment les deux sous-parties triées. L'intelligence se trouve\n",
    "    dans la division du tableau.\"\"\"\n",
    "\n",
    "    quick_sort_r(tab, 0, len(tab)-1)\n",
    "    \n",
    "    return tab\n",
    "\n",
    "def quick_sort_r(tab, first, last):\n",
    "\n",
    "    if first < last:\n",
    "        pivot = partition(tab, first, last)\n",
    "        quick_sort_r(tab, first, pivot-1)\n",
    "        quick_sort_r(tab, pivot+1, last)\n",
    "                \n",
    "def partition(tab, first, last):\n",
    "\n",
    "    pivot = tab[first]\n",
    "    i = first\n",
    "    j = last\n",
    "\n",
    "    while i <= j:\n",
    "        if tab[i] <= pivot:\n",
    "            i += 1\n",
    "        else:\n",
    "            if tab[j] > pivot:\n",
    "                j -= 1\n",
    "            else:\n",
    "                swap(tab, i, j)\n",
    "            \n",
    "    swap(tab, first, j)\n",
    "\n",
    "    return j"
   ]
  },
  {
   "cell_type": "code",
   "execution_count": 11,
   "metadata": {},
   "outputs": [
    {
     "name": "stdout",
     "output_type": "stream",
     "text": [
      " "
     ]
    },
    {
     "name": "stdout",
     "output_type": "stream",
     "text": [
      "         176715 function calls (150065 primitive calls) in 0.221 seconds\n",
      "\n",
      "   Ordered by: internal time\n",
      "\n",
      "   ncalls  tottime  percall  cumtime  percall filename:lineno(function)\n",
      "  26645/1    0.082    0.000    0.153    0.153 3184948777.py:10(quick_sort_r)\n",
      "    13322    0.071    0.000    0.085    0.000 3184948777.py:17(partition)\n",
      "    19999    0.018    0.000    0.029    0.000 random.py:242(_randbelow_with_getrandbits)\n",
      "    66923    0.014    0.000    0.014    0.000 2773293316.py:1(swap)\n",
      "    29263    0.006    0.000    0.006    0.000 {method 'getrandbits' of '_random.Random' objects}\n",
      "        1    0.006    0.006    0.028    0.028 decorator.py:229(fun)\n",
      "        2    0.005    0.003    0.017    0.009 {method '__exit__' of 'sqlite3.Connection' objects}\n",
      "    19999    0.005    0.000    0.005    0.000 {method 'bit_length' of 'int' objects}\n",
      "       14    0.005    0.000    0.009    0.001 socket.py:626(send)\n",
      "        1    0.004    0.004    0.013    0.013 random.py:350(shuffle)\n",
      "      2/1    0.001    0.001    0.156    0.156 {built-in method builtins.exec}\n",
      "      2/1    0.001    0.000    0.155    0.155 <string>:1(<module>)\n",
      "        1    0.000    0.000    0.000    0.000 {method 'poll' of 'select.epoll' objects}\n",
      "       60    0.000    0.000    0.000    0.000 enum.py:1544(_get_value)\n",
      "        4    0.000    0.000    0.000    0.000 attrsettr.py:66(_get_attr_opt)\n",
      "        1    0.000    0.000    0.000    0.000 {method 'disable' of '_lsprof.Profiler' objects}\n",
      "       14    0.000    0.000    0.000    0.000 enum.py:1551(__or__)\n",
      "  131/127    0.000    0.000    0.000    0.000 {built-in method builtins.isinstance}\n",
      "        4    0.000    0.000    0.000    0.000 attrsettr.py:43(__getattr__)\n",
      "       26    0.000    0.000    0.000    0.000 enum.py:726(__call__)\n",
      "        1    0.000    0.000    0.000    0.000 {method 'execute' of 'sqlite3.Connection' objects}\n",
      "        2    0.000    0.000    0.000    0.000 socket.py:778(recv_multipart)\n",
      "        6    0.000    0.000    0.000    0.000 enum.py:1562(__and__)\n",
      "       26    0.000    0.000    0.000    0.000 enum.py:1129(__new__)\n",
      "        2    0.000    0.000    0.061    0.030 zmqstream.py:584(_handle_events)\n",
      "        1    0.000    0.000    0.000    0.000 inspect.py:3123(_bind)\n",
      "        4    0.000    0.000    0.000    0.000 <frozen importlib._bootstrap>:1390(_handle_fromlist)\n",
      "        1    0.000    0.000    0.002    0.002 base_events.py:1910(_run_once)\n",
      "        6    0.000    0.000    0.000    0.000 typing.py:392(inner)\n",
      "        1    0.000    0.000    0.017    0.017 history.py:845(writeout_cache)\n",
      "        1    0.000    0.000    0.013    0.013 147406998.py:3(generate_random_array)\n",
      "        2    0.000    0.000    0.000    0.000 zmqstream.py:664(_rebuild_io_state)\n",
      "        1    0.000    0.000    0.017    0.017 history.py:833(_writeout_input_cache)\n",
      "        1    0.000    0.000    0.000    0.000 traitlets.py:1527(_notify_observers)\n",
      "        2    0.000    0.000    0.061    0.030 events.py:86(_run)\n",
      "        2    0.000    0.000    0.010    0.005 iostream.py:278(_really_send)\n",
      "        6    0.000    0.000    0.000    0.000 traitlets.py:676(__get__)\n",
      "        2    0.000    0.000    0.018    0.009 zmqstream.py:557(_run_callback)\n",
      "        2    0.000    0.000    0.018    0.009 iostream.py:157(_handle_event)\n",
      "        2    0.000    0.000    0.000    0.000 zmqstream.py:687(_update_handler)\n",
      "        2    0.000    0.000    0.032    0.016 zmqstream.py:625(_handle_recv)\n",
      "        1    0.000    0.000    0.000    0.000 decorator.py:199(fix)\n",
      "        2    0.000    0.000    0.000    0.000 typing.py:1483(__subclasscheck__)\n",
      "        2    0.000    0.000    0.000    0.000 traitlets.py:3631(set)\n",
      "        1    0.000    0.000    0.000    0.000 asyncio.py:225(add_callback)\n",
      "        9    0.000    0.000    0.000    0.000 {built-in method builtins.hasattr}\n",
      "        2    0.000    0.000    0.061    0.030 {method 'run' of '_contextvars.Context' objects}\n",
      "        2    0.000    0.000    0.019    0.010 iostream.py:276(<lambda>)\n",
      "        2    0.000    0.000    0.000    0.000 queue.py:97(empty)\n",
      "        2    0.000    0.000    0.000    0.000 traitlets.py:718(_validate)\n",
      "        4    0.000    0.000    0.000    0.000 typing.py:1276(__hash__)\n",
      "        6    0.000    0.000    0.000    0.000 traitlets.py:629(get)\n",
      "        1    0.000    0.000    0.000    0.000 inspect.py:2939(apply_defaults)\n",
      "       14    0.000    0.000    0.000    0.000 {built-in method builtins.len}\n",
      "        1    0.000    0.000    0.000    0.000 inspect.py:3262(bind)\n",
      "        2    0.000    0.000    0.000    0.000 traitlets.py:689(set)\n",
      "        2    0.000    0.000    0.000    0.000 traitlets.py:3474(validate)\n",
      "        2    0.000    0.000    0.000    0.000 typing.py:1212(__instancecheck__)\n",
      "        4    0.000    0.000    0.000    0.000 {built-in method builtins.getattr}\n",
      "        1    0.000    0.000    0.000    0.000 threading.py:311(_acquire_restore)\n",
      "        2    0.000    0.000    0.000    0.000 traitlets.py:3624(validate_elements)\n",
      "        1    0.000    0.000    0.000    0.000 inspect.py:2886(args)\n",
      "        2    0.000    0.000    0.000    0.000 traitlets.py:727(_cross_validate)\n",
      "        3    0.000    0.000    0.000    0.000 base_events.py:734(time)\n",
      "        2    0.000    0.000    0.006    0.003 socket.py:703(send_multipart)\n",
      "        1    0.000    0.000    0.000    0.000 base_events.py:814(_call_soon)\n",
      "        2    0.000    0.000    0.000    0.000 selector_events.py:750(_process_events)\n",
      "        2    0.000    0.000    0.000    0.000 traitlets.py:708(__set__)\n",
      "        1    0.000    0.000    0.060    0.060 asyncio.py:200(_handle_events)\n",
      "        1    0.000    0.000    0.153    0.153 3184948777.py:1(quick_sort)\n",
      "        2    0.000    0.000    0.000    0.000 iostream.py:213(_is_master_process)\n",
      "        1    0.000    0.000    0.000    0.000 traitlets.py:1512(_notify_trait)\n",
      "        3    0.000    0.000    0.000    0.000 {built-in method builtins.max}\n",
      "        1    0.000    0.000    0.000    0.000 events.py:36(__init__)\n",
      "        1    0.000    0.000    0.017    0.017 history.py:55(only_when_enabled)\n",
      "        2    0.000    0.000    0.000    0.000 {built-in method builtins.issubclass}\n",
      "        1    0.000    0.000    0.000    0.000 traitlets.py:1523(notify_change)\n",
      "        2    0.000    0.000    0.000    0.000 {built-in method posix.getpid}\n",
      "       24    0.000    0.000    0.000    0.000 typing.py:2173(cast)\n",
      "        2    0.000    0.000    0.000    0.000 <frozen abc>:121(__subclasscheck__)\n",
      "        1    0.000    0.000    0.000    0.000 base_events.py:785(call_soon)\n",
      "        6    0.000    0.000    0.000    0.000 {built-in method builtins.next}\n",
      "        2    0.000    0.000    0.000    0.000 zmqstream.py:543(sending)\n",
      "        1    0.000    0.000    0.000    0.000 ioloop.py:742(_run_callback)\n",
      "        2    0.000    0.000    0.000    0.000 {built-in method _abc._abc_subclasscheck}\n",
      "        6    0.000    0.000    0.000    0.000 {method '__exit__' of '_thread.lock' objects}\n",
      "        1    0.000    0.000    0.000    0.000 base_events.py:1895(_add_callback)\n",
      "        2    0.000    0.000    0.000    0.000 traitlets.py:2304(validate)\n",
      "        2    0.000    0.000    0.000    0.000 threading.py:302(__exit__)\n",
      "        4    0.000    0.000    0.000    0.000 {method 'upper' of 'str' objects}\n",
      "        2    0.000    0.000    0.000    0.000 threading.py:299(__enter__)\n",
      "        5    0.000    0.000    0.000    0.000 {method 'append' of 'list' objects}\n",
      "        1    0.000    0.000    0.000    0.000 selectors.py:451(select)\n",
      "        1    0.000    0.000    0.000    0.000 inspect.py:2909(kwargs)\n",
      "        1    0.000    0.000    0.000    0.000 threading.py:627(clear)\n",
      "        4    0.000    0.000    0.000    0.000 {method 'popleft' of 'collections.deque' objects}\n",
      "        3    0.000    0.000    0.000    0.000 {built-in method time.monotonic}\n",
      "        3    0.000    0.000    0.000    0.000 {method 'acquire' of '_thread.lock' objects}\n",
      "        1    0.000    0.000    0.000    0.000 history.py:839(_writeout_output_cache)\n",
      "        2    0.000    0.000    0.000    0.000 iostream.py:216(_check_mp_mode)\n",
      "        2    0.000    0.000    0.000    0.000 queue.py:209(_qsize)\n",
      "        1    0.000    0.000    0.000    0.000 zmqstream.py:695(<lambda>)\n",
      "        1    0.000    0.000    0.000    0.000 threading.py:308(_release_save)\n",
      "        4    0.000    0.000    0.000    0.000 {built-in method builtins.hash}\n",
      "        4    0.000    0.000    0.000    0.000 zmqstream.py:539(receiving)\n",
      "       10    0.000    0.000    0.000    0.000 inspect.py:2798(kind)\n",
      "        3    0.000    0.000    0.000    0.000 {method 'append' of 'collections.deque' objects}\n",
      "        4    0.000    0.000    0.000    0.000 {method 'get' of 'dict' objects}\n",
      "        2    0.000    0.000    0.000    0.000 traitlets.py:3486(validate_elements)\n",
      "        3    0.000    0.000    0.000    0.000 {method 'items' of 'mappingproxy' objects}\n",
      "        1    0.000    0.000    0.000    0.000 {built-in method builtins.min}\n",
      "        1    0.000    0.000    0.000    0.000 selectors.py:275(_key_from_fd)\n",
      "        1    0.000    0.000    0.000    0.000 {built-in method _asyncio.get_running_loop}\n",
      "        2    0.000    0.000    0.000    0.000 {method '__enter__' of '_thread.lock' objects}\n",
      "        1    0.000    0.000    0.000    0.000 {method 'values' of 'mappingproxy' objects}\n",
      "        1    0.000    0.000    0.000    0.000 {built-in method _thread.allocate_lock}\n",
      "        2    0.000    0.000    0.000    0.000 {built-in method builtins.iter}\n",
      "        4    0.000    0.000    0.000    0.000 inspect.py:3079(parameters)\n",
      "        1    0.000    0.000    0.000    0.000 {built-in method math.ceil}\n",
      "        1    0.000    0.000    0.000    0.000 {built-in method _contextvars.copy_context}\n",
      "        2    0.000    0.000    0.000    0.000 {method 'extend' of 'list' objects}\n",
      "        2    0.000    0.000    0.000    0.000 iostream.py:255(closed)\n",
      "        4    0.000    0.000    0.000    0.000 inspect.py:2786(name)\n",
      "        1    0.000    0.000    0.000    0.000 threading.py:314(_is_owned)\n",
      "        1    0.000    0.000    0.000    0.000 base_events.py:539(_check_closed)\n",
      "        1    0.000    0.000    0.000    0.000 {method 'release' of '_thread.lock' objects}\n",
      "        1    0.000    0.000    0.000    0.000 inspect.py:2878(__init__)\n",
      "        1    0.000    0.000    0.000    0.000 base_events.py:2005(get_debug)"
     ]
    }
   ],
   "source": [
    "%%prun\n",
    "quick_sort(generate_random_array(N=20000))"
   ]
  },
  {
   "cell_type": "code",
   "execution_count": null,
   "metadata": {},
   "outputs": [],
   "source": []
  },
  {
   "cell_type": "code",
   "execution_count": null,
   "metadata": {},
   "outputs": [],
   "source": []
  },
  {
   "cell_type": "code",
   "execution_count": null,
   "metadata": {},
   "outputs": [],
   "source": []
  },
  {
   "cell_type": "code",
   "execution_count": null,
   "metadata": {},
   "outputs": [],
   "source": []
  },
  {
   "cell_type": "code",
   "execution_count": null,
   "metadata": {},
   "outputs": [],
   "source": []
  },
  {
   "cell_type": "code",
   "execution_count": null,
   "metadata": {},
   "outputs": [],
   "source": []
  },
  {
   "cell_type": "code",
   "execution_count": 37,
   "metadata": {},
   "outputs": [
    {
     "data": {
      "text/plain": [
       "[0, 1, 2, 3, 4, 5, 6, 7, 8, 9, 10, 11, 12, 13, 14, 15, 16, 17, 18, 19, 20]"
      ]
     },
     "execution_count": 37,
     "metadata": {},
     "output_type": "execute_result"
    }
   ],
   "source": [
    "def quick_sort(tab):\n",
    "    \"\"\"Divise le tableau en deux, trie chacune des sous-parties et fusionne\n",
    "    intelligemment les deux sous-parties triées. L'intelligence se trouve\n",
    "    dans la division du tableau.\"\"\"\n",
    "\n",
    "    quick_sort_r(tab, 0, len(tab)-1)\n",
    "    \n",
    "    return tab\n",
    "\n",
    "def quick_sort_r(tab, first, last):\n",
    "\n",
    "    if first < last:\n",
    "        pivot = partition(tab, first, last)\n",
    "        quick_sort_r(tab, first, pivot-1)\n",
    "        quick_sort_r(tab, pivot+1, last)\n",
    "                \n",
    "def partition(tab, first, last):\n",
    "\n",
    "    pivot = tab[first]\n",
    "    i = first\n",
    "    j = last\n",
    "\n",
    "    while i <= j:\n",
    "        if tab[i] <= pivot:\n",
    "            i += 1\n",
    "        else:\n",
    "            if tab[j] > pivot:\n",
    "                j -= 1\n",
    "            else:\n",
    "                swap(tab, i, j)\n",
    "            \n",
    "    swap(tab, first, j)\n",
    "\n",
    "    return j\n",
    "\n",
    "quick_sort(generate_random_array())"
   ]
  },
  {
   "cell_type": "code",
   "execution_count": null,
   "metadata": {},
   "outputs": [],
   "source": []
  },
  {
   "cell_type": "code",
   "execution_count": 38,
   "metadata": {},
   "outputs": [],
   "source": [
    "def quick_sort(arr):\n",
    "    def quick_sort_recursive(arr, low, high):\n",
    "        if low < high:\n",
    "            pivot_index = partition(arr, low, high)\n",
    "            quick_sort_recursive(arr, low, pivot_index - 1)\n",
    "            quick_sort_recursive(arr, pivot_index + 1, high)\n",
    "\n",
    "    def partition(arr, low, high):\n",
    "        pivot = arr[low]\n",
    "        i = low\n",
    "        j = high\n",
    "        while i <= j:\n",
    "            if arr[i] <= pivot:\n",
    "                i += 1\n",
    "            else:\n",
    "                if arr[j] > pivot:\n",
    "                    j -= 1\n",
    "                else:\n",
    "                    arr[i], arr[j] = arr[j], arr[i]\n",
    "        arr[low], arr[j] = arr[j], arr[low]\n",
    "        return j\n",
    "\n",
    "    quick_sort_recursive(arr, 0, len(arr) - 1)\n",
    "    return arr"
   ]
  },
  {
   "cell_type": "code",
   "execution_count": 39,
   "metadata": {},
   "outputs": [
    {
     "data": {
      "text/plain": [
       "[0, 1, 2, 3, 4]"
      ]
     },
     "execution_count": 39,
     "metadata": {},
     "output_type": "execute_result"
    }
   ],
   "source": [
    "quick_sort(generate_random_array(N=5))"
   ]
  },
  {
   "cell_type": "code",
   "execution_count": null,
   "metadata": {},
   "outputs": [],
   "source": []
  },
  {
   "cell_type": "code",
   "execution_count": 13,
   "metadata": {},
   "outputs": [],
   "source": [
    "def tri_rapide(tableau):\n",
    "\n",
    "    if not tableau:\n",
    "        return []\n",
    "    else:\n",
    "        pivot = tableau[-1]\n",
    "        plus_petit = [x for x in tableau     if x <  pivot]\n",
    "        plus_grand = [x for x in tableau[:-1] if x >= pivot]\n",
    "        return tri_rapide(plus_petit) + [pivot] + tri_rapide(plus_grand)"
   ]
  },
  {
   "cell_type": "code",
   "execution_count": 14,
   "metadata": {},
   "outputs": [
    {
     "data": {
      "text/plain": [
       "[0, 1, 2, 3]"
      ]
     },
     "execution_count": 14,
     "metadata": {},
     "output_type": "execute_result"
    }
   ],
   "source": [
    "tri_rapide(generate_random_array(N=4))"
   ]
  },
  {
   "cell_type": "markdown",
   "metadata": {},
   "source": [
    "# 3 Procedure ou fonction ?"
   ]
  },
  {
   "cell_type": "code",
   "execution_count": 15,
   "metadata": {},
   "outputs": [
    {
     "name": "stdout",
     "output_type": "stream",
     "text": [
      "133992882950912\n",
      "133992882950912 133992894365888\n"
     ]
    }
   ],
   "source": [
    "# Python sort and sorted functions\n",
    "A = generate_random_array()\n",
    "print(id(A)) \n",
    "A.sort()\n",
    "print(id(A), id(sorted(A)))"
   ]
  },
  {
   "cell_type": "code",
   "execution_count": null,
   "metadata": {},
   "outputs": [],
   "source": []
  }
 ],
 "metadata": {
  "kernelspec": {
   "display_name": "Python 3 (ipykernel)",
   "language": "python",
   "name": "python3"
  },
  "language_info": {
   "codemirror_mode": {
    "name": "ipython",
    "version": 3
   },
   "file_extension": ".py",
   "mimetype": "text/x-python",
   "name": "python",
   "nbconvert_exporter": "python",
   "pygments_lexer": "ipython3",
   "version": "3.12.4"
  }
 },
 "nbformat": 4,
 "nbformat_minor": 2
}
