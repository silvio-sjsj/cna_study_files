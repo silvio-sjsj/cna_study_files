{
 "cells": [
  {
   "cell_type": "markdown",
   "metadata": {},
   "source": [
    "# 0 Mise en place des fonctions de travail "
   ]
  },
  {
   "cell_type": "code",
   "execution_count": 1,
   "metadata": {},
   "outputs": [],
   "source": [
    "import random\n",
    "\n",
    "def generate_random_array(debug=False, N=21):\n",
    "    \"\"\"Renvoie un tableau contenant toutes les valeurs entières de 0 (inclus)\n",
    "    à N (exclus) rangées dans un ordre aléatoire\n",
    "\n",
    "    Args:\n",
    "        debug (boolean): quand debug est vrai, la fonction renvoie toujours le\n",
    "                         même tableau afin de simplifier le débogage de vos\n",
    "                         algorithmes de tri\n",
    "        N (int): la taille du tableau à renvoyer\n",
    "\n",
    "    Returns:\n",
    "        list[int]: un tableau d'entiers, de taille N, non ordonné\n",
    "    \"\"\"\n",
    "\n",
    "    if debug:\n",
    "        return [3, 9, 7, 1, 6, 2, 8, 4, 5, 0]\n",
    "\n",
    "    array = list(range(0, N))\n",
    "    random.shuffle(array)\n",
    "\n",
    "    return array"
   ]
  },
  {
   "cell_type": "code",
   "execution_count": 2,
   "metadata": {},
   "outputs": [
    {
     "name": "stdout",
     "output_type": "stream",
     "text": [
      "[1, 13, 16, 2, 0, 20, 18, 7, 10, 5, 8, 14, 4, 6, 17, 11, 15, 9, 12, 3, 19]\n",
      "[3, 9, 7, 1, 6, 2, 8, 4, 5, 0]\n",
      "[7, 15, 5, 2, 19, 25, 6, 1, 3, 12, 28, 17, 8, 4, 9, 11, 29, 0, 30, 16, 27, 23, 26, 22, 18, 10, 20, 14, 21, 24, 13]\n"
     ]
    }
   ],
   "source": [
    "# Exemple d'utilisation de la fonction precedente\n",
    "print(generate_random_array()) # Retourne un tableau avec des nombres naturels allant de 0 a 20\n",
    "print(generate_random_array(True)) # Retourne le tableau [3, 9, 7, 1, 6, 2, 8, 4, 5, 0]\n",
    "print(generate_random_array(N=31)) # Des nombres naturels allant de 0 a 30"
   ]
  },
  {
   "cell_type": "code",
   "execution_count": 3,
   "metadata": {},
   "outputs": [],
   "source": [
    "# astuce: peut se réaliser en une opération\n",
    "def swap(tab, i, j):\n",
    "    \"\"\"Échange la place des éléments aux indices i et j du tableau\"\"\"\n",
    "\n",
    "    tab[i], tab[j] = tab[j], tab[i]\n",
    "    \n",
    "    return tab"
   ]
  },
  {
   "cell_type": "code",
   "execution_count": 4,
   "metadata": {},
   "outputs": [
    {
     "data": {
      "text/plain": [
       "[4, 5, 0, 3, 1, 2, 6]"
      ]
     },
     "execution_count": 4,
     "metadata": {},
     "output_type": "execute_result"
    }
   ],
   "source": [
    "tab_test = generate_random_array(N=7)\n",
    "tab_test"
   ]
  },
  {
   "cell_type": "code",
   "execution_count": 5,
   "metadata": {},
   "outputs": [
    {
     "data": {
      "text/plain": [
       "[4, 5, 6, 3, 1, 2, 0]"
      ]
     },
     "execution_count": 5,
     "metadata": {},
     "output_type": "execute_result"
    }
   ],
   "source": [
    "tab_test_swap = swap(tab_test, 2, 6)\n",
    "tab_test_swap"
   ]
  },
  {
   "cell_type": "markdown",
   "metadata": {},
   "source": [
    "# 1 Les tris classiques "
   ]
  },
  {
   "attachments": {},
   "cell_type": "markdown",
   "metadata": {},
   "source": [
    "**ATTENTION** Le pseudo-code n'est pas du code. C'est une façon de représenter l'algorithme comme si c'était du code. Il n'y a pas de norme, il n'y a pas de format particulier. Il peut être écrit dans la langue que vous voulez et se rapprocher de la syntaxe du code de votre choix.  \n",
    "Ici, nous sommes sous Python, qui est un code facile à lire et à écrire à condition de faire attention aux indentations. Essayons d'écrire un pseudo code proche d'une syntaxe python sans trop en faire (ce n'est pas du code !!)"
   ]
  },
  {
   "cell_type": "markdown",
   "metadata": {},
   "source": [
    "## 1.1 Tri à bulles"
   ]
  },
  {
   "attachments": {},
   "cell_type": "markdown",
   "metadata": {},
   "source": [
    "**Un pseudocode possible** *(source : Wikipedia, réécrit sous format python)*\n",
    "\n",
    "```\n",
    "procedure tri_à_bulles(Tableau T):\n",
    "   pour i allant de (taille de T)-1 à 1:\n",
    "       pour j allant de 0 à i-1:\n",
    "           si T[j+1] < T[j] alors:\n",
    "               échanger(T, j+1, j)\n",
    "```"
   ]
  },
  {
   "cell_type": "code",
   "execution_count": 6,
   "metadata": {},
   "outputs": [],
   "source": [
    "def bubble(A):\n",
    "    \"\"\"Trie le tableau en déplaçant les plus grosses valeurs vers la fin du\n",
    "    tableau, un peu comme des bulles dans l'eau qui remonteraient à la\n",
    "    surface\"\"\"\n",
    "\n",
    "    for i in range(len(A)):\n",
    "        for j in range(i+1, len(A)):\n",
    "            if A[j] <= A[i]:\n",
    "\n",
    "                swap(A, i, j)\n",
    "                #A[j+1], A[j] = A[j], A[j+1]\n",
    "    \n",
    "    return A"
   ]
  },
  {
   "cell_type": "code",
   "execution_count": 7,
   "metadata": {},
   "outputs": [],
   "source": [
    "def bubble(A):\n",
    "    \"\"\"Trie le tableau en déplaçant les plus grosses valeurs vers la fin du\n",
    "    tableau, un peu comme des bulles dans l'eau qui remonteraient à la\n",
    "    surface\"\"\"\n",
    "    tt = A.copy()\n",
    "    for i in range(len(tt)):\n",
    "        for j in range(i+1, len(tt)):\n",
    "            if tt[j] <= tt[i]:\n",
    "\n",
    "                swap(tt, i, j)\n",
    "                #A[j+1], A[j] = A[j], A[j+1]\n",
    "    \n",
    "    return tt"
   ]
  },
  {
   "cell_type": "code",
   "execution_count": 8,
   "metadata": {},
   "outputs": [
    {
     "data": {
      "text/plain": [
       "[1, 2, 3, 4, 5, 20, 33, 55, 1111, 3000]"
      ]
     },
     "execution_count": 8,
     "metadata": {},
     "output_type": "execute_result"
    }
   ],
   "source": [
    "op = [1111, 2, 33, 3, 3000, 4, 5, 1, 55, 20]\n",
    "\n",
    "op = bubble(op)\n",
    "op"
   ]
  },
  {
   "cell_type": "markdown",
   "metadata": {},
   "source": [
    "### N = 10"
   ]
  },
  {
   "cell_type": "code",
   "execution_count": null,
   "metadata": {},
   "outputs": [],
   "source": [
    "%%prun\n",
    "bubble(generate_random_array(N=20000))"
   ]
  },
  {
   "cell_type": "code",
   "execution_count": 10,
   "metadata": {},
   "outputs": [
    {
     "name": "stdout",
     "output_type": "stream",
     "text": [
      " "
     ]
    },
    {
     "name": "stdout",
     "output_type": "stream",
     "text": [
      "         73 function calls in 0.000 seconds\n",
      "\n",
      "   Ordered by: internal time\n",
      "\n",
      "   ncalls  tottime  percall  cumtime  percall filename:lineno(function)\n",
      "        1    0.000    0.000    0.000    0.000 {method 'disable' of '_lsprof.Profiler' objects}\n",
      "        1    0.000    0.000    0.000    0.000 {built-in method builtins.exec}\n",
      "        1    0.000    0.000    0.000    0.000 4003973377.py:1(bubble)\n",
      "        9    0.000    0.000    0.000    0.000 random.py:242(_randbelow_with_getrandbits)\n",
      "        1    0.000    0.000    0.000    0.000 random.py:350(shuffle)\n",
      "        1    0.000    0.000    0.000    0.000 147406998.py:3(generate_random_array)\n",
      "        1    0.000    0.000    0.000    0.000 <string>:1(<module>)\n",
      "       20    0.000    0.000    0.000    0.000 1972538615.py:2(swap)\n",
      "       16    0.000    0.000    0.000    0.000 {method 'getrandbits' of '_random.Random' objects}\n",
      "        9    0.000    0.000    0.000    0.000 {method 'bit_length' of 'int' objects}\n",
      "       12    0.000    0.000    0.000    0.000 {built-in method builtins.len}\n",
      "        1    0.000    0.000    0.000    0.000 {method 'copy' of 'list' objects}"
     ]
    }
   ],
   "source": [
    "%%prun\n",
    "bubble(generate_random_array(N=10))"
   ]
  },
  {
   "cell_type": "code",
   "execution_count": 11,
   "metadata": {},
   "outputs": [],
   "source": [
    "test = [x for x in range(0, 10)]"
   ]
  },
  {
   "cell_type": "code",
   "execution_count": 12,
   "metadata": {},
   "outputs": [
    {
     "name": "stdout",
     "output_type": "stream",
     "text": [
      " "
     ]
    },
    {
     "name": "stdout",
     "output_type": "stream",
     "text": [
      "         16 function calls in 0.000 seconds\n",
      "\n",
      "   Ordered by: internal time\n",
      "\n",
      "   ncalls  tottime  percall  cumtime  percall filename:lineno(function)\n",
      "        1    0.000    0.000    0.000    0.000 {method 'disable' of '_lsprof.Profiler' objects}\n",
      "        1    0.000    0.000    0.000    0.000 {built-in method builtins.exec}\n",
      "        1    0.000    0.000    0.000    0.000 4003973377.py:1(bubble)\n",
      "        1    0.000    0.000    0.000    0.000 <string>:1(<module>)\n",
      "       11    0.000    0.000    0.000    0.000 {built-in method builtins.len}\n",
      "        1    0.000    0.000    0.000    0.000 {method 'copy' of 'list' objects}"
     ]
    }
   ],
   "source": [
    "%%prun\n",
    "bubble(test)"
   ]
  },
  {
   "cell_type": "code",
   "execution_count": 13,
   "metadata": {},
   "outputs": [],
   "source": [
    "test2 = [x for x in range(10, 0, -1)]"
   ]
  },
  {
   "cell_type": "code",
   "execution_count": 14,
   "metadata": {},
   "outputs": [
    {
     "name": "stdout",
     "output_type": "stream",
     "text": [
      " "
     ]
    },
    {
     "name": "stdout",
     "output_type": "stream",
     "text": [
      "         61 function calls in 0.000 seconds\n",
      "\n",
      "   Ordered by: internal time\n",
      "\n",
      "   ncalls  tottime  percall  cumtime  percall filename:lineno(function)\n",
      "        1    0.000    0.000    0.000    0.000 {method 'disable' of '_lsprof.Profiler' objects}\n",
      "        1    0.000    0.000    0.000    0.000 {built-in method builtins.exec}\n",
      "        1    0.000    0.000    0.000    0.000 4003973377.py:1(bubble)\n",
      "       45    0.000    0.000    0.000    0.000 1972538615.py:2(swap)\n",
      "       11    0.000    0.000    0.000    0.000 {built-in method builtins.len}\n",
      "        1    0.000    0.000    0.000    0.000 <string>:1(<module>)\n",
      "        1    0.000    0.000    0.000    0.000 {method 'copy' of 'list' objects}"
     ]
    }
   ],
   "source": [
    "%%prun\n",
    "bubble(test2)"
   ]
  },
  {
   "cell_type": "markdown",
   "metadata": {},
   "source": [
    "### N = 100"
   ]
  },
  {
   "cell_type": "code",
   "execution_count": 15,
   "metadata": {},
   "outputs": [
    {
     "name": "stdout",
     "output_type": "stream",
     "text": [
      " "
     ]
    },
    {
     "name": "stdout",
     "output_type": "stream",
     "text": [
      "         3143 function calls in 0.003 seconds\n",
      "\n",
      "   Ordered by: internal time\n",
      "\n",
      "   ncalls  tottime  percall  cumtime  percall filename:lineno(function)\n",
      "        1    0.002    0.002    0.002    0.002 4003973377.py:1(bubble)\n",
      "     2682    0.001    0.000    0.001    0.000 1972538615.py:2(swap)\n",
      "        1    0.000    0.000    0.000    0.000 {method 'disable' of '_lsprof.Profiler' objects}\n",
      "       99    0.000    0.000    0.000    0.000 random.py:242(_randbelow_with_getrandbits)\n",
      "        1    0.000    0.000    0.000    0.000 random.py:350(shuffle)\n",
      "        1    0.000    0.000    0.003    0.003 {built-in method builtins.exec}\n",
      "      154    0.000    0.000    0.000    0.000 {method 'getrandbits' of '_random.Random' objects}\n",
      "       99    0.000    0.000    0.000    0.000 {method 'bit_length' of 'int' objects}\n",
      "      102    0.000    0.000    0.000    0.000 {built-in method builtins.len}\n",
      "        1    0.000    0.000    0.000    0.000 147406998.py:3(generate_random_array)\n",
      "        1    0.000    0.000    0.003    0.003 <string>:1(<module>)\n",
      "        1    0.000    0.000    0.000    0.000 {method 'copy' of 'list' objects}"
     ]
    }
   ],
   "source": [
    "%%prun\n",
    "bubble(generate_random_array(N=100))"
   ]
  },
  {
   "cell_type": "code",
   "execution_count": 16,
   "metadata": {},
   "outputs": [],
   "source": [
    "test = [x for x in range(0, 100)]"
   ]
  },
  {
   "cell_type": "code",
   "execution_count": 17,
   "metadata": {},
   "outputs": [
    {
     "name": "stdout",
     "output_type": "stream",
     "text": [
      " "
     ]
    },
    {
     "name": "stdout",
     "output_type": "stream",
     "text": [
      "         106 function calls in 0.001 seconds\n",
      "\n",
      "   Ordered by: internal time\n",
      "\n",
      "   ncalls  tottime  percall  cumtime  percall filename:lineno(function)\n",
      "        1    0.001    0.001    0.001    0.001 4003973377.py:1(bubble)\n",
      "        1    0.000    0.000    0.000    0.000 {method 'disable' of '_lsprof.Profiler' objects}\n",
      "        1    0.000    0.000    0.001    0.001 {built-in method builtins.exec}\n",
      "      101    0.000    0.000    0.000    0.000 {built-in method builtins.len}\n",
      "        1    0.000    0.000    0.001    0.001 <string>:1(<module>)\n",
      "        1    0.000    0.000    0.000    0.000 {method 'copy' of 'list' objects}"
     ]
    }
   ],
   "source": [
    "%%prun\n",
    "bubble(test)"
   ]
  },
  {
   "cell_type": "code",
   "execution_count": 18,
   "metadata": {},
   "outputs": [],
   "source": [
    "test2 = [x for x in range(100, 0, -1)]"
   ]
  },
  {
   "cell_type": "code",
   "execution_count": 19,
   "metadata": {},
   "outputs": [
    {
     "name": "stdout",
     "output_type": "stream",
     "text": [
      " "
     ]
    },
    {
     "name": "stdout",
     "output_type": "stream",
     "text": [
      "         5131 function calls (5129 primitive calls) in 0.005 seconds\n",
      "\n",
      "   Ordered by: internal time\n",
      "\n",
      "   ncalls  tottime  percall  cumtime  percall filename:lineno(function)\n",
      "      2/1    0.002    0.001    0.001    0.001 <string>:1(<module>)\n",
      "     4950    0.001    0.000    0.001    0.000 1972538615.py:2(swap)\n",
      "        1    0.001    0.001    0.001    0.001 4003973377.py:1(bubble)\n",
      "        1    0.000    0.000    0.000    0.000 {method 'disable' of '_lsprof.Profiler' objects}\n",
      "      2/1    0.000    0.000    0.001    0.001 {built-in method builtins.exec}\n",
      "        1    0.000    0.000    0.000    0.000 attrsettr.py:65(_get_attr_opt)\n",
      "        1    0.000    0.000    0.000    0.000 attrsettr.py:42(__getattr__)\n",
      "        1    0.000    0.000    0.000    0.000 socket.py:777(recv_multipart)\n",
      "        1    0.000    0.000    0.002    0.002 asyncio.py:200(_handle_events)\n",
      "        1    0.000    0.000    0.002    0.002 zmqstream.py:607(_handle_events)\n",
      "      103    0.000    0.000    0.000    0.000 {built-in method builtins.len}\n",
      "        4    0.000    0.000    0.000    0.000 enum.py:726(__call__)\n",
      "        3    0.000    0.000    0.000    0.000 typing.py:392(inner)\n",
      "        6    0.000    0.000    0.000    0.000 enum.py:1544(_get_value)\n",
      "        1    0.000    0.000    0.002    0.002 zmqstream.py:648(_handle_recv)\n",
      "       18    0.000    0.000    0.000    0.000 {built-in method builtins.isinstance}\n",
      "        1    0.000    0.000    0.002    0.002 iostream.py:276(<lambda>)\n",
      "        1    0.000    0.000    0.000    0.000 enum.py:1562(__and__)\n",
      "        1    0.000    0.000    0.000    0.000 <frozen importlib._bootstrap>:1390(_handle_fromlist)\n",
      "        1    0.000    0.000    0.000    0.000 selector_events.py:750(_process_events)\n",
      "        4    0.000    0.000    0.000    0.000 enum.py:1129(__new__)\n",
      "        1    0.000    0.000    0.002    0.002 events.py:86(_run)\n",
      "        1    0.000    0.000    0.002    0.002 iostream.py:157(_handle_event)\n",
      "        1    0.000    0.000    0.000    0.000 enum.py:1551(__or__)\n",
      "        2    0.000    0.000    0.000    0.000 typing.py:1276(__hash__)\n",
      "        1    0.000    0.000    0.000    0.000 base_events.py:734(time)\n",
      "        1    0.000    0.000    0.000    0.000 base_events.py:1895(_add_callback)\n",
      "        1    0.000    0.000    0.000    0.000 iostream.py:213(_is_master_process)\n",
      "        1    0.000    0.000    0.002    0.002 {method 'run' of '_contextvars.Context' objects}\n",
      "        1    0.000    0.000    0.002    0.002 zmqstream.py:580(_run_callback)\n",
      "        1    0.000    0.000    0.000    0.000 iostream.py:216(_check_mp_mode)\n",
      "        1    0.000    0.000    0.000    0.000 {built-in method posix.getpid}\n",
      "        1    0.000    0.000    0.000    0.000 {method 'append' of 'list' objects}\n",
      "        1    0.000    0.000    0.000    0.000 {method 'copy' of 'list' objects}\n",
      "        1    0.000    0.000    0.000    0.000 {built-in method builtins.getattr}\n",
      "        2    0.000    0.000    0.000    0.000 {method 'popleft' of 'collections.deque' objects}\n",
      "        1    0.000    0.000    0.000    0.000 selectors.py:275(_key_from_fd)\n",
      "        1    0.000    0.000    0.000    0.000 {method 'upper' of 'str' objects}\n",
      "        2    0.000    0.000    0.000    0.000 {built-in method builtins.hash}\n",
      "        1    0.000    0.000    0.000    0.000 {built-in method time.monotonic}\n",
      "        1    0.000    0.000    0.000    0.000 {built-in method builtins.hasattr}\n",
      "        1    0.000    0.000    0.000    0.000 {method 'append' of 'collections.deque' objects}\n",
      "        1    0.000    0.000    0.000    0.000 iostream.py:255(closed)\n",
      "        1    0.000    0.000    0.000    0.000 zmqstream.py:562(receiving)\n",
      "        1    0.000    0.000    0.000    0.000 typing.py:2173(cast)"
     ]
    }
   ],
   "source": [
    "%%prun\n",
    "bubble(test2)"
   ]
  },
  {
   "cell_type": "markdown",
   "metadata": {},
   "source": [
    "### N = 1000"
   ]
  },
  {
   "cell_type": "code",
   "execution_count": 20,
   "metadata": {},
   "outputs": [
    {
     "name": "stdout",
     "output_type": "stream",
     "text": [
      " "
     ]
    },
    {
     "name": "stdout",
     "output_type": "stream",
     "text": [
      "         255665 function calls (255659 primitive calls) in 0.251 seconds\n",
      "\n",
      "   Ordered by: internal time\n",
      "\n",
      "   ncalls  tottime  percall  cumtime  percall filename:lineno(function)\n",
      "        1    0.075    0.075    0.107    0.107 4003973377.py:1(bubble)\n",
      "      2/1    0.068    0.034    0.107    0.107 <string>:1(<module>)\n",
      "   250712    0.047    0.000    0.047    0.000 1972538615.py:2(swap)\n",
      "       14    0.027    0.002    0.037    0.003 socket.py:621(send)\n",
      "        2    0.018    0.009    0.023    0.011 {method '__exit__' of 'sqlite3.Connection' objects}\n",
      "        2    0.005    0.003    0.065    0.033 iostream.py:276(<lambda>)\n",
      "        1    0.004    0.004    0.005    0.005 {method 'poll' of 'select.epoll' objects}\n",
      "      999    0.002    0.000    0.003    0.000 random.py:242(_randbelow_with_getrandbits)\n",
      "     1390    0.001    0.000    0.001    0.000 {method 'getrandbits' of '_random.Random' objects}\n",
      "        1    0.001    0.001    0.002    0.002 random.py:350(shuffle)\n",
      "      999    0.000    0.000    0.000    0.000 {method 'bit_length' of 'int' objects}\n",
      "     1014    0.000    0.000    0.000    0.000 {built-in method builtins.len}\n",
      "       60    0.000    0.000    0.000    0.000 enum.py:1544(_get_value)\n",
      "        1    0.000    0.000    0.000    0.000 {method 'disable' of '_lsprof.Profiler' objects}\n",
      "      2/1    0.000    0.000    0.107    0.107 {built-in method builtins.exec}\n",
      "       14    0.000    0.000    0.000    0.000 enum.py:1551(__or__)\n",
      "        4    0.000    0.000    0.000    0.000 attrsettr.py:65(_get_attr_opt)\n",
      "  131/127    0.000    0.000    0.000    0.000 {built-in method builtins.isinstance}\n",
      "       26    0.000    0.000    0.000    0.000 enum.py:726(__call__)\n",
      "        4    0.000    0.000    0.000    0.000 attrsettr.py:42(__getattr__)\n",
      "        2    0.000    0.000    0.000    0.000 socket.py:777(recv_multipart)\n",
      "        2    0.000    0.000    0.037    0.018 socket.py:698(send_multipart)\n",
      "        6    0.000    0.000    0.000    0.000 enum.py:1562(__and__)\n",
      "        2    0.000    0.000    0.066    0.033 zmqstream.py:607(_handle_events)\n",
      "       26    0.000    0.000    0.000    0.000 enum.py:1129(__new__)\n",
      "        1    0.000    0.000    0.002    0.002 147406998.py:3(generate_random_array)\n",
      "        1    0.000    0.000    0.006    0.006 base_events.py:1910(_run_once)\n",
      "        1    0.000    0.000    0.000    0.000 {method 'execute' of 'sqlite3.Connection' objects}\n",
      "        6    0.000    0.000    0.000    0.000 typing.py:392(inner)\n",
      "        1    0.000    0.000    0.000    0.000 inspect.py:3123(_bind)\n",
      "        1    0.000    0.000    0.023    0.023 history.py:845(writeout_cache)\n",
      "        2    0.000    0.000    0.037    0.018 iostream.py:278(_really_send)\n",
      "        2    0.000    0.000    0.000    0.000 zmqstream.py:687(_rebuild_io_state)\n",
      "        4    0.000    0.000    0.000    0.000 <frozen importlib._bootstrap>:1390(_handle_fromlist)\n",
      "        2    0.000    0.000    0.065    0.033 iostream.py:157(_handle_event)\n",
      "        2    0.000    0.000    0.065    0.033 zmqstream.py:648(_handle_recv)\n",
      "        2    0.000    0.000    0.000    0.000 zmqstream.py:566(sending)\n",
      "        2    0.000    0.000    0.065    0.033 zmqstream.py:580(_run_callback)\n",
      "        1    0.000    0.000    0.000    0.000 asyncio.py:225(add_callback)\n",
      "        1    0.000    0.000    0.005    0.005 selectors.py:451(select)\n",
      "        2    0.000    0.000    0.000    0.000 zmqstream.py:710(_update_handler)\n",
      "        2    0.000    0.000    0.066    0.033 {method 'run' of '_contextvars.Context' objects}\n",
      "        2    0.000    0.000    0.000    0.000 typing.py:1483(__subclasscheck__)\n",
      "        2    0.000    0.000    0.000    0.000 typing.py:1212(__instancecheck__)\n",
      "        1    0.000    0.000    0.000    0.000 traitlets.py:1527(_notify_observers)\n",
      "        2    0.000    0.000    0.000    0.000 queue.py:97(empty)\n",
      "        1    0.000    0.000    0.000    0.000 {method 'copy' of 'list' objects}\n",
      "        2    0.000    0.000    0.066    0.033 events.py:86(_run)\n",
      "        1    0.000    0.000    0.000    0.000 traitlets.py:1512(_notify_trait)\n",
      "        6    0.000    0.000    0.000    0.000 traitlets.py:676(__get__)\n",
      "        4    0.000    0.000    0.000    0.000 typing.py:1276(__hash__)\n",
      "        1    0.000    0.000    0.000    0.000 decorator.py:199(fix)\n",
      "        2    0.000    0.000    0.000    0.000 traitlets.py:3631(set)\n",
      "        9    0.000    0.000    0.000    0.000 {built-in method builtins.hasattr}\n",
      "        3    0.000    0.000    0.000    0.000 base_events.py:734(time)\n",
      "        4    0.000    0.000    0.000    0.000 {built-in method builtins.getattr}\n",
      "        2    0.000    0.000    0.000    0.000 traitlets.py:718(_validate)\n",
      "        1    0.000    0.000    0.000    0.000 base_events.py:814(_call_soon)\n",
      "        1    0.000    0.000    0.023    0.023 history.py:833(_writeout_input_cache)\n",
      "        2    0.000    0.000    0.000    0.000 threading.py:302(__exit__)\n",
      "        1    0.000    0.000    0.066    0.066 asyncio.py:200(_handle_events)\n",
      "        2    0.000    0.000    0.000    0.000 traitlets.py:689(set)\n",
      "        2    0.000    0.000    0.000    0.000 traitlets.py:3474(validate)\n",
      "        2    0.000    0.000    0.000    0.000 {built-in method builtins.issubclass}\n",
      "        1    0.000    0.000    0.000    0.000 events.py:36(__init__)\n",
      "        6    0.000    0.000    0.000    0.000 traitlets.py:629(get)\n",
      "        1    0.000    0.000    0.000    0.000 inspect.py:3262(bind)\n",
      "        1    0.000    0.000    0.000    0.000 base_events.py:785(call_soon)\n",
      "        2    0.000    0.000    0.000    0.000 selector_events.py:750(_process_events)\n",
      "        2    0.000    0.000    0.000    0.000 traitlets.py:727(_cross_validate)\n",
      "        2    0.000    0.000    0.000    0.000 traitlets.py:3624(validate_elements)\n",
      "        3    0.000    0.000    0.000    0.000 {built-in method builtins.max}\n",
      "        2    0.000    0.000    0.000    0.000 {built-in method posix.getpid}\n",
      "        1    0.000    0.000    0.000    0.000 inspect.py:2939(apply_defaults)\n",
      "        1    0.000    0.000    0.023    0.023 decorator.py:229(fun)\n",
      "        2    0.000    0.000    0.000    0.000 traitlets.py:708(__set__)\n",
      "        2    0.000    0.000    0.000    0.000 iostream.py:213(_is_master_process)\n",
      "        1    0.000    0.000    0.000    0.000 threading.py:311(_acquire_restore)\n",
      "        1    0.000    0.000    0.023    0.023 history.py:55(only_when_enabled)\n",
      "        2    0.000    0.000    0.000    0.000 <frozen abc>:121(__subclasscheck__)\n",
      "        1    0.000    0.000    0.000    0.000 ioloop.py:742(_run_callback)\n",
      "        4    0.000    0.000    0.000    0.000 {method 'upper' of 'str' objects}\n",
      "        1    0.000    0.000    0.000    0.000 traitlets.py:1523(notify_change)\n",
      "        2    0.000    0.000    0.000    0.000 {built-in method _abc._abc_subclasscheck}\n",
      "        2    0.000    0.000    0.000    0.000 iostream.py:216(_check_mp_mode)\n",
      "        1    0.000    0.000    0.000    0.000 inspect.py:2886(args)\n",
      "        1    0.000    0.000    0.000    0.000 base_events.py:1895(_add_callback)\n",
      "       24    0.000    0.000    0.000    0.000 typing.py:2173(cast)\n",
      "        6    0.000    0.000    0.000    0.000 {method '__exit__' of '_thread.lock' objects}\n",
      "        2    0.000    0.000    0.000    0.000 traitlets.py:2304(validate)\n",
      "        4    0.000    0.000    0.000    0.000 {method 'popleft' of 'collections.deque' objects}\n",
      "        5    0.000    0.000    0.000    0.000 {method 'append' of 'list' objects}\n",
      "        3    0.000    0.000    0.000    0.000 {built-in method time.monotonic}\n",
      "        2    0.000    0.000    0.000    0.000 queue.py:209(_qsize)\n",
      "        4    0.000    0.000    0.000    0.000 {built-in method builtins.hash}\n",
      "        1    0.000    0.000    0.000    0.000 history.py:839(_writeout_output_cache)\n",
      "        1    0.000    0.000    0.000    0.000 threading.py:627(clear)\n",
      "        3    0.000    0.000    0.000    0.000 {method 'acquire' of '_thread.lock' objects}\n",
      "        6    0.000    0.000    0.000    0.000 {built-in method builtins.next}\n",
      "        1    0.000    0.000    0.000    0.000 zmqstream.py:718(<lambda>)\n",
      "        2    0.000    0.000    0.000    0.000 threading.py:299(__enter__)\n",
      "        4    0.000    0.000    0.000    0.000 zmqstream.py:562(receiving)\n",
      "        1    0.000    0.000    0.000    0.000 threading.py:308(_release_save)\n",
      "        3    0.000    0.000    0.000    0.000 {method 'append' of 'collections.deque' objects}\n",
      "        1    0.000    0.000    0.000    0.000 inspect.py:2909(kwargs)\n",
      "        1    0.000    0.000    0.000    0.000 {built-in method builtins.min}\n",
      "        1    0.000    0.000    0.000    0.000 {built-in method _asyncio.get_running_loop}\n",
      "        3    0.000    0.000    0.000    0.000 {method 'items' of 'mappingproxy' objects}\n",
      "        4    0.000    0.000    0.000    0.000 {method 'get' of 'dict' objects}\n",
      "        2    0.000    0.000    0.000    0.000 traitlets.py:3486(validate_elements)\n",
      "        1    0.000    0.000    0.000    0.000 {built-in method math.ceil}\n",
      "        1    0.000    0.000    0.000    0.000 selectors.py:275(_key_from_fd)\n",
      "       10    0.000    0.000    0.000    0.000 inspect.py:2798(kind)\n",
      "        1    0.000    0.000    0.000    0.000 {built-in method _thread.allocate_lock}\n",
      "        1    0.000    0.000    0.000    0.000 {method 'values' of 'mappingproxy' objects}\n",
      "        1    0.000    0.000    0.000    0.000 {built-in method _contextvars.copy_context}\n",
      "        2    0.000    0.000    0.000    0.000 {method '__enter__' of '_thread.lock' objects}\n",
      "        2    0.000    0.000    0.000    0.000 {built-in method builtins.iter}\n",
      "        2    0.000    0.000    0.000    0.000 iostream.py:255(closed)\n",
      "        4    0.000    0.000    0.000    0.000 inspect.py:2786(name)\n",
      "        4    0.000    0.000    0.000    0.000 inspect.py:3079(parameters)\n",
      "        2    0.000    0.000    0.000    0.000 {method 'extend' of 'list' objects}\n",
      "        1    0.000    0.000    0.000    0.000 base_events.py:539(_check_closed)\n",
      "        1    0.000    0.000    0.000    0.000 threading.py:314(_is_owned)\n",
      "        1    0.000    0.000    0.000    0.000 base_events.py:2005(get_debug)\n",
      "        1    0.000    0.000    0.000    0.000 {method 'release' of '_thread.lock' objects}\n",
      "        1    0.000    0.000    0.000    0.000 inspect.py:2878(__init__)"
     ]
    }
   ],
   "source": [
    "%%prun\n",
    "bubble(generate_random_array(N=1000))"
   ]
  },
  {
   "cell_type": "code",
   "execution_count": 21,
   "metadata": {},
   "outputs": [],
   "source": [
    "test = [x for x in range(0, 1000)]"
   ]
  },
  {
   "cell_type": "code",
   "execution_count": 22,
   "metadata": {},
   "outputs": [
    {
     "name": "stdout",
     "output_type": "stream",
     "text": [
      " "
     ]
    },
    {
     "name": "stdout",
     "output_type": "stream",
     "text": [
      "         1211 function calls (1210 primitive calls) in 0.045 seconds\n",
      "\n",
      "   Ordered by: internal time\n",
      "\n",
      "   ncalls  tottime  percall  cumtime  percall filename:lineno(function)\n",
      "        5    0.021    0.004    0.021    0.004 socket.py:621(send)\n",
      "        1    0.010    0.010    0.010    0.010 {method 'execute' of 'sqlite3.Connection' objects}\n",
      "        2    0.006    0.003    0.006    0.003 {method '__exit__' of 'sqlite3.Connection' objects}\n",
      "        1    0.004    0.004    0.004    0.004 4003973377.py:1(bubble)\n",
      "      2/1    0.003    0.001    0.025    0.025 {built-in method builtins.exec}\n",
      "     1003    0.000    0.000    0.000    0.000 {built-in method builtins.len}\n",
      "        1    0.000    0.000    0.000    0.000 {method 'disable' of '_lsprof.Profiler' objects}\n",
      "        5    0.000    0.000    0.000    0.000 enum.py:1551(__or__)\n",
      "        1    0.000    0.000    0.025    0.025 <string>:1(<module>)\n",
      "       15    0.000    0.000    0.000    0.000 enum.py:1544(_get_value)\n",
      "        1    0.000    0.000    0.000    0.000 inspect.py:3123(_bind)\n",
      "        1    0.000    0.000    0.017    0.017 history.py:845(writeout_cache)\n",
      "       32    0.000    0.000    0.000    0.000 {built-in method builtins.isinstance}\n",
      "        1    0.000    0.000    0.017    0.017 history.py:833(_writeout_input_cache)\n",
      "        5    0.000    0.000    0.000    0.000 enum.py:726(__call__)\n",
      "        1    0.000    0.000    0.000    0.000 decorator.py:199(fix)\n",
      "        6    0.000    0.000    0.000    0.000 traitlets.py:676(__get__)\n",
      "        1    0.000    0.000    0.000    0.000 inspect.py:3262(bind)\n",
      "        1    0.000    0.000    0.000    0.000 inspect.py:2939(apply_defaults)\n",
      "        2    0.000    0.000    0.000    0.000 traitlets.py:718(_validate)\n",
      "        6    0.000    0.000    0.000    0.000 traitlets.py:629(get)\n",
      "        1    0.000    0.000    0.000    0.000 traitlets.py:1527(_notify_observers)\n",
      "        2    0.000    0.000    0.000    0.000 traitlets.py:3631(set)\n",
      "        5    0.000    0.000    0.000    0.000 enum.py:1129(__new__)\n",
      "        1    0.000    0.000    0.017    0.017 history.py:55(only_when_enabled)\n",
      "        1    0.000    0.000    0.017    0.017 decorator.py:229(fun)\n",
      "        1    0.000    0.000    0.000    0.000 inspect.py:2886(args)\n",
      "        2    0.000    0.000    0.000    0.000 traitlets.py:3474(validate)\n",
      "        2    0.000    0.000    0.000    0.000 traitlets.py:689(set)\n",
      "        1    0.000    0.000    0.000    0.000 threading.py:311(_acquire_restore)\n",
      "        1    0.000    0.000    0.000    0.000 {method 'copy' of 'list' objects}\n",
      "        2    0.000    0.000    0.000    0.000 traitlets.py:3624(validate_elements)\n",
      "        2    0.000    0.000    0.000    0.000 traitlets.py:727(_cross_validate)\n",
      "        5    0.000    0.000    0.000    0.000 {built-in method builtins.hasattr}\n",
      "        2    0.000    0.000    0.000    0.000 threading.py:302(__exit__)\n",
      "       22    0.000    0.000    0.000    0.000 typing.py:2173(cast)\n",
      "        6    0.000    0.000    0.000    0.000 {built-in method builtins.next}\n",
      "        1    0.000    0.000    0.000    0.000 threading.py:627(clear)\n",
      "        1    0.000    0.000    0.000    0.000 traitlets.py:1512(_notify_trait)\n",
      "        1    0.000    0.000    0.000    0.000 inspect.py:2909(kwargs)\n",
      "        2    0.000    0.000    0.000    0.000 traitlets.py:708(__set__)\n",
      "        1    0.000    0.000    0.000    0.000 traitlets.py:1523(notify_change)\n",
      "        2    0.000    0.000    0.000    0.000 threading.py:299(__enter__)\n",
      "        3    0.000    0.000    0.000    0.000 {method 'acquire' of '_thread.lock' objects}\n",
      "        2    0.000    0.000    0.000    0.000 traitlets.py:2304(validate)\n",
      "        3    0.000    0.000    0.000    0.000 {method 'items' of 'mappingproxy' objects}\n",
      "       10    0.000    0.000    0.000    0.000 inspect.py:2798(kind)\n",
      "        1    0.000    0.000    0.000    0.000 history.py:839(_writeout_output_cache)\n",
      "        4    0.000    0.000    0.000    0.000 {method 'append' of 'list' objects}\n",
      "        4    0.000    0.000    0.000    0.000 {method '__exit__' of '_thread.lock' objects}\n",
      "        1    0.000    0.000    0.000    0.000 threading.py:308(_release_save)\n",
      "        1    0.000    0.000    0.000    0.000 {method 'values' of 'mappingproxy' objects}\n",
      "        2    0.000    0.000    0.000    0.000 {method '__enter__' of '_thread.lock' objects}\n",
      "        2    0.000    0.000    0.000    0.000 traitlets.py:3486(validate_elements)\n",
      "        4    0.000    0.000    0.000    0.000 {method 'get' of 'dict' objects}\n",
      "        2    0.000    0.000    0.000    0.000 {built-in method builtins.iter}\n",
      "        4    0.000    0.000    0.000    0.000 inspect.py:3079(parameters)\n",
      "        4    0.000    0.000    0.000    0.000 inspect.py:2786(name)\n",
      "        1    0.000    0.000    0.000    0.000 {built-in method _thread.allocate_lock}\n",
      "        1    0.000    0.000    0.000    0.000 threading.py:314(_is_owned)\n",
      "        1    0.000    0.000    0.000    0.000 {method 'release' of '_thread.lock' objects}\n",
      "        2    0.000    0.000    0.000    0.000 {method 'extend' of 'list' objects}\n",
      "        1    0.000    0.000    0.000    0.000 inspect.py:2878(__init__)\n",
      "        1    0.000    0.000    0.000    0.000 {method 'append' of 'collections.deque' objects}"
     ]
    }
   ],
   "source": [
    "%%prun\n",
    "bubble(test)"
   ]
  },
  {
   "cell_type": "code",
   "execution_count": 23,
   "metadata": {},
   "outputs": [],
   "source": [
    "test2 = [x for x in range(1000, 0, -1)]"
   ]
  },
  {
   "cell_type": "code",
   "execution_count": 24,
   "metadata": {},
   "outputs": [
    {
     "name": "stdout",
     "output_type": "stream",
     "text": [
      " "
     ]
    },
    {
     "name": "stdout",
     "output_type": "stream",
     "text": [
      "         500981 function calls (500977 primitive calls) in 0.292 seconds\n",
      "\n",
      "   Ordered by: internal time\n",
      "\n",
      "   ncalls  tottime  percall  cumtime  percall filename:lineno(function)\n",
      "        1    0.182    0.182    0.266    0.266 4003973377.py:1(bubble)\n",
      "   499500    0.093    0.000    0.093    0.000 1972538615.py:2(swap)\n",
      "        2    0.011    0.006    0.017    0.008 {method '__exit__' of 'sqlite3.Connection' objects}\n",
      "       13    0.004    0.000    0.005    0.000 socket.py:621(send)\n",
      "     1011    0.000    0.000    0.000    0.000 {built-in method builtins.len}\n",
      "        1    0.000    0.000    0.000    0.000 {method 'disable' of '_lsprof.Profiler' objects}\n",
      "       54    0.000    0.000    0.000    0.000 enum.py:1544(_get_value)\n",
      "       13    0.000    0.000    0.000    0.000 enum.py:1551(__or__)\n",
      "        1    0.000    0.000    0.000    0.000 {method 'execute' of 'sqlite3.Connection' objects}\n",
      "  113/109    0.000    0.000    0.000    0.000 {built-in method builtins.isinstance}\n",
      "        1    0.000    0.000    0.000    0.000 inspect.py:3123(_bind)\n",
      "       22    0.000    0.000    0.000    0.000 enum.py:726(__call__)\n",
      "        3    0.000    0.000    0.000    0.000 attrsettr.py:65(_get_attr_opt)\n",
      "        3    0.000    0.000    0.000    0.000 attrsettr.py:42(__getattr__)\n",
      "        5    0.000    0.000    0.000    0.000 enum.py:1562(__and__)\n",
      "        1    0.000    0.000    0.017    0.017 history.py:845(writeout_cache)\n",
      "        1    0.000    0.000    0.000    0.000 traitlets.py:1527(_notify_observers)\n",
      "        2    0.000    0.000    0.000    0.000 zmqstream.py:687(_rebuild_io_state)\n",
      "        2    0.000    0.000    0.000    0.000 traitlets.py:718(_validate)\n",
      "        2    0.000    0.000    0.000    0.000 threading.py:299(__enter__)\n",
      "       22    0.000    0.000    0.000    0.000 enum.py:1129(__new__)\n",
      "        1    0.000    0.000    0.000    0.000 decorator.py:199(fix)\n",
      "        6    0.000    0.000    0.000    0.000 traitlets.py:676(__get__)\n",
      "        1    0.000    0.000    0.000    0.000 socket.py:777(recv_multipart)\n",
      "        1    0.000    0.000    0.000    0.000 socket.py:698(send_multipart)\n",
      "        1    0.000    0.000    0.018    0.018 ioloop.py:742(_run_callback)\n",
      "        1    0.000    0.000    0.000    0.000 inspect.py:3262(bind)\n",
      "        2    0.000    0.000    0.000    0.000 zmqstream.py:710(_update_handler)\n",
      "        1    0.000    0.000    0.000    0.000 inspect.py:2939(apply_defaults)\n",
      "        2    0.000    0.000    0.000    0.000 traitlets.py:689(set)\n",
      "        6    0.000    0.000    0.000    0.000 traitlets.py:629(get)\n",
      "        1    0.000    0.000    0.266    0.266 {built-in method builtins.exec}\n",
      "        2    0.000    0.000    0.000    0.000 traitlets.py:3631(set)\n",
      "        1    0.000    0.000    0.017    0.017 iostream.py:276(<lambda>)\n",
      "        2    0.000    0.000    0.000    0.000 traitlets.py:3474(validate)\n",
      "        2    0.000    0.000    0.000    0.000 typing.py:1212(__instancecheck__)\n",
      "        2    0.000    0.000    0.000    0.000 typing.py:1483(__subclasscheck__)\n",
      "        8    0.000    0.000    0.000    0.000 {built-in method builtins.hasattr}\n",
      "        1    0.000    0.000    0.266    0.266 <string>:1(<module>)\n",
      "        1    0.000    0.000    0.000    0.000 asyncio.py:225(add_callback)\n",
      "        1    0.000    0.000    0.000    0.000 iostream.py:278(_really_send)\n",
      "        2    0.000    0.000    0.000    0.000 traitlets.py:727(_cross_validate)\n",
      "        1    0.000    0.000    0.018    0.018 zmqstream.py:607(_handle_events)\n",
      "        2    0.000    0.000    0.000    0.000 queue.py:97(empty)\n",
      "        1    0.000    0.000    0.000    0.000 threading.py:311(_acquire_restore)\n",
      "        2    0.000    0.000    0.000    0.000 traitlets.py:3624(validate_elements)\n",
      "        1    0.000    0.000    0.000    0.000 traitlets.py:1512(_notify_trait)\n",
      "        1    0.000    0.000    0.000    0.000 inspect.py:2886(args)\n",
      "        3    0.000    0.000    0.000    0.000 <frozen importlib._bootstrap>:1390(_handle_fromlist)\n",
      "        1    0.000    0.000    0.000    0.000 {method 'copy' of 'list' objects}\n",
      "        3    0.000    0.000    0.000    0.000 typing.py:392(inner)\n",
      "        1    0.000    0.000    0.000    0.000 traitlets.py:1523(notify_change)\n",
      "        1    0.000    0.000    0.017    0.017 history.py:833(_writeout_input_cache)\n",
      "        1    0.000    0.000    0.000    0.000 base_events.py:814(_call_soon)\n",
      "        1    0.000    0.000    0.000    0.000 {method 'poll' of 'select.epoll' objects}\n",
      "        2    0.000    0.000    0.000    0.000 traitlets.py:708(__set__)\n",
      "        1    0.000    0.000    0.000    0.000 selectors.py:451(select)\n",
      "        1    0.000    0.000    0.017    0.017 zmqstream.py:580(_run_callback)\n",
      "       23    0.000    0.000    0.000    0.000 typing.py:2173(cast)\n",
      "        2    0.000    0.000    0.000    0.000 threading.py:302(__exit__)\n",
      "        1    0.000    0.000    0.000    0.000 threading.py:627(clear)\n",
      "        2    0.000    0.000    0.000    0.000 {built-in method builtins.issubclass}\n",
      "        6    0.000    0.000    0.000    0.000 {built-in method builtins.next}\n",
      "        1    0.000    0.000    0.000    0.000 inspect.py:2909(kwargs)\n",
      "        2    0.000    0.000    0.000    0.000 {built-in method _abc._abc_subclasscheck}\n",
      "        2    0.000    0.000    0.000    0.000 traitlets.py:2304(validate)\n",
      "        1    0.000    0.000    0.000    0.000 history.py:839(_writeout_output_cache)\n",
      "        6    0.000    0.000    0.000    0.000 {method '__exit__' of '_thread.lock' objects}\n",
      "        1    0.000    0.000    0.017    0.017 iostream.py:157(_handle_event)\n",
      "        1    0.000    0.000    0.017    0.017 history.py:55(only_when_enabled)\n",
      "        3    0.000    0.000    0.000    0.000 {method 'acquire' of '_thread.lock' objects}\n",
      "        3    0.000    0.000    0.000    0.000 {built-in method builtins.getattr}\n",
      "        1    0.000    0.000    0.000    0.000 events.py:36(__init__)\n",
      "        1    0.000    0.000    0.000    0.000 threading.py:308(_release_save)\n",
      "        2    0.000    0.000    0.000    0.000 zmqstream.py:566(sending)\n",
      "        3    0.000    0.000    0.000    0.000 {built-in method builtins.max}\n",
      "        2    0.000    0.000    0.000    0.000 base_events.py:734(time)\n",
      "        1    0.000    0.000    0.018    0.018 zmqstream.py:718(<lambda>)\n",
      "        2    0.000    0.000    0.000    0.000 typing.py:1276(__hash__)\n",
      "        1    0.000    0.000    0.000    0.000 base_events.py:785(call_soon)\n",
      "        2    0.000    0.000    0.000    0.000 <frozen abc>:121(__subclasscheck__)\n",
      "        4    0.000    0.000    0.000    0.000 {method 'get' of 'dict' objects}\n",
      "        1    0.000    0.000    0.017    0.017 zmqstream.py:648(_handle_recv)\n",
      "        3    0.000    0.000    0.000    0.000 {method 'items' of 'mappingproxy' objects}\n",
      "       10    0.000    0.000    0.000    0.000 inspect.py:2798(kind)\n",
      "        3    0.000    0.000    0.000    0.000 {method 'upper' of 'str' objects}\n",
      "        4    0.000    0.000    0.000    0.000 {method 'append' of 'list' objects}\n",
      "        1    0.000    0.000    0.000    0.000 iostream.py:213(_is_master_process)\n",
      "        2    0.000    0.000    0.000    0.000 {method '__enter__' of '_thread.lock' objects}\n",
      "        2    0.000    0.000    0.000    0.000 traitlets.py:3486(validate_elements)\n",
      "        1    0.000    0.000    0.000    0.000 iostream.py:216(_check_mp_mode)\n",
      "        2    0.000    0.000    0.000    0.000 queue.py:209(_qsize)\n",
      "        1    0.000    0.000    0.017    0.017 decorator.py:229(fun)\n",
      "        1    0.000    0.000    0.000    0.000 {built-in method _asyncio.get_running_loop}\n",
      "        2    0.000    0.000    0.000    0.000 {built-in method time.monotonic}\n",
      "        1    0.000    0.000    0.000    0.000 {built-in method posix.getpid}\n",
      "        1    0.000    0.000    0.000    0.000 {method 'values' of 'mappingproxy' objects}\n",
      "        1    0.000    0.000    0.000    0.000 {built-in method _thread.allocate_lock}\n",
      "        2    0.000    0.000    0.000    0.000 {built-in method builtins.iter}\n",
      "        4    0.000    0.000    0.000    0.000 inspect.py:3079(parameters)\n",
      "        1    0.000    0.000    0.000    0.000 {built-in method math.ceil}\n",
      "        1    0.000    0.000    0.000    0.000 threading.py:314(_is_owned)\n",
      "        1    0.000    0.000    0.000    0.000 {built-in method builtins.min}\n",
      "        3    0.000    0.000    0.000    0.000 zmqstream.py:562(receiving)\n",
      "        2    0.000    0.000    0.000    0.000 {method 'append' of 'collections.deque' objects}\n",
      "        2    0.000    0.000    0.000    0.000 {method 'popleft' of 'collections.deque' objects}\n",
      "        4    0.000    0.000    0.000    0.000 inspect.py:2786(name)\n",
      "        2    0.000    0.000    0.000    0.000 {method 'extend' of 'list' objects}\n",
      "        1    0.000    0.000    0.000    0.000 {built-in method _contextvars.copy_context}\n",
      "        2    0.000    0.000    0.000    0.000 {built-in method builtins.hash}\n",
      "        1    0.000    0.000    0.000    0.000 {method 'release' of '_thread.lock' objects}\n",
      "        1    0.000    0.000    0.000    0.000 inspect.py:2878(__init__)\n",
      "        1    0.000    0.000    0.000    0.000 selector_events.py:750(_process_events)\n",
      "        1    0.000    0.000    0.000    0.000 base_events.py:539(_check_closed)\n",
      "        1    0.000    0.000    0.000    0.000 iostream.py:255(closed)\n",
      "        1    0.000    0.000    0.000    0.000 base_events.py:2005(get_debug)"
     ]
    }
   ],
   "source": [
    "%%prun\n",
    "bubble(test2)"
   ]
  },
  {
   "cell_type": "markdown",
   "metadata": {},
   "source": [
    "### N = 10000"
   ]
  },
  {
   "cell_type": "code",
   "execution_count": 25,
   "metadata": {},
   "outputs": [
    {
     "name": "stdout",
     "output_type": "stream",
     "text": [
      " "
     ]
    },
    {
     "name": "stdout",
     "output_type": "stream",
     "text": [
      "         24861905 function calls (24861877 primitive calls) in 16.951 seconds\n",
      "\n",
      "   Ordered by: internal time\n",
      "\n",
      "   ncalls  tottime  percall  cumtime  percall filename:lineno(function)\n",
      "      6/1    7.010    1.168    0.000    0.000 selectors.py:451(select)\n",
      "      6/1    5.039    0.840    0.000    0.000 {method 'poll' of 'select.epoll' objects}\n",
      " 24816264    4.672    0.000    4.672    0.000 1972538615.py:2(swap)\n",
      "        1    0.163    0.163    0.238    0.238 4003973377.py:1(bubble)\n",
      "        2    0.022    0.011    0.033    0.017 iostream.py:276(<lambda>)\n",
      "     9999    0.009    0.000    0.015    0.000 random.py:242(_randbelow_with_getrandbits)\n",
      "        2    0.006    0.003    0.006    0.003 {method '__exit__' of 'sqlite3.Connection' objects}\n",
      "       14    0.005    0.000    0.005    0.000 socket.py:621(send)\n",
      "        1    0.005    0.005    0.005    0.005 {method 'send' of '_socket.socket' objects}\n",
      "    14754    0.003    0.000    0.003    0.000 {method 'getrandbits' of '_random.Random' objects}\n",
      "        1    0.003    0.003    0.011    0.011 zmqstream.py:452(flush)\n",
      "        1    0.003    0.003    0.010    0.010 random.py:350(shuffle)\n",
      "     9999    0.003    0.000    0.003    0.000 {method 'bit_length' of 'int' objects}\n",
      "    10036    0.002    0.000    0.002    0.000 {built-in method builtins.len}\n",
      "        1    0.001    0.001    0.043    0.043 decorator.py:229(fun)\n",
      "        2    0.001    0.000    0.001    0.000 {method 'recv' of '_socket.socket' objects}\n",
      "      9/6    0.000    0.000    0.035    0.006 {method 'run' of '_contextvars.Context' objects}\n",
      "        1    0.000    0.000    0.042    0.042 history.py:55(only_when_enabled)\n",
      "      2/1    0.000    0.000    0.239    0.239 <string>:1(<module>)\n",
      "        7    0.000    0.000   26.696    3.814 base_events.py:1910(_run_once)\n",
      "       72    0.000    0.000    0.000    0.000 enum.py:1544(_get_value)\n",
      "        1    0.000    0.000    0.000    0.000 {method 'disable' of '_lsprof.Profiler' objects}\n",
      "       16    0.000    0.000    0.000    0.000 enum.py:1551(__or__)\n",
      "      2/1    0.000    0.000    0.239    0.239 {built-in method builtins.exec}\n",
      "        5    0.000    0.000    0.000    0.000 attrsettr.py:65(_get_attr_opt)\n",
      "  152/148    0.000    0.000    0.000    0.000 {built-in method builtins.isinstance}\n",
      "      9/6    0.000    0.000    0.035    0.006 events.py:86(_run)\n",
      "        5    0.000    0.000    0.000    0.000 attrsettr.py:42(__getattr__)\n",
      "       31    0.000    0.000    0.000    0.000 enum.py:726(__call__)\n",
      "        2    0.000    0.000    0.033    0.017 zmqstream.py:580(_run_callback)\n",
      "        8    0.000    0.000    0.000    0.000 enum.py:1562(__and__)\n",
      "        2    0.000    0.000    0.000    0.000 socket.py:777(recv_multipart)\n",
      "        5    0.000    0.000    0.000    0.000 base_events.py:814(_call_soon)\n",
      "        2    0.000    0.000    0.000    0.000 iostream.py:127(_event_pipe_gc)\n",
      "       31    0.000    0.000    0.000    0.000 enum.py:1129(__new__)\n",
      "        1    0.000    0.000    0.000    0.000 poll.py:78(poll)\n",
      "        2    0.000    0.000    0.006    0.003 socket.py:698(send_multipart)\n",
      "        1    0.000    0.000    0.005    0.005 kernelbase.py:302(poll_control_queue)\n",
      "        4    0.000    0.000    0.000    0.000 tasks.py:653(sleep)\n",
      "        2    0.000    0.000    0.000    0.000 iostream.py:118(_run_event_pipe_gc)\n",
      "        7    0.000    0.000    0.000    0.000 events.py:36(__init__)\n",
      "        1    0.000    0.000    0.005    0.005 _base.py:537(set_result)\n",
      "        3    0.000    0.000    0.000    0.000 zmqstream.py:687(_rebuild_io_state)\n",
      "        6    0.000    0.000    0.000    0.000 threading.py:1220(is_alive)\n",
      "        1    0.000    0.000    0.000    0.000 inspect.py:3123(_bind)\n",
      "        4    0.000    0.000    0.000    0.000 queue.py:97(empty)\n",
      "        1    0.000    0.000    0.000    0.000 {method 'execute' of 'sqlite3.Connection' objects}\n",
      "       13    0.000    0.000    0.000    0.000 base_events.py:734(time)\n",
      "        6    0.000    0.000    0.000    0.000 typing.py:392(inner)\n",
      "        1    0.000    0.000    0.011    0.011 kernelbase.py:324(_flush)\n",
      "        1    0.000    0.000    0.000    0.000 {method 'copy' of 'list' objects}\n",
      "        1    0.000    0.000    0.006    0.006 history.py:833(_writeout_input_cache)\n",
      "       11    0.000    0.000    0.000    0.000 {built-in method builtins.max}\n",
      "        1    0.000    0.000    0.007    0.007 history.py:845(writeout_cache)\n",
      "        2    0.000    0.000    0.000    0.000 base_events.py:767(call_at)\n",
      "        2    0.000    0.000    0.000    0.000 events.py:155(cancel)\n",
      "        2    0.000    0.000    0.000    0.000 base_events.py:743(call_later)\n",
      "        1    0.000    0.000    0.000    0.000 queues.py:225(get)\n",
      "        3    0.000    0.000    0.000    0.000 zmqstream.py:710(_update_handler)\n",
      "        8    0.000    0.000    0.000    0.000 traitlets.py:676(__get__)\n",
      "        4    0.000    0.000    0.000    0.000 {method 'set_result' of '_asyncio.Future' objects}\n",
      "        5    0.000    0.000    0.000    0.000 <frozen importlib._bootstrap>:1390(_handle_fromlist)\n",
      "       13    0.000    0.000    0.000    0.000 {method 'popleft' of 'collections.deque' objects}\n",
      "        1    0.000    0.000    0.000    0.000 queues.py:209(put_nowait)\n",
      "        2    0.000    0.000    0.006    0.003 iostream.py:278(_really_send)\n",
      "        4    0.000    0.000    0.000    0.000 base_events.py:785(call_soon)\n",
      "        8    0.000    0.000    0.000    0.000 selector_events.py:750(_process_events)\n",
      "        2    0.000    0.000    0.034    0.017 zmqstream.py:607(_handle_events)\n",
      "        1    0.000    0.000    0.011    0.011 selector_events.py:129(_read_from_self)\n",
      "        8    0.000    0.000    0.000    0.000 traitlets.py:629(get)\n",
      "        1    0.000    0.000    0.000    0.000 zmqstream.py:491(update_flag)\n",
      "        1    0.000    0.000    0.000    0.000 traitlets.py:1527(_notify_observers)\n",
      "       13    0.000    0.000    0.000    0.000 {built-in method time.monotonic}\n",
      "        1    0.000    0.000    0.000    0.000 queues.py:186(put)\n",
      "        2    0.000    0.000    0.011    0.006 ioloop.py:742(_run_callback)\n",
      "      9/3    0.000    0.000    0.000    0.000 {method 'acquire' of '_thread.lock' objects}\n",
      "        1    0.000    0.000    0.000    0.000 asyncio.py:225(add_callback)\n",
      "        2    0.000    0.000    0.000    0.000 typing.py:1483(__subclasscheck__)\n",
      "        2    0.000    0.000    0.000    0.000 base_events.py:447(create_future)\n",
      "        4    0.000    0.000    0.000    0.000 typing.py:1276(__hash__)\n",
      "        2    0.000    0.000    0.000    0.000 traitlets.py:718(_validate)\n",
      "        2    0.000    0.000    0.000    0.000 traitlets.py:3631(set)\n",
      "        1    0.000    0.000    0.005    0.005 futures.py:394(_call_set_state)\n",
      "       10    0.000    0.000    0.000    0.000 {built-in method builtins.hasattr}\n",
      "        2    0.000    0.000    0.000    0.000 typing.py:1212(__instancecheck__)\n",
      "       12    0.000    0.000    0.000    0.000 {method 'append' of 'collections.deque' objects}\n",
      "        5    0.000    0.000    0.000    0.000 {built-in method builtins.getattr}\n",
      "        2    0.000    0.000    0.000    0.000 queues.py:322(_consume_expired)\n",
      "        1    0.000    0.000    0.010    0.010 147406998.py:3(generate_random_array)\n",
      "        2    0.000    0.000    0.033    0.017 zmqstream.py:648(_handle_recv)\n",
      "        2    0.000    0.000    0.000    0.000 traitlets.py:689(set)\n",
      "        6    0.000    0.000    0.000    0.000 threading.py:1153(_wait_for_tstate_lock)\n",
      "        3    0.000    0.000    0.000    0.000 threading.py:299(__enter__)\n",
      "        4    0.000    0.000    0.000    0.000 zmqstream.py:566(sending)\n",
      "        1    0.000    0.000    0.005    0.005 base_events.py:838(call_soon_threadsafe)\n",
      "        2    0.000    0.000    0.000    0.000 futures.py:311(_set_result_unless_cancelled)\n",
      "        2    0.000    0.000    0.000    0.000 traitlets.py:3474(validate)\n",
      "       10    0.000    0.000    0.000    0.000 {method '__exit__' of '_thread.lock' objects}\n",
      "        1    0.000    0.000    0.000    0.000 threading.py:424(notify_all)\n",
      "        2    0.000    0.000    0.033    0.017 iostream.py:157(_handle_event)\n",
      "        1    0.000    0.000    0.000    0.000 queues.py:256(get_nowait)\n",
      "        2    0.000    0.000    0.000    0.000 events.py:111(__init__)\n",
      "        1    0.000    0.000    0.000    0.000 decorator.py:199(fix)\n",
      "        2    0.000    0.000    0.000    0.000 iostream.py:213(_is_master_process)\n",
      "        2    0.000    0.000    0.000    0.000 traitlets.py:727(_cross_validate)\n",
      "        1    0.000    0.000    0.000    0.000 inspect.py:2939(apply_defaults)\n",
      "        4    0.000    0.000    0.000    0.000 {built-in method _contextvars.copy_context}\n",
      "        1    0.000    0.000    0.000    0.000 concurrent.py:182(future_set_result_unless_cancelled)\n",
      "        2    0.000    0.000    0.000    0.000 {built-in method builtins.issubclass}\n",
      "        1    0.000    0.000    0.000    0.000 queues.py:317(__put_internal)\n",
      "        2    0.000    0.000    0.000    0.000 {built-in method posix.getpid}\n",
      "        3    0.000    0.000    0.000    0.000 {built-in method builtins.min}\n",
      "        2    0.000    0.000    0.000    0.000 traitlets.py:3624(validate_elements)\n",
      "       13    0.000    0.000    0.000    0.000 base_events.py:2005(get_debug)\n",
      "        5    0.000    0.000    0.000    0.000 {method 'upper' of 'str' objects}\n",
      "        2    0.000    0.000    0.000    0.000 base_events.py:1895(_add_callback)\n",
      "        1    0.000    0.000    0.005    0.005 _base.py:337(_invoke_callbacks)\n",
      "        1    0.000    0.000    0.034    0.034 asyncio.py:200(_handle_events)\n",
      "       28    0.000    0.000    0.000    0.000 typing.py:2173(cast)\n",
      "        3    0.000    0.000    0.000    0.000 threading.py:302(__exit__)\n",
      "        1    0.000    0.000    0.005    0.005 selector_events.py:141(_write_to_self)\n",
      "        4    0.000    0.000    0.000    0.000 queue.py:209(_qsize)\n",
      "        6    0.000    0.000    0.000    0.000 {method 'append' of 'list' objects}\n",
      "        2    0.000    0.000    0.000    0.000 iostream.py:216(_check_mp_mode)\n",
      "        3    0.000    0.000    0.000    0.000 {built-in method _asyncio.get_running_loop}\n",
      "        1    0.000    0.000    0.000    0.000 threading.py:311(_acquire_restore)\n",
      "        2    0.000    0.000    0.000    0.000 traitlets.py:708(__set__)\n",
      "        1    0.000    0.000    0.000    0.000 inspect.py:2886(args)\n",
      "        3    0.000    0.000    0.000    0.000 {built-in method math.ceil}\n",
      "        1    0.000    0.000    0.000    0.000 traitlets.py:1512(_notify_trait)\n",
      "        1    0.000    0.000    0.000    0.000 traitlets.py:1523(notify_change)\n",
      "        2    0.000    0.000    0.000    0.000 <frozen abc>:121(__subclasscheck__)\n",
      "        2    0.000    0.000    0.000    0.000 events.py:72(cancel)\n",
      "        7    0.000    0.000    0.000    0.000 base_events.py:539(_check_closed)\n",
      "        1    0.000    0.000    0.000    0.000 threading.py:394(notify)\n",
      "        2    0.000    0.000    0.000    0.000 traitlets.py:2304(validate)\n",
      "        4    0.000    0.000    0.000    0.000 {method 'cancelled' of '_asyncio.Future' objects}\n",
      "        2    0.000    0.000    0.000    0.000 {built-in method _heapq.heappop}\n",
      "        2    0.000    0.000    0.000    0.000 selectors.py:275(_key_from_fd)\n",
      "        1    0.000    0.000    0.000    0.000 unix_events.py:81(_process_self_data)\n",
      "        2    0.000    0.000    0.000    0.000 {built-in method _abc._abc_subclasscheck}\n",
      "        6    0.000    0.000    0.000    0.000 {built-in method builtins.next}\n",
      "        1    0.000    0.000    0.000    0.000 history.py:839(_writeout_output_cache)\n",
      "        1    0.000    0.000    0.000    0.000 threading.py:627(clear)\n",
      "        1    0.000    0.000    0.000    0.000 inspect.py:2909(kwargs)\n",
      "        4    0.000    0.000    0.000    0.000 {built-in method builtins.hash}\n",
      "        5    0.000    0.000    0.000    0.000 zmqstream.py:562(receiving)\n",
      "        1    0.000    0.000    0.000    0.000 poll.py:29(register)\n",
      "        1    0.000    0.000    0.000    0.000 inspect.py:3262(bind)\n",
      "        2    0.000    0.000    0.000    0.000 {built-in method _heapq.heappush}\n",
      "        1    0.000    0.000    0.000    0.000 queues.py:173(qsize)\n",
      "        4    0.000    0.000    0.000    0.000 {method 'get' of 'dict' objects}\n",
      "        6    0.000    0.000    0.000    0.000 threading.py:601(is_set)\n",
      "        1    0.000    0.000    0.000    0.000 threading.py:308(_release_save)\n",
      "        1    0.000    0.000    0.000    0.000 {method '__enter__' of '_thread.RLock' objects}\n",
      "        3    0.000    0.000    0.000    0.000 {method 'items' of 'mappingproxy' objects}\n",
      "        2    0.000    0.000    0.000    0.000 {method 'items' of 'dict' objects}\n",
      "        1    0.000    0.000    0.000    0.000 zmqstream.py:718(<lambda>)\n",
      "       10    0.000    0.000    0.000    0.000 inspect.py:2798(kind)\n",
      "        2    0.000    0.000    0.000    0.000 iostream.py:255(closed)\n",
      "        1    0.000    0.000    0.000    0.000 queues.py:312(_put)\n",
      "        2    0.000    0.000    0.000    0.000 traitlets.py:3486(validate_elements)\n",
      "        2    0.000    0.000    0.000    0.000 {method '__enter__' of '_thread.lock' objects}\n",
      "        1    0.000    0.000    0.000    0.000 {method '__exit__' of '_thread.RLock' objects}\n",
      "        1    0.000    0.000    0.000    0.000 queues.py:177(empty)\n",
      "        1    0.000    0.000    0.000    0.000 queues.py:309(_get)\n",
      "        2    0.000    0.000    0.000    0.000 base_events.py:1905(_timer_handle_cancelled)\n",
      "        1    0.000    0.000    0.000    0.000 {method 'done' of '_asyncio.Future' objects}\n",
      "        1    0.000    0.000    0.000    0.000 {method 'values' of 'mappingproxy' objects}\n",
      "        1    0.000    0.000    0.000    0.000 {built-in method _thread.allocate_lock}\n",
      "        2    0.000    0.000    0.000    0.000 {built-in method builtins.iter}\n",
      "        1    0.000    0.000    0.000    0.000 base_events.py:720(is_closed)\n",
      "        2    0.000    0.000    0.000    0.000 {method 'extend' of 'list' objects}\n",
      "        1    0.000    0.000    0.000    0.000 zmqstream.py:683(_check_closed)\n",
      "        4    0.000    0.000    0.000    0.000 inspect.py:2786(name)\n",
      "        1    0.000    0.000    0.000    0.000 {method '_is_owned' of '_thread.RLock' objects}\n",
      "        4    0.000    0.000    0.000    0.000 inspect.py:3079(parameters)\n",
      "        1    0.000    0.000    0.000    0.000 locks.py:224(clear)\n",
      "        1    0.000    0.000    0.000    0.000 threading.py:314(_is_owned)\n",
      "        1    0.000    0.000    0.000    0.000 queues.py:59(_set_timeout)\n",
      "        1    0.000    0.000    0.000    0.000 inspect.py:2878(__init__)\n",
      "        1    0.000    0.000    0.000    0.000 {method 'release' of '_thread.lock' objects}"
     ]
    }
   ],
   "source": [
    "%%prun\n",
    "bubble(generate_random_array(N=10000))"
   ]
  },
  {
   "cell_type": "code",
   "execution_count": 26,
   "metadata": {},
   "outputs": [],
   "source": [
    "test = [x for x in range(0, 10000)]"
   ]
  },
  {
   "cell_type": "code",
   "execution_count": 27,
   "metadata": {},
   "outputs": [
    {
     "name": "stdout",
     "output_type": "stream",
     "text": [
      " "
     ]
    },
    {
     "name": "stdout",
     "output_type": "stream",
     "text": [
      "         10810 function calls (10790 primitive calls) in 3.932 seconds\n",
      "\n",
      "   Ordered by: internal time\n",
      "\n",
      "   ncalls  tottime  percall  cumtime  percall filename:lineno(function)\n",
      "      4/1    3.643    0.911    0.000    0.000 {method 'poll' of 'select.epoll' objects}\n",
      "        1    0.262    0.262    0.263    0.263 4003973377.py:1(bubble)\n",
      "        2    0.006    0.003    0.006    0.003 {method '__exit__' of 'sqlite3.Connection' objects}\n",
      "        5    0.006    0.001    3.666    0.733 base_events.py:1910(_run_once)\n",
      "       14    0.005    0.000    0.005    0.000 socket.py:621(send)\n",
      "    10029    0.002    0.000    0.002    0.000 {built-in method builtins.len}\n",
      "      2/1    0.002    0.001    0.263    0.263 <string>:1(<module>)\n",
      "        2    0.000    0.000    0.019    0.010 iostream.py:276(<lambda>)\n",
      "        1    0.000    0.000    0.000    0.000 {method 'disable' of '_lsprof.Profiler' objects}\n",
      "       72    0.000    0.000    0.000    0.000 enum.py:1544(_get_value)\n",
      "  152/148    0.000    0.000    0.000    0.000 {built-in method builtins.isinstance}\n",
      "        2    0.000    0.000    0.014    0.007 zmqstream.py:607(_handle_events)\n",
      "        5    0.000    0.000    0.000    0.000 attrsettr.py:65(_get_attr_opt)\n",
      "       16    0.000    0.000    0.000    0.000 enum.py:1551(__or__)\n",
      "      2/1    0.000    0.000    0.263    0.263 {built-in method builtins.exec}\n",
      "      7/5    0.000    0.000    0.015    0.003 {method 'run' of '_contextvars.Context' objects}\n",
      "      8/5    0.000    0.000    0.015    0.003 events.py:86(_run)\n",
      "        5    0.000    0.000    0.000    0.000 attrsettr.py:42(__getattr__)\n",
      "       31    0.000    0.000    0.000    0.000 enum.py:726(__call__)\n",
      "        8    0.000    0.000    0.000    0.000 enum.py:1562(__and__)\n",
      "        2    0.000    0.000    0.000    0.000 {method 'recv' of '_socket.socket' objects}\n",
      "        1    0.000    0.000    0.000    0.000 selector_events.py:129(_read_from_self)\n",
      "        1    0.000    0.000    0.000    0.000 {method 'copy' of 'list' objects}\n",
      "        1    0.000    0.000    0.000    0.000 inspect.py:3123(_bind)\n",
      "        2    0.000    0.000    0.000    0.000 socket.py:777(recv_multipart)\n",
      "        1    0.000    0.000    0.007    0.007 history.py:833(_writeout_input_cache)\n",
      "        6    0.000    0.000    0.000    0.000 typing.py:392(inner)\n",
      "        1    0.000    0.000    0.000    0.000 {method 'execute' of 'sqlite3.Connection' objects}\n",
      "      4/1    0.000    0.000    0.000    0.000 selectors.py:451(select)\n",
      "       31    0.000    0.000    0.000    0.000 enum.py:1129(__new__)\n",
      "        1    0.000    0.000    0.000    0.000 kernelbase.py:302(poll_control_queue)\n",
      "        1    0.000    0.000    0.000    0.000 poll.py:78(poll)\n",
      "        3    0.000    0.000    0.000    0.000 zmqstream.py:710(_update_handler)\n",
      "        3    0.000    0.000    0.000    0.000 zmqstream.py:687(_rebuild_io_state)\n",
      "        4    0.000    0.000    0.000    0.000 base_events.py:814(_call_soon)\n",
      "        8    0.000    0.000    0.000    0.000 traitlets.py:676(__get__)\n",
      "        1    0.000    0.000    0.000    0.000 iostream.py:127(_event_pipe_gc)\n",
      "        5    0.000    0.000    0.000    0.000 events.py:36(__init__)\n",
      "        4    0.000    0.000    0.000    0.000 queue.py:97(empty)\n",
      "        1    0.000    0.000    0.000    0.000 zmqstream.py:452(flush)\n",
      "        1    0.000    0.000    0.007    0.007 history.py:845(writeout_cache)\n",
      "        1    0.000    0.000    0.001    0.001 kernelbase.py:324(_flush)\n",
      "        2    0.000    0.000    0.000    0.000 tasks.py:653(sleep)\n",
      "        2    0.000    0.000    0.000    0.000 traitlets.py:3474(validate)\n",
      "        1    0.000    0.000    0.000    0.000 decorator.py:199(fix)\n",
      "        1    0.000    0.000    0.013    0.013 decorator.py:229(fun)\n",
      "        1    0.000    0.000    0.000    0.000 iostream.py:118(_run_event_pipe_gc)\n",
      "        8    0.000    0.000    0.000    0.000 traitlets.py:629(get)\n",
      "        5    0.000    0.000    0.000    0.000 <frozen importlib._bootstrap>:1390(_handle_fromlist)\n",
      "        2    0.000    0.000    0.013    0.007 zmqstream.py:580(_run_callback)\n",
      "        9    0.000    0.000    0.000    0.000 base_events.py:734(time)\n",
      "        2    0.000    0.000    0.005    0.003 socket.py:698(send_multipart)\n",
      "        1    0.000    0.000    0.000    0.000 queues.py:225(get)\n",
      "        6    0.000    0.000    0.000    0.000 {method 'append' of 'list' objects}\n",
      "        1    0.000    0.000    0.000    0.000 queues.py:209(put_nowait)\n",
      "        1    0.000    0.000    0.000    0.000 traitlets.py:1527(_notify_observers)\n",
      "        1    0.000    0.000    0.000    0.000 _base.py:537(set_result)\n",
      "        2    0.000    0.000    0.005    0.003 iostream.py:278(_really_send)\n",
      "        8    0.000    0.000    0.000    0.000 {built-in method builtins.max}\n",
      "        4    0.000    0.000    0.000    0.000 typing.py:1276(__hash__)\n",
      "        3    0.000    0.000    0.000    0.000 threading.py:1220(is_alive)\n",
      "        1    0.000    0.000    0.000    0.000 inspect.py:3262(bind)\n",
      "        1    0.000    0.000    0.000    0.000 {method 'send' of '_socket.socket' objects}\n",
      "        6    0.000    0.000    0.000    0.000 selector_events.py:750(_process_events)\n",
      "        1    0.000    0.000    0.000    0.000 asyncio.py:225(add_callback)\n",
      "        2    0.000    0.000    0.000    0.000 typing.py:1212(__instancecheck__)\n",
      "        2    0.000    0.000    0.000    0.000 typing.py:1483(__subclasscheck__)\n",
      "        1    0.000    0.000    0.000    0.000 zmqstream.py:491(update_flag)\n",
      "        1    0.000    0.000    0.000    0.000 base_events.py:767(call_at)\n",
      "        2    0.000    0.000    0.013    0.007 iostream.py:157(_handle_event)\n",
      "        3    0.000    0.000    0.000    0.000 {method 'set_result' of '_asyncio.Future' objects}\n",
      "        2    0.000    0.000    0.000    0.000 traitlets.py:718(_validate)\n",
      "        1    0.000    0.000    0.000    0.000 inspect.py:2939(apply_defaults)\n",
      "        3    0.000    0.000    0.000    0.000 base_events.py:785(call_soon)\n",
      "        1    0.000    0.000    0.000    0.000 queues.py:186(put)\n",
      "        1    0.000    0.000    0.000    0.000 events.py:155(cancel)\n",
      "        2    0.000    0.000    0.013    0.007 zmqstream.py:648(_handle_recv)\n",
      "        1    0.000    0.000    0.000    0.000 base_events.py:743(call_later)\n",
      "        3    0.000    0.000    0.000    0.000 threading.py:299(__enter__)\n",
      "       10    0.000    0.000    0.000    0.000 {built-in method builtins.hasattr}\n",
      "        2    0.000    0.000    0.000    0.000 traitlets.py:689(set)\n",
      "        1    0.000    0.000    0.000    0.000 threading.py:311(_acquire_restore)\n",
      "      6/3    0.000    0.000    0.000    0.000 {method 'acquire' of '_thread.lock' objects}\n",
      "        2    0.000    0.000    0.000    0.000 traitlets.py:3631(set)\n",
      "       11    0.000    0.000    0.000    0.000 {method 'popleft' of 'collections.deque' objects}\n",
      "        1    0.000    0.000    0.000    0.000 inspect.py:2886(args)\n",
      "        2    0.000    0.000    0.001    0.000 ioloop.py:742(_run_callback)\n",
      "        5    0.000    0.000    0.000    0.000 {built-in method builtins.getattr}\n",
      "        1    0.000    0.000    0.000    0.000 futures.py:394(_call_set_state)\n",
      "        9    0.000    0.000    0.000    0.000 {built-in method time.monotonic}\n",
      "        2    0.000    0.000    0.000    0.000 traitlets.py:3624(validate_elements)\n",
      "        1    0.000    0.000    0.000    0.000 threading.py:424(notify_all)\n",
      "        4    0.000    0.000    0.000    0.000 zmqstream.py:566(sending)\n",
      "        2    0.000    0.000    0.000    0.000 traitlets.py:727(_cross_validate)\n",
      "        3    0.000    0.000    0.000    0.000 threading.py:302(__exit__)\n",
      "       28    0.000    0.000    0.000    0.000 typing.py:2173(cast)\n",
      "        1    0.000    0.000    0.014    0.014 asyncio.py:200(_handle_events)\n",
      "       10    0.000    0.000    0.000    0.000 {method 'append' of 'collections.deque' objects}\n",
      "        1    0.000    0.000    0.000    0.000 base_events.py:838(call_soon_threadsafe)\n",
      "        9    0.000    0.000    0.000    0.000 {method '__exit__' of '_thread.lock' objects}\n",
      "        2    0.000    0.000    0.000    0.000 {built-in method builtins.issubclass}\n",
      "        2    0.000    0.000    0.000    0.000 queues.py:322(_consume_expired)\n",
      "        1    0.000    0.000    0.000    0.000 traitlets.py:1512(_notify_trait)\n",
      "        2    0.000    0.000    0.000    0.000 iostream.py:213(_is_master_process)\n",
      "        1    0.000    0.000    0.000    0.000 queues.py:256(get_nowait)\n",
      "        2    0.000    0.000    0.000    0.000 base_events.py:1895(_add_callback)\n",
      "        1    0.000    0.000    0.000    0.000 traitlets.py:1523(notify_change)\n",
      "        5    0.000    0.000    0.000    0.000 {method 'upper' of 'str' objects}\n",
      "        1    0.000    0.000    0.007    0.007 history.py:55(only_when_enabled)\n",
      "        1    0.000    0.000    0.000    0.000 _base.py:337(_invoke_callbacks)\n",
      "        1    0.000    0.000    0.000    0.000 base_events.py:447(create_future)\n",
      "        1    0.000    0.000    0.000    0.000 concurrent.py:182(future_set_result_unless_cancelled)\n",
      "        2    0.000    0.000    0.000    0.000 {built-in method posix.getpid}\n",
      "        6    0.000    0.000    0.000    0.000 {built-in method builtins.next}\n",
      "        1    0.000    0.000    0.000    0.000 queues.py:317(__put_internal)\n",
      "        1    0.000    0.000    0.000    0.000 threading.py:627(clear)\n",
      "        2    0.000    0.000    0.000    0.000 traitlets.py:2304(validate)\n",
      "        2    0.000    0.000    0.000    0.000 iostream.py:216(_check_mp_mode)\n",
      "        2    0.000    0.000    0.000    0.000 traitlets.py:708(__set__)\n",
      "        3    0.000    0.000    0.000    0.000 threading.py:1153(_wait_for_tstate_lock)\n",
      "        1    0.000    0.000    0.000    0.000 inspect.py:2909(kwargs)\n",
      "        2    0.000    0.000    0.000    0.000 <frozen abc>:121(__subclasscheck__)\n",
      "        4    0.000    0.000    0.000    0.000 queue.py:209(_qsize)\n",
      "        1    0.000    0.000    0.000    0.000 selector_events.py:141(_write_to_self)\n",
      "        1    0.000    0.000    0.000    0.000 futures.py:311(_set_result_unless_cancelled)\n",
      "        3    0.000    0.000    0.000    0.000 {built-in method _contextvars.copy_context}\n",
      "        2    0.000    0.000    0.000    0.000 {built-in method builtins.min}\n",
      "        3    0.000    0.000    0.000    0.000 {method 'items' of 'mappingproxy' objects}\n",
      "        9    0.000    0.000    0.000    0.000 base_events.py:2005(get_debug)\n",
      "        2    0.000    0.000    0.000    0.000 {built-in method _abc._abc_subclasscheck}\n",
      "        1    0.000    0.000    0.000    0.000 events.py:111(__init__)\n",
      "        1    0.000    0.000    0.000    0.000 threading.py:394(notify)\n",
      "        2    0.000    0.000    0.000    0.000 {built-in method math.ceil}\n",
      "        2    0.000    0.000    0.000    0.000 selectors.py:275(_key_from_fd)\n",
      "        5    0.000    0.000    0.000    0.000 base_events.py:539(_check_closed)\n",
      "        1    0.000    0.000    0.000    0.000 history.py:839(_writeout_output_cache)\n",
      "       10    0.000    0.000    0.000    0.000 inspect.py:2798(kind)\n",
      "        2    0.000    0.000    0.000    0.000 {built-in method _asyncio.get_running_loop}\n",
      "        4    0.000    0.000    0.000    0.000 {built-in method builtins.hash}\n",
      "        5    0.000    0.000    0.000    0.000 zmqstream.py:562(receiving)\n",
      "        1    0.000    0.000    0.000    0.000 unix_events.py:81(_process_self_data)\n",
      "        1    0.000    0.000    0.000    0.000 threading.py:308(_release_save)\n",
      "        4    0.000    0.000    0.000    0.000 {method 'get' of 'dict' objects}\n",
      "        3    0.000    0.000    0.000    0.000 {method 'cancelled' of '_asyncio.Future' objects}\n",
      "        1    0.000    0.000    0.000    0.000 poll.py:29(register)\n",
      "        2    0.000    0.000    0.000    0.000 {method '__enter__' of '_thread.lock' objects}\n",
      "        1    0.000    0.000    0.000    0.000 {method 'values' of 'mappingproxy' objects}\n",
      "        1    0.000    0.000    0.000    0.000 events.py:72(cancel)\n",
      "        2    0.000    0.000    0.000    0.000 {built-in method builtins.iter}\n",
      "        2    0.000    0.000    0.000    0.000 traitlets.py:3486(validate_elements)\n",
      "        1    0.000    0.000    0.000    0.000 zmqstream.py:718(<lambda>)\n",
      "        1    0.000    0.000    0.000    0.000 {method '__enter__' of '_thread.RLock' objects}\n",
      "        1    0.000    0.000    0.000    0.000 queues.py:173(qsize)\n",
      "        1    0.000    0.000    0.000    0.000 {built-in method _heapq.heappop}\n",
      "        2    0.000    0.000    0.000    0.000 iostream.py:255(closed)\n",
      "        4    0.000    0.000    0.000    0.000 inspect.py:3079(parameters)\n",
      "        3    0.000    0.000    0.000    0.000 threading.py:601(is_set)\n",
      "        4    0.000    0.000    0.000    0.000 inspect.py:2786(name)\n",
      "        1    0.000    0.000    0.000    0.000 {built-in method _thread.allocate_lock}\n",
      "        1    0.000    0.000    0.000    0.000 queues.py:312(_put)\n",
      "        1    0.000    0.000    0.000    0.000 queues.py:309(_get)\n",
      "        1    0.000    0.000    0.000    0.000 queues.py:177(empty)\n",
      "        2    0.000    0.000    0.000    0.000 {method 'extend' of 'list' objects}\n",
      "        1    0.000    0.000    0.000    0.000 threading.py:314(_is_owned)\n",
      "        1    0.000    0.000    0.000    0.000 base_events.py:1905(_timer_handle_cancelled)\n",
      "        1    0.000    0.000    0.000    0.000 {built-in method _heapq.heappush}\n",
      "        1    0.000    0.000    0.000    0.000 {method '__exit__' of '_thread.RLock' objects}\n",
      "        1    0.000    0.000    0.000    0.000 {method 'done' of '_asyncio.Future' objects}\n",
      "        1    0.000    0.000    0.000    0.000 {method 'items' of 'dict' objects}\n",
      "        1    0.000    0.000    0.000    0.000 zmqstream.py:683(_check_closed)\n",
      "        1    0.000    0.000    0.000    0.000 queues.py:59(_set_timeout)\n",
      "        1    0.000    0.000    0.000    0.000 base_events.py:720(is_closed)\n",
      "        1    0.000    0.000    0.000    0.000 {method '_is_owned' of '_thread.RLock' objects}\n",
      "        1    0.000    0.000    0.000    0.000 inspect.py:2878(__init__)\n",
      "        1    0.000    0.000    0.000    0.000 locks.py:224(clear)\n",
      "        1    0.000    0.000    0.000    0.000 {method 'release' of '_thread.lock' objects}"
     ]
    }
   ],
   "source": [
    "%%prun\n",
    "bubble(test)"
   ]
  },
  {
   "cell_type": "code",
   "execution_count": 28,
   "metadata": {},
   "outputs": [],
   "source": [
    "test2 = [x for x in range(10000, 0, -1)]"
   ]
  },
  {
   "cell_type": "code",
   "execution_count": 29,
   "metadata": {},
   "outputs": [
    {
     "name": "stdout",
     "output_type": "stream",
     "text": [
      " "
     ]
    },
    {
     "name": "stdout",
     "output_type": "stream",
     "text": [
      "         50005793 function calls (50005778 primitive calls) in 29.647 seconds\n",
      "\n",
      "   Ordered by: internal time\n",
      "\n",
      "   ncalls  tottime  percall  cumtime  percall filename:lineno(function)\n",
      "        7   12.291    1.756   18.203    2.600 {method 'poll' of 'select.epoll' objects}\n",
      " 49995000    9.560    0.000    9.560    0.000 1972538615.py:2(swap)\n",
      "        7    6.822    0.975   28.218    4.031 selectors.py:451(select)\n",
      "        1    0.942    0.942    1.394    1.394 4003973377.py:1(bubble)\n",
      "        1    0.012    0.012    0.019    0.019 decorator.py:229(fun)\n",
      "        1    0.004    0.004    0.006    0.006 history.py:833(_writeout_input_cache)\n",
      "       14    0.004    0.000    0.005    0.000 socket.py:621(send)\n",
      "        2    0.004    0.002    0.011    0.005 socket.py:698(send_multipart)\n",
      "    10031    0.002    0.000    0.002    0.000 {built-in method builtins.len}\n",
      "        7    0.002    0.000   38.256    5.465 base_events.py:1910(_run_once)\n",
      "        2    0.000    0.000    0.006    0.003 iostream.py:157(_handle_event)\n",
      "        1    0.000    0.000    0.000    0.000 {method 'disable' of '_lsprof.Profiler' objects}\n",
      "        8    0.000    0.000    0.013    0.002 {method 'run' of '_contextvars.Context' objects}\n",
      "       60    0.000    0.000    0.000    0.000 enum.py:1544(_get_value)\n",
      "      2/1    0.000    0.000    1.394    1.394 {built-in method builtins.exec}\n",
      "        3    0.000    0.000    0.000    0.000 iostream.py:127(_event_pipe_gc)\n",
      "        4    0.000    0.000    0.000    0.000 attrsettr.py:65(_get_attr_opt)\n",
      "       14    0.000    0.000    0.000    0.000 enum.py:1551(__or__)\n",
      "  131/127    0.000    0.000    0.000    0.000 {built-in method builtins.isinstance}\n",
      "        1    0.000    0.000    0.000    0.000 {method 'copy' of 'list' objects}\n",
      "      2/1    0.000    0.000    1.394    1.394 <string>:1(<module>)\n",
      "        1    0.000    0.000    0.000    0.000 inspect.py:3123(_bind)\n",
      "        6    0.000    0.000    0.000    0.000 tasks.py:653(sleep)\n",
      "        8    0.000    0.000    0.013    0.002 events.py:86(_run)\n",
      "       26    0.000    0.000    0.000    0.000 enum.py:726(__call__)\n",
      "        4    0.000    0.000    0.000    0.000 attrsettr.py:42(__getattr__)\n",
      "        2    0.000    0.000    0.000    0.000 socket.py:777(recv_multipart)\n",
      "        9    0.000    0.000    0.000    0.000 threading.py:1220(is_alive)\n",
      "        3    0.000    0.000    0.001    0.000 iostream.py:118(_run_event_pipe_gc)\n",
      "        1    0.000    0.000    0.006    0.006 history.py:845(writeout_cache)\n",
      "        1    0.000    0.000    0.000    0.000 {method 'execute' of 'sqlite3.Connection' objects}\n",
      "        7    0.000    0.000    0.000    0.000 events.py:36(__init__)\n",
      "        2    0.000    0.000    0.011    0.005 iostream.py:278(_really_send)\n",
      "        6    0.000    0.000    0.000    0.000 enum.py:1562(__and__)\n",
      "        3    0.000    0.000    0.000    0.000 base_events.py:743(call_later)\n",
      "        3    0.000    0.000    0.000    0.000 base_events.py:767(call_at)\n",
      "        3    0.000    0.000    0.000    0.000 events.py:155(cancel)\n",
      "       26    0.000    0.000    0.000    0.000 enum.py:1129(__new__)\n",
      "       12    0.000    0.000    0.000    0.000 {built-in method builtins.max}\n",
      "       15    0.000    0.000    0.000    0.000 base_events.py:734(time)\n",
      "        4    0.000    0.000    0.000    0.000 base_events.py:814(_call_soon)\n",
      "        3    0.000    0.000    0.000    0.000 events.py:111(__init__)\n",
      "        1    0.000    0.000    0.000    0.000 asyncio.py:225(add_callback)\n",
      "        2    0.000    0.000    0.012    0.006 zmqstream.py:648(_handle_recv)\n",
      "        1    0.000    0.000    0.000    0.000 decorator.py:199(fix)\n",
      "        2    0.000    0.000    0.011    0.005 iostream.py:276(<lambda>)\n",
      "        6    0.000    0.000    0.000    0.000 typing.py:392(inner)\n",
      "     12/3    0.000    0.000    0.000    0.000 {method 'acquire' of '_thread.lock' objects}\n",
      "        6    0.000    0.000    0.000    0.000 traitlets.py:676(__get__)\n",
      "        3    0.000    0.000    0.000    0.000 futures.py:311(_set_result_unless_cancelled)\n",
      "        2    0.000    0.000    0.012    0.006 zmqstream.py:607(_handle_events)\n",
      "        3    0.000    0.000    0.000    0.000 base_events.py:447(create_future)\n",
      "        3    0.000    0.000    0.000    0.000 {method 'set_result' of '_asyncio.Future' objects}\n",
      "        4    0.000    0.000    0.000    0.000 base_events.py:785(call_soon)\n",
      "        1    0.000    0.000    0.000    0.000 inspect.py:3262(bind)\n",
      "        2    0.000    0.000    0.006    0.003 zmqstream.py:580(_run_callback)\n",
      "       15    0.000    0.000    0.000    0.000 {built-in method time.monotonic}\n",
      "        4    0.000    0.000    0.000    0.000 <frozen importlib._bootstrap>:1390(_handle_fromlist)\n",
      "        1    0.000    0.000    0.000    0.000 traitlets.py:1527(_notify_observers)\n",
      "        9    0.000    0.000    0.000    0.000 threading.py:1153(_wait_for_tstate_lock)\n",
      "        8    0.000    0.000    0.000    0.000 selector_events.py:750(_process_events)\n",
      "        1    0.000    0.000    0.000    0.000 inspect.py:2939(apply_defaults)\n",
      "        2    0.000    0.000    0.000    0.000 zmqstream.py:687(_rebuild_io_state)\n",
      "        6    0.000    0.000    0.000    0.000 traitlets.py:629(get)\n",
      "        1    0.000    0.000    0.012    0.012 asyncio.py:200(_handle_events)\n",
      "        2    0.000    0.000    0.000    0.000 zmqstream.py:710(_update_handler)\n",
      "        2    0.000    0.000    0.000    0.000 typing.py:1483(__subclasscheck__)\n",
      "        1    0.000    0.000    0.000    0.000 threading.py:311(_acquire_restore)\n",
      "       10    0.000    0.000    0.000    0.000 {method 'popleft' of 'collections.deque' objects}\n",
      "        2    0.000    0.000    0.000    0.000 traitlets.py:718(_validate)\n",
      "        1    0.000    0.000    0.000    0.000 inspect.py:2886(args)\n",
      "        2    0.000    0.000    0.000    0.000 traitlets.py:3631(set)\n",
      "        4    0.000    0.000    0.000    0.000 typing.py:1276(__hash__)\n",
      "        2    0.000    0.000    0.000    0.000 {method '__exit__' of 'sqlite3.Connection' objects}\n",
      "        2    0.000    0.000    0.000    0.000 typing.py:1212(__instancecheck__)\n",
      "        2    0.000    0.000    0.000    0.000 traitlets.py:689(set)\n",
      "        9    0.000    0.000    0.000    0.000 {built-in method builtins.hasattr}\n",
      "        1    0.000    0.000    0.006    0.006 history.py:55(only_when_enabled)\n",
      "        9    0.000    0.000    0.000    0.000 {method '__exit__' of '_thread.lock' objects}\n",
      "        9    0.000    0.000    0.000    0.000 {method 'append' of 'collections.deque' objects}\n",
      "        2    0.000    0.000    0.000    0.000 traitlets.py:3474(validate)\n",
      "        2    0.000    0.000    0.000    0.000 queue.py:97(empty)\n",
      "        4    0.000    0.000    0.000    0.000 {built-in method builtins.min}\n",
      "        3    0.000    0.000    0.000    0.000 events.py:72(cancel)\n",
      "        2    0.000    0.000    0.000    0.000 threading.py:302(__exit__)\n",
      "        2    0.000    0.000    0.000    0.000 {built-in method posix.getpid}\n",
      "        4    0.000    0.000    0.000    0.000 {built-in method builtins.getattr}\n",
      "        2    0.000    0.000    0.000    0.000 traitlets.py:727(_cross_validate)\n",
      "        4    0.000    0.000    0.000    0.000 {built-in method _asyncio.get_running_loop}\n",
      "        2    0.000    0.000    0.000    0.000 traitlets.py:3624(validate_elements)\n",
      "        4    0.000    0.000    0.000    0.000 {built-in method math.ceil}\n",
      "        6    0.000    0.000    0.000    0.000 {built-in method builtins.next}\n",
      "        2    0.000    0.000    0.000    0.000 iostream.py:213(_is_master_process)\n",
      "       13    0.000    0.000    0.000    0.000 base_events.py:2005(get_debug)\n",
      "        1    0.000    0.000    0.000    0.000 threading.py:627(clear)\n",
      "        4    0.000    0.000    0.000    0.000 {built-in method _contextvars.copy_context}\n",
      "       24    0.000    0.000    0.000    0.000 typing.py:2173(cast)\n",
      "        2    0.000    0.000    0.000    0.000 {built-in method builtins.issubclass}\n",
      "        2    0.000    0.000    0.000    0.000 threading.py:299(__enter__)\n",
      "        2    0.000    0.000    0.000    0.000 traitlets.py:708(__set__)\n",
      "        5    0.000    0.000    0.000    0.000 {method 'append' of 'list' objects}\n",
      "        1    0.000    0.000    0.000    0.000 inspect.py:2909(kwargs)\n",
      "        1    0.000    0.000    0.000    0.000 traitlets.py:1512(_notify_trait)\n",
      "        3    0.000    0.000    0.000    0.000 {built-in method _heapq.heappop}\n",
      "        2    0.000    0.000    0.000    0.000 iostream.py:216(_check_mp_mode)\n",
      "        3    0.000    0.000    0.000    0.000 {method 'items' of 'mappingproxy' objects}\n",
      "        1    0.000    0.000    0.000    0.000 traitlets.py:1523(notify_change)\n",
      "        2    0.000    0.000    0.000    0.000 zmqstream.py:566(sending)\n",
      "        1    0.000    0.000    0.000    0.000 base_events.py:1895(_add_callback)\n",
      "        4    0.000    0.000    0.000    0.000 {method 'upper' of 'str' objects}\n",
      "        9    0.000    0.000    0.000    0.000 threading.py:601(is_set)\n",
      "        2    0.000    0.000    0.000    0.000 <frozen abc>:121(__subclasscheck__)\n",
      "        2    0.000    0.000    0.000    0.000 traitlets.py:2304(validate)\n",
      "        3    0.000    0.000    0.000    0.000 {built-in method _heapq.heappush}\n",
      "        7    0.000    0.000    0.000    0.000 base_events.py:539(_check_closed)\n",
      "        2    0.000    0.000    0.000    0.000 {built-in method _abc._abc_subclasscheck}\n",
      "        3    0.000    0.000    0.000    0.000 {method 'items' of 'dict' objects}\n",
      "       10    0.000    0.000    0.000    0.000 inspect.py:2798(kind)\n",
      "        3    0.000    0.000    0.000    0.000 {method 'cancelled' of '_asyncio.Future' objects}\n",
      "        1    0.000    0.000    0.000    0.000 history.py:839(_writeout_output_cache)\n",
      "        1    0.000    0.000    0.000    0.000 ioloop.py:742(_run_callback)\n",
      "        4    0.000    0.000    0.000    0.000 {built-in method builtins.hash}\n",
      "        1    0.000    0.000    0.000    0.000 threading.py:308(_release_save)\n",
      "        2    0.000    0.000    0.000    0.000 queue.py:209(_qsize)\n",
      "        1    0.000    0.000    0.000    0.000 {method 'values' of 'mappingproxy' objects}\n",
      "        4    0.000    0.000    0.000    0.000 {method 'get' of 'dict' objects}\n",
      "        2    0.000    0.000    0.000    0.000 {method '__enter__' of '_thread.lock' objects}\n",
      "        3    0.000    0.000    0.000    0.000 base_events.py:1905(_timer_handle_cancelled)\n",
      "        4    0.000    0.000    0.000    0.000 zmqstream.py:562(receiving)\n",
      "        4    0.000    0.000    0.000    0.000 inspect.py:3079(parameters)\n",
      "        1    0.000    0.000    0.000    0.000 selectors.py:275(_key_from_fd)\n",
      "        2    0.000    0.000    0.000    0.000 {built-in method builtins.iter}\n",
      "        2    0.000    0.000    0.000    0.000 iostream.py:255(closed)\n",
      "        2    0.000    0.000    0.000    0.000 traitlets.py:3486(validate_elements)\n",
      "        1    0.000    0.000    0.000    0.000 zmqstream.py:718(<lambda>)\n",
      "        4    0.000    0.000    0.000    0.000 inspect.py:2786(name)\n",
      "        1    0.000    0.000    0.000    0.000 {built-in method _thread.allocate_lock}\n",
      "        1    0.000    0.000    0.000    0.000 threading.py:314(_is_owned)\n",
      "        2    0.000    0.000    0.000    0.000 {method 'extend' of 'list' objects}\n",
      "        1    0.000    0.000    0.000    0.000 inspect.py:2878(__init__)\n",
      "        1    0.000    0.000    0.000    0.000 {method 'release' of '_thread.lock' objects}"
     ]
    }
   ],
   "source": [
    "%%prun\n",
    "bubble(test2)"
   ]
  },
  {
   "cell_type": "markdown",
   "metadata": {},
   "source": [
    "## 1.2 Insertion"
   ]
  },
  {
   "attachments": {},
   "cell_type": "markdown",
   "metadata": {},
   "source": [
    "**Un pseudocode possible** *(source : Wikipedia réécrit sous format )*\n",
    "\n",
    "```\n",
    "procédure tri_insertion(tableau T, entier n):\n",
    "\n",
    "  pour i de 1 à n - 1:\n",
    "        # mémoriser T[i] dans x\n",
    "        x = T[i]                            \n",
    "\n",
    "        j = i                               \n",
    "        tant que j > 0 et T[j - 1] > x:\n",
    "                 T[j] = T[j - 1]\n",
    "                 j = j - 1\n",
    "\n",
    "        # placer x dans le \"trou\" laissé par le décalage\n",
    "        T[j] = x \n",
    "```"
   ]
  },
  {
   "cell_type": "code",
   "execution_count": 30,
   "metadata": {},
   "outputs": [],
   "source": [
    "def insertion(A):\n",
    "    \"\"\"Trie le tableau en plaçant l'élément courant à la bonne place dans\n",
    "    le sous-tableau déjà trié\"\"\"\n",
    "\n",
    "    for i in range(1, len(A)):\n",
    "        \n",
    "        x = A[i]\n",
    "    \n",
    "        while i > 0 and A[i-1] > x:\n",
    "            A[i] = A[i-1]\n",
    "            i -= 1\n",
    "\n",
    "        A[i] = x\n",
    "\n",
    "    return A"
   ]
  },
  {
   "cell_type": "code",
   "execution_count": 31,
   "metadata": {},
   "outputs": [
    {
     "data": {
      "text/plain": [
       "[0, 1, 2, 3, 4, 5, 20, 33, 55, 1111, 3000]"
      ]
     },
     "execution_count": 31,
     "metadata": {},
     "output_type": "execute_result"
    }
   ],
   "source": [
    "op = [1111, 2, 33, 3, 0, 3000, 4, 5, 1, 55, 20]\n",
    "\n",
    "op = insertion(op)\n",
    "op"
   ]
  },
  {
   "cell_type": "markdown",
   "metadata": {},
   "source": [
    "### N = 10"
   ]
  },
  {
   "cell_type": "code",
   "execution_count": null,
   "metadata": {},
   "outputs": [],
   "source": [
    "%%prun\n",
    "insertion(generate_random_array(N=30000))"
   ]
  },
  {
   "cell_type": "code",
   "execution_count": 32,
   "metadata": {},
   "outputs": [
    {
     "name": "stdout",
     "output_type": "stream",
     "text": [
      " "
     ]
    },
    {
     "name": "stdout",
     "output_type": "stream",
     "text": [
      "         39 function calls in 0.001 seconds\n",
      "\n",
      "   Ordered by: internal time\n",
      "\n",
      "   ncalls  tottime  percall  cumtime  percall filename:lineno(function)\n",
      "        1    0.000    0.000    0.000    0.000 {method 'disable' of '_lsprof.Profiler' objects}\n",
      "        1    0.000    0.000    0.000    0.000 {built-in method builtins.exec}\n",
      "        9    0.000    0.000    0.000    0.000 random.py:242(_randbelow_with_getrandbits)\n",
      "        1    0.000    0.000    0.000    0.000 random.py:350(shuffle)\n",
      "        1    0.000    0.000    0.000    0.000 1162899130.py:1(insertion)\n",
      "        1    0.000    0.000    0.000    0.000 <string>:1(<module>)\n",
      "        1    0.000    0.000    0.000    0.000 147406998.py:3(generate_random_array)\n",
      "       13    0.000    0.000    0.000    0.000 {method 'getrandbits' of '_random.Random' objects}\n",
      "        9    0.000    0.000    0.000    0.000 {method 'bit_length' of 'int' objects}\n",
      "        2    0.000    0.000    0.000    0.000 {built-in method builtins.len}"
     ]
    }
   ],
   "source": [
    "%%prun\n",
    "insertion(generate_random_array(N=10))"
   ]
  },
  {
   "cell_type": "code",
   "execution_count": 35,
   "metadata": {},
   "outputs": [],
   "source": [
    "test = [x for x in range(0, 10)]"
   ]
  },
  {
   "cell_type": "code",
   "execution_count": 36,
   "metadata": {},
   "outputs": [
    {
     "name": "stdout",
     "output_type": "stream",
     "text": [
      " "
     ]
    },
    {
     "name": "stdout",
     "output_type": "stream",
     "text": [
      "         5 function calls in 0.000 seconds\n",
      "\n",
      "   Ordered by: internal time\n",
      "\n",
      "   ncalls  tottime  percall  cumtime  percall filename:lineno(function)\n",
      "        1    0.000    0.000    0.000    0.000 {method 'disable' of '_lsprof.Profiler' objects}\n",
      "        1    0.000    0.000    0.000    0.000 {built-in method builtins.exec}\n",
      "        1    0.000    0.000    0.000    0.000 1162899130.py:1(insertion)\n",
      "        1    0.000    0.000    0.000    0.000 <string>:1(<module>)\n",
      "        1    0.000    0.000    0.000    0.000 {built-in method builtins.len}"
     ]
    }
   ],
   "source": [
    "%%prun\n",
    "insertion(test)"
   ]
  },
  {
   "cell_type": "code",
   "execution_count": 37,
   "metadata": {},
   "outputs": [],
   "source": [
    "test2 = [x for x in range(10, 0, -1)]"
   ]
  },
  {
   "cell_type": "code",
   "execution_count": 39,
   "metadata": {},
   "outputs": [
    {
     "name": "stdout",
     "output_type": "stream",
     "text": [
      " "
     ]
    },
    {
     "name": "stdout",
     "output_type": "stream",
     "text": [
      "         5 function calls in 0.000 seconds\n",
      "\n",
      "   Ordered by: internal time\n",
      "\n",
      "   ncalls  tottime  percall  cumtime  percall filename:lineno(function)\n",
      "        1    0.000    0.000    0.000    0.000 {method 'disable' of '_lsprof.Profiler' objects}\n",
      "        1    0.000    0.000    0.000    0.000 {built-in method builtins.exec}\n",
      "        1    0.000    0.000    0.000    0.000 1162899130.py:1(insertion)\n",
      "        1    0.000    0.000    0.000    0.000 <string>:1(<module>)\n",
      "        1    0.000    0.000    0.000    0.000 {built-in method builtins.len}"
     ]
    }
   ],
   "source": [
    "%%prun\n",
    "insertion(test2)"
   ]
  },
  {
   "cell_type": "markdown",
   "metadata": {},
   "source": [
    "### N = 100"
   ]
  },
  {
   "cell_type": "code",
   "execution_count": 40,
   "metadata": {},
   "outputs": [
    {
     "name": "stdout",
     "output_type": "stream",
     "text": [
      " "
     ]
    },
    {
     "name": "stdout",
     "output_type": "stream",
     "text": [
      "         348 function calls in 0.002 seconds\n",
      "\n",
      "   Ordered by: internal time\n",
      "\n",
      "   ncalls  tottime  percall  cumtime  percall filename:lineno(function)\n",
      "        1    0.001    0.001    0.001    0.001 1162899130.py:1(insertion)\n",
      "        1    0.000    0.000    0.000    0.000 {method 'disable' of '_lsprof.Profiler' objects}\n",
      "       99    0.000    0.000    0.000    0.000 random.py:242(_randbelow_with_getrandbits)\n",
      "        1    0.000    0.000    0.001    0.001 {built-in method builtins.exec}\n",
      "        1    0.000    0.000    0.000    0.000 random.py:350(shuffle)\n",
      "      142    0.000    0.000    0.000    0.000 {method 'getrandbits' of '_random.Random' objects}\n",
      "       99    0.000    0.000    0.000    0.000 {method 'bit_length' of 'int' objects}\n",
      "        1    0.000    0.000    0.000    0.000 147406998.py:3(generate_random_array)\n",
      "        1    0.000    0.000    0.001    0.001 <string>:1(<module>)\n",
      "        2    0.000    0.000    0.000    0.000 {built-in method builtins.len}"
     ]
    }
   ],
   "source": [
    "%%prun\n",
    "insertion(generate_random_array(N=100))"
   ]
  },
  {
   "cell_type": "code",
   "execution_count": 41,
   "metadata": {},
   "outputs": [],
   "source": [
    "test = [x for x in range(0, 100)]"
   ]
  },
  {
   "cell_type": "code",
   "execution_count": 42,
   "metadata": {},
   "outputs": [
    {
     "name": "stdout",
     "output_type": "stream",
     "text": [
      " "
     ]
    },
    {
     "name": "stdout",
     "output_type": "stream",
     "text": [
      "         5 function calls in 0.000 seconds\n",
      "\n",
      "   Ordered by: internal time\n",
      "\n",
      "   ncalls  tottime  percall  cumtime  percall filename:lineno(function)\n",
      "        1    0.000    0.000    0.000    0.000 {method 'disable' of '_lsprof.Profiler' objects}\n",
      "        1    0.000    0.000    0.000    0.000 {built-in method builtins.exec}\n",
      "        1    0.000    0.000    0.000    0.000 1162899130.py:1(insertion)\n",
      "        1    0.000    0.000    0.000    0.000 <string>:1(<module>)\n",
      "        1    0.000    0.000    0.000    0.000 {built-in method builtins.len}"
     ]
    }
   ],
   "source": [
    "%%prun\n",
    "insertion(test)"
   ]
  },
  {
   "cell_type": "code",
   "execution_count": 43,
   "metadata": {},
   "outputs": [],
   "source": [
    "test2 = [x for x in range(100, 0, -1)]"
   ]
  },
  {
   "cell_type": "code",
   "execution_count": 44,
   "metadata": {},
   "outputs": [
    {
     "name": "stdout",
     "output_type": "stream",
     "text": [
      "         5 function calls in 0.002 seconds\n",
      "\n",
      "   Ordered by: internal time\n",
      "\n",
      "   ncalls  tottime  percall  cumtime  percall filename:lineno(function)\n",
      "        1    0.001    0.001    0.001    0.001 1162899130.py:1(insertion)\n",
      "        1    0.000    0.000    0.000    0.000 {method 'disable' of '_lsprof.Profiler' objects}\n",
      "        1    0.000    0.000    0.001    0.001 {built-in method builtins.exec}\n",
      "        1    0.000    0.000    0.001    0.001 <string>:1(<module>)\n",
      "        1    0.000    0.000    0.000    0.000 {built-in method builtins.len}"
     ]
    },
    {
     "name": "stdout",
     "output_type": "stream",
     "text": [
      " "
     ]
    }
   ],
   "source": [
    "%%prun\n",
    "insertion(test2)"
   ]
  },
  {
   "cell_type": "markdown",
   "metadata": {},
   "source": [
    "### N = 1000"
   ]
  },
  {
   "cell_type": "code",
   "execution_count": 45,
   "metadata": {},
   "outputs": [
    {
     "name": "stdout",
     "output_type": "stream",
     "text": [
      " "
     ]
    },
    {
     "name": "stdout",
     "output_type": "stream",
     "text": [
      "         3764 function calls (3762 primitive calls) in 0.055 seconds\n",
      "\n",
      "   Ordered by: internal time\n",
      "\n",
      "   ncalls  tottime  percall  cumtime  percall filename:lineno(function)\n",
      "        6    0.030    0.005    0.030    0.005 socket.py:621(send)\n",
      "        1    0.005    0.005    0.005    0.005 {method 'execute' of 'sqlite3.Connection' objects}\n",
      "        2    0.005    0.003    0.005    0.003 {method '__exit__' of 'sqlite3.Connection' objects}\n",
      "        1    0.005    0.005    0.005    0.005 {method 'poll' of 'select.epoll' objects}\n",
      "        1    0.002    0.002    0.029    0.029 history.py:55(only_when_enabled)\n",
      "      999    0.002    0.000    0.003    0.000 random.py:242(_randbelow_with_getrandbits)\n",
      "        1    0.002    0.002    0.002    0.002 1162899130.py:1(insertion)\n",
      "     1410    0.001    0.000    0.001    0.000 {method 'getrandbits' of '_random.Random' objects}\n",
      "        1    0.001    0.001    0.002    0.002 random.py:350(shuffle)\n",
      "      999    0.000    0.000    0.000    0.000 {method 'bit_length' of 'int' objects}\n",
      "        1    0.000    0.000    0.000    0.000 {method 'disable' of '_lsprof.Profiler' objects}\n",
      "       30    0.000    0.000    0.000    0.000 enum.py:1544(_get_value)\n",
      "        7    0.000    0.000    0.000    0.000 enum.py:1551(__or__)\n",
      "        1    0.000    0.000    0.026    0.026 history.py:833(_writeout_input_cache)\n",
      "    69/67    0.000    0.000    0.000    0.000 {built-in method builtins.isinstance}\n",
      "        1    0.000    0.000    0.000    0.000 inspect.py:3123(_bind)\n",
      "       13    0.000    0.000    0.000    0.000 enum.py:726(__call__)\n",
      "        2    0.000    0.000    0.000    0.000 attrsettr.py:65(_get_attr_opt)\n",
      "        2    0.000    0.000    0.000    0.000 attrsettr.py:42(__getattr__)\n",
      "        1    0.000    0.000    0.008    0.008 base_events.py:1910(_run_once)\n",
      "        1    0.000    0.000    0.002    0.002 <string>:1(<module>)\n",
      "        1    0.000    0.000    0.000    0.000 socket.py:777(recv_multipart)\n",
      "        3    0.000    0.000    0.000    0.000 enum.py:1562(__and__)\n",
      "       13    0.000    0.000    0.000    0.000 enum.py:1129(__new__)\n",
      "        1    0.000    0.000    0.000    0.000 threading.py:311(_acquire_restore)\n",
      "        1    0.000    0.000    0.000    0.000 decorator.py:199(fix)\n",
      "        1    0.000    0.000    0.027    0.027 history.py:845(writeout_cache)\n",
      "        6    0.000    0.000    0.000    0.000 traitlets.py:676(__get__)\n",
      "        1    0.000    0.000    0.002    0.002 zmqstream.py:580(_run_callback)\n",
      "        1    0.000    0.000    0.000    0.000 zmqstream.py:710(_update_handler)\n",
      "        1    0.000    0.000    0.000    0.000 inspect.py:3262(bind)\n",
      "        1    0.000    0.000    0.000    0.000 asyncio.py:225(add_callback)\n",
      "        1    0.000    0.000    0.000    0.000 inspect.py:2939(apply_defaults)\n",
      "        1    0.000    0.000    0.005    0.005 selectors.py:451(select)\n",
      "        1    0.000    0.000    0.000    0.000 zmqstream.py:687(_rebuild_io_state)\n",
      "        3    0.000    0.000    0.000    0.000 typing.py:392(inner)\n",
      "        2    0.000    0.000    0.000    0.000 traitlets.py:718(_validate)\n",
      "        6    0.000    0.000    0.000    0.000 traitlets.py:629(get)\n",
      "        1    0.000    0.000    0.002    0.002 {built-in method builtins.exec}\n",
      "        1    0.000    0.000    0.000    0.000 typing.py:1483(__subclasscheck__)\n",
      "        1    0.000    0.000    0.000    0.000 typing.py:1212(__instancecheck__)\n",
      "        1    0.000    0.000    0.000    0.000 traitlets.py:1527(_notify_observers)\n",
      "        1    0.000    0.000    0.000    0.000 inspect.py:2886(args)\n",
      "        1    0.000    0.000    0.002    0.002 iostream.py:276(<lambda>)\n",
      "        1    0.000    0.000    0.000    0.000 base_events.py:734(time)\n",
      "        2    0.000    0.000    0.000    0.000 traitlets.py:3631(set)\n",
      "        1    0.000    0.000    0.002    0.002 zmqstream.py:607(_handle_events)\n",
      "        1    0.000    0.000    0.002    0.002 zmqstream.py:648(_handle_recv)\n",
      "        1    0.000    0.000    0.000    0.000 base_events.py:814(_call_soon)\n",
      "        2    0.000    0.000    0.000    0.000 traitlets.py:689(set)\n",
      "        2    0.000    0.000    0.000    0.000 <frozen importlib._bootstrap>:1390(_handle_fromlist)\n",
      "        2    0.000    0.000    0.000    0.000 traitlets.py:3474(validate)\n",
      "        2    0.000    0.000    0.000    0.000 typing.py:1276(__hash__)\n",
      "        1    0.000    0.000    0.002    0.002 events.py:86(_run)\n",
      "        1    0.000    0.000    0.002    0.002 147406998.py:3(generate_random_array)\n",
      "        1    0.000    0.000    0.000    0.000 queue.py:97(empty)\n",
      "        7    0.000    0.000    0.000    0.000 {built-in method builtins.hasattr}\n",
      "        1    0.000    0.000    0.000    0.000 events.py:36(__init__)\n",
      "        1    0.000    0.000    0.002    0.002 {method 'run' of '_contextvars.Context' objects}\n",
      "        2    0.000    0.000    0.000    0.000 threading.py:302(__exit__)\n",
      "        9    0.000    0.000    0.000    0.000 {built-in method builtins.len}\n",
      "        1    0.000    0.000    0.000    0.000 base_events.py:785(call_soon)\n",
      "        1    0.000    0.000    0.002    0.002 iostream.py:157(_handle_event)\n",
      "        2    0.000    0.000    0.000    0.000 traitlets.py:3624(validate_elements)\n",
      "        1    0.000    0.000    0.000    0.000 threading.py:627(clear)\n",
      "        6    0.000    0.000    0.000    0.000 {built-in method builtins.next}\n",
      "        1    0.000    0.000    0.000    0.000 inspect.py:2909(kwargs)\n",
      "        1    0.000    0.000    0.000    0.000 {built-in method builtins.issubclass}\n",
      "        2    0.000    0.000    0.000    0.000 {built-in method builtins.getattr}\n",
      "       23    0.000    0.000    0.000    0.000 typing.py:2173(cast)\n",
      "        1    0.000    0.000    0.000    0.000 traitlets.py:1512(_notify_trait)\n",
      "        2    0.000    0.000    0.000    0.000 traitlets.py:727(_cross_validate)\n",
      "        1    0.000    0.000    0.000    0.000 traitlets.py:1523(notify_change)\n",
      "        1    0.000    0.000    0.000    0.000 iostream.py:213(_is_master_process)\n",
      "        2    0.000    0.000    0.000    0.000 threading.py:299(__enter__)\n",
      "        1    0.000    0.000    0.000    0.000 zmqstream.py:566(sending)\n",
      "        3    0.000    0.000    0.000    0.000 {method 'acquire' of '_thread.lock' objects}\n",
      "        2    0.000    0.000    0.000    0.000 traitlets.py:708(__set__)\n",
      "        1    0.000    0.000    0.002    0.002 ioloop.py:742(_run_callback)\n",
      "        1    0.000    0.000    0.000    0.000 <frozen abc>:121(__subclasscheck__)\n",
      "        1    0.000    0.000    0.029    0.029 decorator.py:229(fun)\n",
      "        3    0.000    0.000    0.000    0.000 {method 'items' of 'mappingproxy' objects}\n",
      "        2    0.000    0.000    0.000    0.000 traitlets.py:2304(validate)\n",
      "       10    0.000    0.000    0.000    0.000 inspect.py:2798(kind)\n",
      "        5    0.000    0.000    0.000    0.000 {method '__exit__' of '_thread.lock' objects}\n",
      "        1    0.000    0.000    0.000    0.000 iostream.py:216(_check_mp_mode)\n",
      "        4    0.000    0.000    0.000    0.000 {method 'append' of 'list' objects}\n",
      "        1    0.000    0.000    0.000    0.000 {built-in method _abc._abc_subclasscheck}\n",
      "        1    0.000    0.000    0.000    0.000 {built-in method posix.getpid}\n",
      "        2    0.000    0.000    0.000    0.000 {method 'upper' of 'str' objects}\n",
      "        1    0.000    0.000    0.000    0.000 history.py:839(_writeout_output_cache)\n",
      "        1    0.000    0.000    0.000    0.000 threading.py:308(_release_save)\n",
      "        1    0.000    0.000    0.000    0.000 {built-in method _asyncio.get_running_loop}\n",
      "        2    0.000    0.000    0.000    0.000 {method 'popleft' of 'collections.deque' objects}\n",
      "        1    0.000    0.000    0.002    0.002 zmqstream.py:718(<lambda>)\n",
      "        1    0.000    0.000    0.000    0.000 {built-in method builtins.max}\n",
      "        1    0.000    0.000    0.000    0.000 {method 'values' of 'mappingproxy' objects}\n",
      "        1    0.000    0.000    0.000    0.000 {built-in method time.monotonic}\n",
      "        2    0.000    0.000    0.000    0.000 traitlets.py:3486(validate_elements)\n",
      "        2    0.000    0.000    0.000    0.000 {method '__enter__' of '_thread.lock' objects}\n",
      "        2    0.000    0.000    0.000    0.000 {built-in method builtins.hash}\n",
      "        4    0.000    0.000    0.000    0.000 {method 'get' of 'dict' objects}\n",
      "        2    0.000    0.000    0.000    0.000 {built-in method builtins.iter}\n",
      "        1    0.000    0.000    0.000    0.000 queue.py:209(_qsize)\n",
      "        1    0.000    0.000    0.000    0.000 {built-in method _contextvars.copy_context}\n",
      "        2    0.000    0.000    0.000    0.000 {method 'append' of 'collections.deque' objects}\n",
      "        4    0.000    0.000    0.000    0.000 inspect.py:3079(parameters)\n",
      "        4    0.000    0.000    0.000    0.000 inspect.py:2786(name)\n",
      "        2    0.000    0.000    0.000    0.000 zmqstream.py:562(receiving)\n",
      "        1    0.000    0.000    0.000    0.000 {built-in method _thread.allocate_lock}\n",
      "        1    0.000    0.000    0.000    0.000 selector_events.py:750(_process_events)\n",
      "        2    0.000    0.000    0.000    0.000 {method 'extend' of 'list' objects}\n",
      "        1    0.000    0.000    0.000    0.000 base_events.py:2005(get_debug)\n",
      "        1    0.000    0.000    0.000    0.000 base_events.py:539(_check_closed)\n",
      "        1    0.000    0.000    0.000    0.000 threading.py:314(_is_owned)\n",
      "        1    0.000    0.000    0.000    0.000 iostream.py:255(closed)\n",
      "        1    0.000    0.000    0.000    0.000 inspect.py:2878(__init__)\n",
      "        1    0.000    0.000    0.000    0.000 {method 'release' of '_thread.lock' objects}"
     ]
    }
   ],
   "source": [
    "%%prun\n",
    "insertion(generate_random_array(N=1000))"
   ]
  },
  {
   "cell_type": "code",
   "execution_count": 46,
   "metadata": {},
   "outputs": [],
   "source": [
    "test = [x for x in range(0, 1000)]"
   ]
  },
  {
   "cell_type": "code",
   "execution_count": 47,
   "metadata": {},
   "outputs": [
    {
     "name": "stdout",
     "output_type": "stream",
     "text": [
      " "
     ]
    },
    {
     "name": "stdout",
     "output_type": "stream",
     "text": [
      "         5 function calls in 0.001 seconds\n",
      "\n",
      "   Ordered by: internal time\n",
      "\n",
      "   ncalls  tottime  percall  cumtime  percall filename:lineno(function)\n",
      "        1    0.000    0.000    0.000    0.000 1162899130.py:1(insertion)\n",
      "        1    0.000    0.000    0.000    0.000 {method 'disable' of '_lsprof.Profiler' objects}\n",
      "        1    0.000    0.000    0.000    0.000 {built-in method builtins.exec}\n",
      "        1    0.000    0.000    0.000    0.000 <string>:1(<module>)\n",
      "        1    0.000    0.000    0.000    0.000 {built-in method builtins.len}"
     ]
    }
   ],
   "source": [
    "%%prun\n",
    "insertion(test)"
   ]
  },
  {
   "cell_type": "code",
   "execution_count": 48,
   "metadata": {},
   "outputs": [],
   "source": [
    "test2 = [x for x in range(1000, 0, -1)]"
   ]
  },
  {
   "cell_type": "code",
   "execution_count": 49,
   "metadata": {},
   "outputs": [
    {
     "name": "stdout",
     "output_type": "stream",
     "text": [
      " "
     ]
    },
    {
     "name": "stdout",
     "output_type": "stream",
     "text": [
      "         733 function calls (727 primitive calls) in 0.090 seconds\n",
      "\n",
      "   Ordered by: internal time\n",
      "\n",
      "   ncalls  tottime  percall  cumtime  percall filename:lineno(function)\n",
      "        1    0.047    0.047    0.047    0.047 1162899130.py:1(insertion)\n",
      "       14    0.010    0.001    0.010    0.001 socket.py:621(send)\n",
      "        1    0.010    0.010    0.010    0.010 {method 'execute' of 'sqlite3.Connection' objects}\n",
      "        2    0.006    0.003    0.006    0.003 {method '__exit__' of 'sqlite3.Connection' objects}\n",
      "        2    0.005    0.003    0.016    0.008 zmqstream.py:580(_run_callback)\n",
      "        1    0.005    0.005    0.005    0.005 {method 'send' of '_socket.socket' objects}\n",
      "      2/1    0.003    0.001    0.047    0.047 {built-in method builtins.exec}\n",
      "        1    0.000    0.000    0.000    0.000 {method 'disable' of '_lsprof.Profiler' objects}\n",
      "        4    0.000    0.000    0.081    0.020 selectors.py:451(select)\n",
      "       72    0.000    0.000    0.000    0.000 enum.py:1544(_get_value)\n",
      "        5    0.000    0.000    0.000    0.000 attrsettr.py:65(_get_attr_opt)\n",
      "        2    0.000    0.000    0.011    0.005 socket.py:698(send_multipart)\n",
      "  152/148    0.000    0.000    0.000    0.000 {built-in method builtins.isinstance}\n",
      "       16    0.000    0.000    0.000    0.000 enum.py:1551(__or__)\n",
      "        5    0.000    0.000    0.000    0.000 attrsettr.py:42(__getattr__)\n",
      "        1    0.000    0.000    0.000    0.000 inspect.py:3123(_bind)\n",
      "        2    0.000    0.000    0.000    0.000 socket.py:777(recv_multipart)\n",
      "       31    0.000    0.000    0.000    0.000 enum.py:726(__call__)\n",
      "        4    0.000    0.000    0.103    0.026 base_events.py:1910(_run_once)\n",
      "        5    0.000    0.000    0.023    0.005 {method 'run' of '_contextvars.Context' objects}\n",
      "        2    0.000    0.000    0.000    0.000 {method 'recv' of '_socket.socket' objects}\n",
      "        8    0.000    0.000    0.000    0.000 enum.py:1562(__and__)\n",
      "        1    0.000    0.000    0.005    0.005 kernelbase.py:302(poll_control_queue)\n",
      "        5    0.000    0.000    0.023    0.005 events.py:86(_run)\n",
      "        1    0.000    0.000    0.000    0.000 poll.py:78(poll)\n",
      "        1    0.000    0.000    0.016    0.016 history.py:845(writeout_cache)\n",
      "        8    0.000    0.000    0.000    0.000 traitlets.py:676(__get__)\n",
      "       31    0.000    0.000    0.000    0.000 enum.py:1129(__new__)\n",
      "        1    0.000    0.000    0.000    0.000 decorator.py:199(fix)\n",
      "        1    0.000    0.000    0.000    0.000 queues.py:225(get)\n",
      "        1    0.000    0.000    0.001    0.001 kernelbase.py:324(_flush)\n",
      "        6    0.000    0.000    0.000    0.000 typing.py:392(inner)\n",
      "        1    0.000    0.000    0.000    0.000 zmqstream.py:452(flush)\n",
      "        8    0.000    0.000    0.000    0.000 traitlets.py:629(get)\n",
      "        1    0.000    0.000    0.005    0.005 _base.py:537(set_result)\n",
      "        1    0.000    0.000    0.016    0.016 history.py:833(_writeout_input_cache)\n",
      "        4    0.000    0.000    0.000    0.000 queue.py:97(empty)\n",
      "        2    0.000    0.000    0.011    0.005 iostream.py:157(_handle_event)\n",
      "        3    0.000    0.000    0.000    0.000 zmqstream.py:687(_rebuild_io_state)\n",
      "        2    0.000    0.000    0.017    0.008 zmqstream.py:607(_handle_events)\n",
      "      2/1    0.000    0.000    0.000    0.000 {method 'poll' of 'select.epoll' objects}\n",
      "        1    0.000    0.000    0.000    0.000 queues.py:209(put_nowait)\n",
      "        1    0.000    0.000    0.000    0.000 inspect.py:3262(bind)\n",
      "        2    0.000    0.000    0.011    0.005 iostream.py:278(_really_send)\n",
      "        3    0.000    0.000    0.000    0.000 zmqstream.py:710(_update_handler)\n",
      "        5    0.000    0.000    0.000    0.000 <frozen importlib._bootstrap>:1390(_handle_fromlist)\n",
      "        2    0.000    0.000    0.011    0.005 iostream.py:276(<lambda>)\n",
      "        3    0.000    0.000    0.000    0.000 base_events.py:814(_call_soon)\n",
      "        1    0.000    0.000    0.000    0.000 traitlets.py:1527(_notify_observers)\n",
      "        1    0.000    0.000    0.000    0.000 zmqstream.py:491(update_flag)\n",
      "        1    0.000    0.000    0.000    0.000 inspect.py:2939(apply_defaults)\n",
      "       23    0.000    0.000    0.000    0.000 {built-in method builtins.len}\n",
      "        1    0.000    0.000    0.000    0.000 selector_events.py:129(_read_from_self)\n",
      "        4    0.000    0.000    0.000    0.000 selector_events.py:750(_process_events)\n",
      "        1    0.000    0.000    0.000    0.000 queues.py:186(put)\n",
      "        4    0.000    0.000    0.000    0.000 typing.py:1276(__hash__)\n",
      "        2    0.000    0.000    0.016    0.008 zmqstream.py:648(_handle_recv)\n",
      "        1    0.000    0.000    0.047    0.047 <string>:1(<module>)\n",
      "        1    0.000    0.000    0.033    0.033 history.py:55(only_when_enabled)\n",
      "        1    0.000    0.000    0.000    0.000 threading.py:311(_acquire_restore)\n",
      "        2    0.000    0.000    0.000    0.000 traitlets.py:3631(set)\n",
      "        2    0.000    0.000    0.000    0.000 traitlets.py:718(_validate)\n",
      "        3    0.000    0.000    0.000    0.000 threading.py:299(__enter__)\n",
      "        1    0.000    0.000    0.000    0.000 inspect.py:2886(args)\n",
      "        5    0.000    0.000    0.000    0.000 base_events.py:734(time)\n",
      "        2    0.000    0.000    0.000    0.000 traitlets.py:689(set)\n",
      "       10    0.000    0.000    0.000    0.000 {built-in method builtins.hasattr}\n",
      "        2    0.000    0.000    0.000    0.000 typing.py:1483(__subclasscheck__)\n",
      "        1    0.000    0.000    0.000    0.000 asyncio.py:225(add_callback)\n",
      "        3    0.000    0.000    0.000    0.000 events.py:36(__init__)\n",
      "        1    0.000    0.000    0.000    0.000 queues.py:256(get_nowait)\n",
      "        2    0.000    0.000    0.000    0.000 traitlets.py:3474(validate)\n",
      "        5    0.000    0.000    0.000    0.000 {built-in method builtins.getattr}\n",
      "        1    0.000    0.000    0.005    0.005 futures.py:394(_call_set_state)\n",
      "        1    0.000    0.000    0.005    0.005 base_events.py:838(call_soon_threadsafe)\n",
      "        2    0.000    0.000    0.001    0.000 ioloop.py:742(_run_callback)\n",
      "        6    0.000    0.000    0.000    0.000 {method 'append' of 'list' objects}\n",
      "        2    0.000    0.000    0.000    0.000 base_events.py:785(call_soon)\n",
      "        5    0.000    0.000    0.000    0.000 {built-in method builtins.max}\n",
      "        2    0.000    0.000    0.000    0.000 typing.py:1212(__instancecheck__)\n",
      "        3    0.000    0.000    0.000    0.000 threading.py:302(__exit__)\n",
      "        4    0.000    0.000    0.000    0.000 zmqstream.py:566(sending)\n",
      "        2    0.000    0.000    0.000    0.000 {method 'set_result' of '_asyncio.Future' objects}\n",
      "        6    0.000    0.000    0.000    0.000 {built-in method builtins.next}\n",
      "        2    0.000    0.000    0.000    0.000 traitlets.py:727(_cross_validate)\n",
      "        2    0.000    0.000    0.000    0.000 traitlets.py:3624(validate_elements)\n",
      "        2    0.000    0.000    0.000    0.000 queues.py:322(_consume_expired)\n",
      "        2    0.000    0.000    0.000    0.000 iostream.py:213(_is_master_process)\n",
      "        1    0.000    0.000    0.005    0.005 _base.py:337(_invoke_callbacks)\n",
      "        2    0.000    0.000    0.000    0.000 base_events.py:1895(_add_callback)\n",
      "        9    0.000    0.000    0.000    0.000 {method 'popleft' of 'collections.deque' objects}\n",
      "       28    0.000    0.000    0.000    0.000 typing.py:2173(cast)\n",
      "        2    0.000    0.000    0.000    0.000 traitlets.py:708(__set__)\n",
      "        1    0.000    0.000    0.000    0.000 threading.py:424(notify_all)\n",
      "        1    0.000    0.000    0.005    0.005 selector_events.py:141(_write_to_self)\n",
      "        1    0.000    0.000    0.000    0.000 traitlets.py:1512(_notify_trait)\n",
      "        1    0.000    0.000    0.000    0.000 inspect.py:2909(kwargs)\n",
      "        8    0.000    0.000    0.000    0.000 {method '__exit__' of '_thread.lock' objects}\n",
      "        1    0.000    0.000    0.033    0.033 decorator.py:229(fun)\n",
      "        1    0.000    0.000    0.000    0.000 concurrent.py:182(future_set_result_unless_cancelled)\n",
      "        1    0.000    0.000    0.000    0.000 queues.py:317(__put_internal)\n",
      "        8    0.000    0.000    0.000    0.000 {method 'append' of 'collections.deque' objects}\n",
      "        3    0.000    0.000    0.000    0.000 {method 'acquire' of '_thread.lock' objects}\n",
      "        1    0.000    0.000    0.016    0.016 asyncio.py:200(_handle_events)\n",
      "        5    0.000    0.000    0.000    0.000 {method 'upper' of 'str' objects}\n",
      "        2    0.000    0.000    0.000    0.000 iostream.py:216(_check_mp_mode)\n",
      "        1    0.000    0.000    0.000    0.000 traitlets.py:1523(notify_change)\n",
      "        2    0.000    0.000    0.000    0.000 traitlets.py:2304(validate)\n",
      "        2    0.000    0.000    0.000    0.000 {built-in method posix.getpid}\n",
      "        5    0.000    0.000    0.000    0.000 {built-in method time.monotonic}\n",
      "        1    0.000    0.000    0.000    0.000 threading.py:627(clear)\n",
      "        2    0.000    0.000    0.000    0.000 {built-in method builtins.issubclass}\n",
      "        2    0.000    0.000    0.000    0.000 selectors.py:275(_key_from_fd)\n",
      "        4    0.000    0.000    0.000    0.000 queue.py:209(_qsize)\n",
      "        1    0.000    0.000    0.000    0.000 history.py:839(_writeout_output_cache)\n",
      "        3    0.000    0.000    0.000    0.000 {method 'items' of 'mappingproxy' objects}\n",
      "       10    0.000    0.000    0.000    0.000 inspect.py:2798(kind)\n",
      "        1    0.000    0.000    0.000    0.000 threading.py:394(notify)\n",
      "        2    0.000    0.000    0.000    0.000 <frozen abc>:121(__subclasscheck__)\n",
      "        1    0.000    0.000    0.000    0.000 queues.py:173(qsize)\n",
      "        1    0.000    0.000    0.000    0.000 {method 'values' of 'mappingproxy' objects}\n",
      "        1    0.000    0.000    0.000    0.000 threading.py:308(_release_save)\n",
      "        1    0.000    0.000    0.000    0.000 poll.py:29(register)\n",
      "        2    0.000    0.000    0.000    0.000 {built-in method _abc._abc_subclasscheck}\n",
      "        4    0.000    0.000    0.000    0.000 {built-in method builtins.hash}\n",
      "        5    0.000    0.000    0.000    0.000 zmqstream.py:562(receiving)\n",
      "        4    0.000    0.000    0.000    0.000 {method 'get' of 'dict' objects}\n",
      "        2    0.000    0.000    0.000    0.000 {built-in method _contextvars.copy_context}\n",
      "        5    0.000    0.000    0.000    0.000 base_events.py:2005(get_debug)\n",
      "        2    0.000    0.000    0.000    0.000 {method '__enter__' of '_thread.lock' objects}\n",
      "        2    0.000    0.000    0.000    0.000 {built-in method builtins.iter}\n",
      "        1    0.000    0.000    0.000    0.000 {built-in method _asyncio.get_running_loop}\n",
      "        1    0.000    0.000    0.000    0.000 unix_events.py:81(_process_self_data)\n",
      "        4    0.000    0.000    0.000    0.000 inspect.py:2786(name)\n",
      "        2    0.000    0.000    0.000    0.000 traitlets.py:3486(validate_elements)\n",
      "        1    0.000    0.000    0.000    0.000 {method '__enter__' of '_thread.RLock' objects}\n",
      "        4    0.000    0.000    0.000    0.000 inspect.py:3079(parameters)\n",
      "        2    0.000    0.000    0.000    0.000 iostream.py:255(closed)\n",
      "        3    0.000    0.000    0.000    0.000 base_events.py:539(_check_closed)\n",
      "        1    0.000    0.000    0.000    0.000 queues.py:309(_get)\n",
      "        1    0.000    0.000    0.000    0.000 {built-in method _thread.allocate_lock}\n",
      "        1    0.000    0.000    0.000    0.000 queues.py:312(_put)\n",
      "        2    0.000    0.000    0.000    0.000 {method 'cancelled' of '_asyncio.Future' objects}\n",
      "        1    0.000    0.000    0.000    0.000 {built-in method builtins.min}\n",
      "        1    0.000    0.000    0.000    0.000 zmqstream.py:718(<lambda>)\n",
      "        1    0.000    0.000    0.000    0.000 {built-in method math.ceil}\n",
      "        1    0.000    0.000    0.000    0.000 {method '__exit__' of '_thread.RLock' objects}\n",
      "        1    0.000    0.000    0.000    0.000 queues.py:177(empty)\n",
      "        1    0.000    0.000    0.000    0.000 {method 'done' of '_asyncio.Future' objects}\n",
      "        2    0.000    0.000    0.000    0.000 {method 'extend' of 'list' objects}\n",
      "        1    0.000    0.000    0.000    0.000 zmqstream.py:683(_check_closed)\n",
      "        1    0.000    0.000    0.000    0.000 threading.py:314(_is_owned)\n",
      "        1    0.000    0.000    0.000    0.000 inspect.py:2878(__init__)\n",
      "        1    0.000    0.000    0.000    0.000 {method '_is_owned' of '_thread.RLock' objects}\n",
      "        1    0.000    0.000    0.000    0.000 queues.py:59(_set_timeout)\n",
      "        1    0.000    0.000    0.000    0.000 base_events.py:720(is_closed)\n",
      "        1    0.000    0.000    0.000    0.000 locks.py:224(clear)\n",
      "        1    0.000    0.000    0.000    0.000 {method 'release' of '_thread.lock' objects}"
     ]
    }
   ],
   "source": [
    "%%prun\n",
    "insertion(test2)"
   ]
  },
  {
   "cell_type": "markdown",
   "metadata": {},
   "source": [
    "### N = 10000"
   ]
  },
  {
   "cell_type": "code",
   "execution_count": 50,
   "metadata": {},
   "outputs": [
    {
     "name": "stdout",
     "output_type": "stream",
     "text": [
      " "
     ]
    },
    {
     "name": "stdout",
     "output_type": "stream",
     "text": [
      "         35187 function calls (35179 primitive calls) in 4.978 seconds\n",
      "\n",
      "   Ordered by: internal time\n",
      "\n",
      "   ncalls  tottime  percall  cumtime  percall filename:lineno(function)\n",
      "        1    3.823    3.823    3.823    3.823 1162899130.py:1(insertion)\n",
      "        3    1.028    0.343    1.028    0.343 {method 'poll' of 'select.epoll' objects}\n",
      "      2/1    0.063    0.031    3.824    3.824 {built-in method builtins.exec}\n",
      "       14    0.036    0.003    0.036    0.003 socket.py:621(send)\n",
      "     9999    0.010    0.000    0.016    0.000 random.py:242(_randbelow_with_getrandbits)\n",
      "        1    0.006    0.006    0.020    0.020 random.py:350(shuffle)\n",
      "    14549    0.003    0.000    0.003    0.000 {method 'getrandbits' of '_random.Random' objects}\n",
      "     9999    0.003    0.000    0.003    0.000 {method 'bit_length' of 'int' objects}\n",
      "        2    0.002    0.001    0.002    0.001 {method '__exit__' of 'sqlite3.Connection' objects}\n",
      "        4    0.001    0.000    0.063    0.016 {method 'run' of '_contextvars.Context' objects}\n",
      "        4    0.000    0.000    0.063    0.016 events.py:86(_run)\n",
      "        1    0.000    0.000    0.023    0.023 history.py:55(only_when_enabled)\n",
      "       60    0.000    0.000    0.000    0.000 enum.py:1544(_get_value)\n",
      "        1    0.000    0.000    3.824    3.824 <string>:1(<module>)\n",
      "        1    0.000    0.000    0.000    0.000 {method 'disable' of '_lsprof.Profiler' objects}\n",
      "       14    0.000    0.000    0.000    0.000 enum.py:1551(__or__)\n",
      "        2    0.000    0.000    0.037    0.018 socket.py:698(send_multipart)\n",
      "  131/127    0.000    0.000    0.000    0.000 {built-in method builtins.isinstance}\n",
      "        3    0.000    0.000    1.029    0.343 base_events.py:1910(_run_once)\n",
      "        4    0.000    0.000    0.000    0.000 attrsettr.py:65(_get_attr_opt)\n",
      "       26    0.000    0.000    0.000    0.000 enum.py:726(__call__)\n",
      "        4    0.000    0.000    0.000    0.000 attrsettr.py:42(__getattr__)\n",
      "        2    0.000    0.000    0.000    0.000 socket.py:777(recv_multipart)\n",
      "        6    0.000    0.000    0.000    0.000 enum.py:1562(__and__)\n",
      "       26    0.000    0.000    0.000    0.000 enum.py:1129(__new__)\n",
      "        1    0.000    0.000    0.000    0.000 {method 'execute' of 'sqlite3.Connection' objects}\n",
      "        1    0.000    0.000    0.000    0.000 inspect.py:3123(_bind)\n",
      "        3    0.000    0.000    1.028    0.343 selectors.py:451(select)\n",
      "        2    0.000    0.000    0.060    0.030 zmqstream.py:580(_run_callback)\n",
      "        2    0.000    0.000    0.037    0.018 iostream.py:278(_really_send)\n",
      "        2    0.000    0.000    0.060    0.030 iostream.py:157(_handle_event)\n",
      "        2    0.000    0.000    0.061    0.030 zmqstream.py:607(_handle_events)\n",
      "        6    0.000    0.000    0.000    0.000 typing.py:392(inner)\n",
      "        1    0.000    0.000    0.000    0.000 iostream.py:127(_event_pipe_gc)\n",
      "        1    0.000    0.000    0.022    0.022 history.py:845(writeout_cache)\n",
      "        2    0.000    0.000    0.000    0.000 tasks.py:653(sleep)\n",
      "        2    0.000    0.000    0.060    0.030 iostream.py:276(<lambda>)\n",
      "        4    0.000    0.000    0.000    0.000 <frozen importlib._bootstrap>:1390(_handle_fromlist)\n",
      "        2    0.000    0.000    0.000    0.000 zmqstream.py:687(_rebuild_io_state)\n",
      "        3    0.000    0.000    0.000    0.000 events.py:36(__init__)\n",
      "        1    0.000    0.000    0.000    0.000 iostream.py:118(_run_event_pipe_gc)\n",
      "        2    0.000    0.000    0.060    0.030 zmqstream.py:648(_handle_recv)\n",
      "        2    0.000    0.000    0.000    0.000 typing.py:1483(__subclasscheck__)\n",
      "        1    0.000    0.000    0.000    0.000 asyncio.py:225(add_callback)\n",
      "        2    0.000    0.000    0.000    0.000 zmqstream.py:710(_update_handler)\n",
      "        3    0.000    0.000    0.000    0.000 threading.py:1220(is_alive)\n",
      "        2    0.000    0.000    0.000    0.000 base_events.py:814(_call_soon)\n",
      "        1    0.000    0.000    0.000    0.000 traitlets.py:1527(_notify_observers)\n",
      "        7    0.000    0.000    0.000    0.000 base_events.py:734(time)\n",
      "       20    0.000    0.000    0.000    0.000 {built-in method builtins.len}\n",
      "        2    0.000    0.000    0.000    0.000 typing.py:1212(__instancecheck__)\n",
      "        1    0.000    0.000    0.000    0.000 base_events.py:767(call_at)\n",
      "        6    0.000    0.000    0.000    0.000 {built-in method builtins.max}\n",
      "        2    0.000    0.000    0.000    0.000 traitlets.py:3631(set)\n",
      "        6    0.000    0.000    0.000    0.000 traitlets.py:676(__get__)\n",
      "        1    0.000    0.000    0.000    0.000 base_events.py:743(call_later)\n",
      "        2    0.000    0.000    0.000    0.000 queue.py:97(empty)\n",
      "        1    0.000    0.000    0.000    0.000 events.py:155(cancel)\n",
      "        4    0.000    0.000    0.000    0.000 typing.py:1276(__hash__)\n",
      "        1    0.000    0.000    0.000    0.000 futures.py:311(_set_result_unless_cancelled)\n",
      "        2    0.000    0.000    0.000    0.000 traitlets.py:718(_validate)\n",
      "        2    0.000    0.000    0.000    0.000 base_events.py:785(call_soon)\n",
      "        9    0.000    0.000    0.000    0.000 {built-in method builtins.hasattr}\n",
      "        2    0.000    0.000    0.000    0.000 traitlets.py:3474(validate)\n",
      "        2    0.000    0.000    0.000    0.000 traitlets.py:689(set)\n",
      "        4    0.000    0.000    0.000    0.000 selector_events.py:750(_process_events)\n",
      "        6    0.000    0.000    0.000    0.000 traitlets.py:629(get)\n",
      "        1    0.000    0.000    0.022    0.022 history.py:833(_writeout_input_cache)\n",
      "        1    0.000    0.000    0.000    0.000 decorator.py:199(fix)\n",
      "      6/3    0.000    0.000    0.000    0.000 {method 'acquire' of '_thread.lock' objects}\n",
      "        2    0.000    0.000    0.000    0.000 {built-in method builtins.issubclass}\n",
      "        1    0.000    0.000    0.023    0.023 decorator.py:229(fun)\n",
      "        1    0.000    0.000    0.060    0.060 asyncio.py:200(_handle_events)\n",
      "        4    0.000    0.000    0.000    0.000 {built-in method builtins.getattr}\n",
      "        2    0.000    0.000    0.000    0.000 {built-in method posix.getpid}\n",
      "        2    0.000    0.000    0.000    0.000 iostream.py:213(_is_master_process)\n",
      "        1    0.000    0.000    0.000    0.000 inspect.py:2939(apply_defaults)\n",
      "        2    0.000    0.000    0.000    0.000 traitlets.py:727(_cross_validate)\n",
      "        7    0.000    0.000    0.000    0.000 {built-in method time.monotonic}\n",
      "        2    0.000    0.000    0.000    0.000 traitlets.py:3624(validate_elements)\n",
      "        6    0.000    0.000    0.000    0.000 {method 'popleft' of 'collections.deque' objects}\n",
      "        2    0.000    0.000    0.000    0.000 traitlets.py:708(__set__)\n",
      "        7    0.000    0.000    0.000    0.000 {method '__exit__' of '_thread.lock' objects}\n",
      "        2    0.000    0.000    0.000    0.000 iostream.py:216(_check_mp_mode)\n",
      "        1    0.000    0.000    0.000    0.000 traitlets.py:1512(_notify_trait)\n",
      "        1    0.000    0.000    0.000    0.000 {method 'set_result' of '_asyncio.Future' objects}\n",
      "        2    0.000    0.000    0.000    0.000 zmqstream.py:566(sending)\n",
      "        1    0.000    0.000    0.000    0.000 base_events.py:447(create_future)\n",
      "        1    0.000    0.000    0.000    0.000 inspect.py:2886(args)\n",
      "        1    0.000    0.000    0.000    0.000 threading.py:311(_acquire_restore)\n",
      "        2    0.000    0.000    0.000    0.000 <frozen abc>:121(__subclasscheck__)\n",
      "        1    0.000    0.000    0.000    0.000 traitlets.py:1523(notify_change)\n",
      "        4    0.000    0.000    0.000    0.000 {method 'upper' of 'str' objects}\n",
      "        5    0.000    0.000    0.000    0.000 {method 'append' of 'collections.deque' objects}\n",
      "        1    0.000    0.000    0.000    0.000 base_events.py:1895(_add_callback)\n",
      "        3    0.000    0.000    0.000    0.000 threading.py:1153(_wait_for_tstate_lock)\n",
      "        2    0.000    0.000    0.000    0.000 {built-in method builtins.min}\n",
      "        2    0.000    0.000    0.000    0.000 traitlets.py:2304(validate)\n",
      "        1    0.000    0.000    0.000    0.000 ioloop.py:742(_run_callback)\n",
      "        2    0.000    0.000    0.000    0.000 {built-in method _abc._abc_subclasscheck}\n",
      "       24    0.000    0.000    0.000    0.000 typing.py:2173(cast)\n",
      "        2    0.000    0.000    0.000    0.000 threading.py:302(__exit__)\n",
      "        1    0.000    0.000    0.020    0.020 147406998.py:3(generate_random_array)\n",
      "        2    0.000    0.000    0.000    0.000 {built-in method _asyncio.get_running_loop}\n",
      "        1    0.000    0.000    0.000    0.000 events.py:111(__init__)\n",
      "        5    0.000    0.000    0.000    0.000 {method 'append' of 'list' objects}\n",
      "        2    0.000    0.000    0.000    0.000 {built-in method math.ceil}\n",
      "        2    0.000    0.000    0.000    0.000 {built-in method _contextvars.copy_context}\n",
      "        6    0.000    0.000    0.000    0.000 {built-in method builtins.next}\n",
      "        1    0.000    0.000    0.000    0.000 history.py:839(_writeout_output_cache)\n",
      "        2    0.000    0.000    0.000    0.000 queue.py:209(_qsize)\n",
      "        4    0.000    0.000    0.000    0.000 {built-in method builtins.hash}\n",
      "        1    0.000    0.000    0.000    0.000 threading.py:627(clear)\n",
      "        2    0.000    0.000    0.000    0.000 threading.py:299(__enter__)\n",
      "        1    0.000    0.000    0.000    0.000 inspect.py:3262(bind)\n",
      "        4    0.000    0.000    0.000    0.000 zmqstream.py:562(receiving)\n",
      "        1    0.000    0.000    0.000    0.000 inspect.py:2909(kwargs)\n",
      "        1    0.000    0.000    0.000    0.000 threading.py:308(_release_save)\n",
      "        5    0.000    0.000    0.000    0.000 base_events.py:2005(get_debug)\n",
      "        1    0.000    0.000    0.000    0.000 events.py:72(cancel)\n",
      "        4    0.000    0.000    0.000    0.000 {method 'get' of 'dict' objects}\n",
      "        3    0.000    0.000    0.000    0.000 {method 'items' of 'mappingproxy' objects}\n",
      "        3    0.000    0.000    0.000    0.000 base_events.py:539(_check_closed)\n",
      "        1    0.000    0.000    0.000    0.000 zmqstream.py:718(<lambda>)\n",
      "        1    0.000    0.000    0.000    0.000 selectors.py:275(_key_from_fd)\n",
      "        1    0.000    0.000    0.000    0.000 {built-in method _heapq.heappop}\n",
      "        2    0.000    0.000    0.000    0.000 traitlets.py:3486(validate_elements)\n",
      "       10    0.000    0.000    0.000    0.000 inspect.py:2798(kind)\n",
      "        2    0.000    0.000    0.000    0.000 iostream.py:255(closed)\n",
      "        2    0.000    0.000    0.000    0.000 {built-in method builtins.iter}\n",
      "        3    0.000    0.000    0.000    0.000 threading.py:601(is_set)\n",
      "        2    0.000    0.000    0.000    0.000 {method '__enter__' of '_thread.lock' objects}\n",
      "        1    0.000    0.000    0.000    0.000 {built-in method _thread.allocate_lock}\n",
      "        1    0.000    0.000    0.000    0.000 {method 'values' of 'mappingproxy' objects}\n",
      "        1    0.000    0.000    0.000    0.000 {built-in method _heapq.heappush}\n",
      "        4    0.000    0.000    0.000    0.000 inspect.py:2786(name)\n",
      "        1    0.000    0.000    0.000    0.000 {method 'items' of 'dict' objects}\n",
      "        1    0.000    0.000    0.000    0.000 {method 'cancelled' of '_asyncio.Future' objects}\n",
      "        2    0.000    0.000    0.000    0.000 {method 'extend' of 'list' objects}\n",
      "        4    0.000    0.000    0.000    0.000 inspect.py:3079(parameters)\n",
      "        1    0.000    0.000    0.000    0.000 threading.py:314(_is_owned)\n",
      "        1    0.000    0.000    0.000    0.000 base_events.py:1905(_timer_handle_cancelled)\n",
      "        1    0.000    0.000    0.000    0.000 {method 'release' of '_thread.lock' objects}\n",
      "        1    0.000    0.000    0.000    0.000 inspect.py:2878(__init__)"
     ]
    }
   ],
   "source": [
    "%%prun\n",
    "insertion(generate_random_array(N=10000))"
   ]
  },
  {
   "cell_type": "code",
   "execution_count": 51,
   "metadata": {},
   "outputs": [],
   "source": [
    "test = [x for x in range(0, 10000)]"
   ]
  },
  {
   "cell_type": "code",
   "execution_count": 52,
   "metadata": {},
   "outputs": [
    {
     "name": "stdout",
     "output_type": "stream",
     "text": [
      " "
     ]
    },
    {
     "name": "stdout",
     "output_type": "stream",
     "text": [
      "         141 function calls (139 primitive calls) in 0.004 seconds\n",
      "\n",
      "   Ordered by: internal time\n",
      "\n",
      "   ncalls  tottime  percall  cumtime  percall filename:lineno(function)\n",
      "      2/1    0.002    0.001    0.001    0.001 <string>:1(<module>)\n",
      "        1    0.001    0.001    0.001    0.001 1162899130.py:1(insertion)\n",
      "        1    0.000    0.000    0.000    0.000 {method 'disable' of '_lsprof.Profiler' objects}\n",
      "      2/1    0.000    0.000    0.001    0.001 {built-in method builtins.exec}\n",
      "        6    0.000    0.000    0.000    0.000 socket.py:621(send)\n",
      "        1    0.000    0.000    0.000    0.000 attrsettr.py:65(_get_attr_opt)\n",
      "       21    0.000    0.000    0.000    0.000 enum.py:1544(_get_value)\n",
      "        6    0.000    0.000    0.000    0.000 enum.py:1551(__or__)\n",
      "        1    0.000    0.000    0.000    0.000 attrsettr.py:42(__getattr__)\n",
      "        1    0.000    0.000    0.000    0.000 socket.py:777(recv_multipart)\n",
      "        9    0.000    0.000    0.000    0.000 enum.py:726(__call__)\n",
      "        1    0.000    0.000    0.002    0.002 zmqstream.py:607(_handle_events)\n",
      "       43    0.000    0.000    0.000    0.000 {built-in method builtins.isinstance}\n",
      "        1    0.000    0.000    0.002    0.002 iostream.py:276(<lambda>)\n",
      "        3    0.000    0.000    0.000    0.000 typing.py:392(inner)\n",
      "        9    0.000    0.000    0.000    0.000 enum.py:1129(__new__)\n",
      "        1    0.000    0.000    0.002    0.002 zmqstream.py:648(_handle_recv)\n",
      "        1    0.000    0.000    0.000    0.000 enum.py:1562(__and__)\n",
      "        1    0.000    0.000    0.000    0.000 <frozen importlib._bootstrap>:1390(_handle_fromlist)\n",
      "        1    0.000    0.000    0.002    0.002 asyncio.py:200(_handle_events)\n",
      "        1    0.000    0.000    0.002    0.002 events.py:86(_run)\n",
      "        1    0.000    0.000    0.000    0.000 selector_events.py:750(_process_events)\n",
      "        2    0.000    0.000    0.000    0.000 typing.py:1276(__hash__)\n",
      "        1    0.000    0.000    0.002    0.002 iostream.py:157(_handle_event)\n",
      "        1    0.000    0.000    0.000    0.000 base_events.py:734(time)\n",
      "        1    0.000    0.000    0.000    0.000 base_events.py:1895(_add_callback)\n",
      "        1    0.000    0.000    0.002    0.002 {method 'run' of '_contextvars.Context' objects}\n",
      "        1    0.000    0.000    0.002    0.002 zmqstream.py:580(_run_callback)\n",
      "        1    0.000    0.000    0.000    0.000 iostream.py:213(_is_master_process)\n",
      "        1    0.000    0.000    0.000    0.000 iostream.py:216(_check_mp_mode)\n",
      "        3    0.000    0.000    0.000    0.000 {built-in method builtins.len}\n",
      "        1    0.000    0.000    0.000    0.000 {built-in method posix.getpid}\n",
      "        1    0.000    0.000    0.000    0.000 {method 'append' of 'list' objects}\n",
      "        1    0.000    0.000    0.000    0.000 {built-in method builtins.getattr}\n",
      "        1    0.000    0.000    0.000    0.000 selectors.py:275(_key_from_fd)\n",
      "        2    0.000    0.000    0.000    0.000 {method 'popleft' of 'collections.deque' objects}\n",
      "        2    0.000    0.000    0.000    0.000 {built-in method builtins.hash}\n",
      "        1    0.000    0.000    0.000    0.000 {built-in method time.monotonic}\n",
      "        1    0.000    0.000    0.000    0.000 {method 'upper' of 'str' objects}\n",
      "        1    0.000    0.000    0.000    0.000 {built-in method builtins.hasattr}\n",
      "        1    0.000    0.000    0.000    0.000 {method 'append' of 'collections.deque' objects}\n",
      "        1    0.000    0.000    0.000    0.000 zmqstream.py:562(receiving)\n",
      "        1    0.000    0.000    0.000    0.000 iostream.py:255(closed)\n",
      "        1    0.000    0.000    0.000    0.000 typing.py:2173(cast)"
     ]
    }
   ],
   "source": [
    "%%prun\n",
    "insertion(test)"
   ]
  },
  {
   "cell_type": "code",
   "execution_count": 53,
   "metadata": {},
   "outputs": [],
   "source": [
    "test2 = [x for x in range(10000, 0, -1)]"
   ]
  },
  {
   "cell_type": "code",
   "execution_count": 54,
   "metadata": {},
   "outputs": [
    {
     "name": "stdout",
     "output_type": "stream",
     "text": [
      " "
     ]
    },
    {
     "name": "stdout",
     "output_type": "stream",
     "text": [
      "         638 function calls (629 primitive calls) in 9.662 seconds\n",
      "\n",
      "   Ordered by: internal time\n",
      "\n",
      "   ncalls  tottime  percall  cumtime  percall filename:lineno(function)\n",
      "        1    6.483    6.483    6.483    6.483 1162899130.py:1(insertion)\n",
      "        3    3.104    1.035    3.104    1.035 {method 'poll' of 'select.epoll' objects}\n",
      "        1    0.033    0.033    0.039    0.039 history.py:55(only_when_enabled)\n",
      "       14    0.026    0.002    0.026    0.002 socket.py:621(send)\n",
      "        2    0.005    0.003    0.032    0.016 zmqstream.py:580(_run_callback)\n",
      "        2    0.005    0.003    0.005    0.003 {method '__exit__' of 'sqlite3.Connection' objects}\n",
      "      2/1    0.003    0.001    6.483    6.483 <string>:1(<module>)\n",
      "        1    0.000    0.000    0.000    0.000 {method 'disable' of '_lsprof.Profiler' objects}\n",
      "        2    0.000    0.000    0.027    0.013 socket.py:698(send_multipart)\n",
      "       60    0.000    0.000    0.000    0.000 enum.py:1544(_get_value)\n",
      "        3    0.000    0.000    3.105    1.035 base_events.py:1910(_run_once)\n",
      "       14    0.000    0.000    0.000    0.000 enum.py:1551(__or__)\n",
      "        4    0.000    0.000    0.000    0.000 attrsettr.py:65(_get_attr_opt)\n",
      "  131/127    0.000    0.000    0.000    0.000 {built-in method builtins.isinstance}\n",
      "      2/1    0.000    0.000    6.483    6.483 {built-in method builtins.exec}\n",
      "       26    0.000    0.000    0.000    0.000 enum.py:726(__call__)\n",
      "        2    0.000    0.000    0.000    0.000 socket.py:777(recv_multipart)\n",
      "        4    0.000    0.000    0.000    0.000 attrsettr.py:42(__getattr__)\n",
      "        1    0.000    0.000    0.000    0.000 inspect.py:3123(_bind)\n",
      "        1    0.000    0.000    0.000    0.000 {method 'execute' of 'sqlite3.Connection' objects}\n",
      "        4    0.000    0.000    0.033    0.008 {method 'run' of '_contextvars.Context' objects}\n",
      "        4    0.000    0.000    0.033    0.008 events.py:86(_run)\n",
      "        6    0.000    0.000    0.000    0.000 enum.py:1562(__and__)\n",
      "        1    0.000    0.000    0.000    0.000 iostream.py:127(_event_pipe_gc)\n",
      "       26    0.000    0.000    0.000    0.000 enum.py:1129(__new__)\n",
      "        3    0.000    0.000    3.104    1.035 selectors.py:451(select)\n",
      "        6    0.000    0.000    0.000    0.000 typing.py:392(inner)\n",
      "        2    0.000    0.000    0.033    0.016 zmqstream.py:607(_handle_events)\n",
      "        1    0.000    0.000    0.006    0.006 history.py:845(writeout_cache)\n",
      "        2    0.000    0.000    0.027    0.013 iostream.py:157(_handle_event)\n",
      "        1    0.000    0.000    0.000    0.000 decorator.py:199(fix)\n",
      "        2    0.000    0.000    0.027    0.013 iostream.py:278(_really_send)\n",
      "        2    0.000    0.000    0.000    0.000 tasks.py:653(sleep)\n",
      "        6    0.000    0.000    0.000    0.000 traitlets.py:676(__get__)\n",
      "        2    0.000    0.000    0.027    0.013 iostream.py:276(<lambda>)\n",
      "        1    0.000    0.000    0.000    0.000 inspect.py:2886(args)\n",
      "        1    0.000    0.000    0.000    0.000 iostream.py:118(_run_event_pipe_gc)\n",
      "        4    0.000    0.000    0.000    0.000 <frozen importlib._bootstrap>:1390(_handle_fromlist)\n",
      "        2    0.000    0.000    0.000    0.000 zmqstream.py:687(_rebuild_io_state)\n",
      "        3    0.000    0.000    0.000    0.000 events.py:36(__init__)\n",
      "        3    0.000    0.000    0.000    0.000 threading.py:1220(is_alive)\n",
      "        1    0.000    0.000    0.000    0.000 asyncio.py:225(add_callback)\n",
      "        1    0.000    0.000    0.000    0.000 inspect.py:3262(bind)\n",
      "        2    0.000    0.000    0.000    0.000 zmqstream.py:710(_update_handler)\n",
      "        2    0.000    0.000    0.032    0.016 zmqstream.py:648(_handle_recv)\n",
      "        2    0.000    0.000    0.000    0.000 base_events.py:814(_call_soon)\n",
      "        7    0.000    0.000    0.000    0.000 base_events.py:734(time)\n",
      "       19    0.000    0.000    0.000    0.000 {built-in method builtins.len}\n",
      "        2    0.000    0.000    0.000    0.000 typing.py:1483(__subclasscheck__)\n",
      "        1    0.000    0.000    0.000    0.000 base_events.py:767(call_at)\n",
      "        1    0.000    0.000    0.000    0.000 traitlets.py:1527(_notify_observers)\n",
      "        6    0.000    0.000    0.000    0.000 {built-in method builtins.max}\n",
      "        6    0.000    0.000    0.000    0.000 traitlets.py:629(get)\n",
      "        1    0.000    0.000    0.000    0.000 inspect.py:2939(apply_defaults)\n",
      "        2    0.000    0.000    0.000    0.000 traitlets.py:718(_validate)\n",
      "        1    0.000    0.000    0.000    0.000 events.py:155(cancel)\n",
      "        2    0.000    0.000    0.000    0.000 queue.py:97(empty)\n",
      "        2    0.000    0.000    0.000    0.000 base_events.py:785(call_soon)\n",
      "        4    0.000    0.000    0.000    0.000 typing.py:1276(__hash__)\n",
      "        1    0.000    0.000    0.000    0.000 base_events.py:743(call_later)\n",
      "        1    0.000    0.000    0.000    0.000 futures.py:311(_set_result_unless_cancelled)\n",
      "        1    0.000    0.000    0.005    0.005 history.py:833(_writeout_input_cache)\n",
      "        2    0.000    0.000    0.000    0.000 typing.py:1212(__instancecheck__)\n",
      "        1    0.000    0.000    0.000    0.000 threading.py:311(_acquire_restore)\n",
      "        2    0.000    0.000    0.000    0.000 traitlets.py:3631(set)\n",
      "      6/3    0.000    0.000    0.000    0.000 {method 'acquire' of '_thread.lock' objects}\n",
      "        4    0.000    0.000    0.000    0.000 selector_events.py:750(_process_events)\n",
      "        2    0.000    0.000    0.000    0.000 traitlets.py:3474(validate)\n",
      "        2    0.000    0.000    0.000    0.000 traitlets.py:689(set)\n",
      "        9    0.000    0.000    0.000    0.000 {built-in method builtins.hasattr}\n",
      "        1    0.000    0.000    0.039    0.039 decorator.py:229(fun)\n",
      "        4    0.000    0.000    0.000    0.000 {built-in method builtins.getattr}\n",
      "        2    0.000    0.000    0.000    0.000 threading.py:302(__exit__)\n",
      "        2    0.000    0.000    0.000    0.000 iostream.py:213(_is_master_process)\n",
      "        2    0.000    0.000    0.000    0.000 {built-in method builtins.issubclass}\n",
      "        7    0.000    0.000    0.000    0.000 {built-in method time.monotonic}\n",
      "        7    0.000    0.000    0.000    0.000 {method '__exit__' of '_thread.lock' objects}\n",
      "        6    0.000    0.000    0.000    0.000 {method 'popleft' of 'collections.deque' objects}\n",
      "        2    0.000    0.000    0.000    0.000 traitlets.py:3624(validate_elements)\n",
      "        2    0.000    0.000    0.000    0.000 <frozen abc>:121(__subclasscheck__)\n",
      "        2    0.000    0.000    0.000    0.000 traitlets.py:727(_cross_validate)\n",
      "        2    0.000    0.000    0.000    0.000 {built-in method posix.getpid}\n",
      "        1    0.000    0.000    0.000    0.000 {method 'set_result' of '_asyncio.Future' objects}\n",
      "        1    0.000    0.000    0.000    0.000 threading.py:627(clear)\n",
      "        6    0.000    0.000    0.000    0.000 {built-in method builtins.next}\n",
      "        2    0.000    0.000    0.000    0.000 threading.py:299(__enter__)\n",
      "        1    0.000    0.000    0.000    0.000 base_events.py:447(create_future)\n",
      "        3    0.000    0.000    0.000    0.000 threading.py:1153(_wait_for_tstate_lock)\n",
      "        2    0.000    0.000    0.000    0.000 zmqstream.py:566(sending)\n",
      "       24    0.000    0.000    0.000    0.000 typing.py:2173(cast)\n",
      "        2    0.000    0.000    0.000    0.000 iostream.py:216(_check_mp_mode)\n",
      "        1    0.000    0.000    0.000    0.000 base_events.py:1895(_add_callback)\n",
      "        5    0.000    0.000    0.000    0.000 {method 'append' of 'list' objects}\n",
      "        1    0.000    0.000    0.000    0.000 traitlets.py:1512(_notify_trait)\n",
      "        4    0.000    0.000    0.000    0.000 {method 'upper' of 'str' objects}\n",
      "        1    0.000    0.000    0.000    0.000 inspect.py:2909(kwargs)\n",
      "        1    0.000    0.000    0.033    0.033 asyncio.py:200(_handle_events)\n",
      "        1    0.000    0.000    0.000    0.000 traitlets.py:1523(notify_change)\n",
      "        5    0.000    0.000    0.000    0.000 {method 'append' of 'collections.deque' objects}\n",
      "        2    0.000    0.000    0.000    0.000 traitlets.py:708(__set__)\n",
      "        1    0.000    0.000    0.000    0.000 ioloop.py:742(_run_callback)\n",
      "        3    0.000    0.000    0.000    0.000 {method 'items' of 'mappingproxy' objects}\n",
      "        2    0.000    0.000    0.000    0.000 {built-in method builtins.min}\n",
      "        2    0.000    0.000    0.000    0.000 {built-in method _asyncio.get_running_loop}\n",
      "        1    0.000    0.000    0.000    0.000 events.py:111(__init__)\n",
      "        2    0.000    0.000    0.000    0.000 {built-in method _abc._abc_subclasscheck}\n",
      "        2    0.000    0.000    0.000    0.000 traitlets.py:2304(validate)\n",
      "       10    0.000    0.000    0.000    0.000 inspect.py:2798(kind)\n",
      "        5    0.000    0.000    0.000    0.000 base_events.py:2005(get_debug)\n",
      "        2    0.000    0.000    0.000    0.000 {built-in method math.ceil}\n",
      "        2    0.000    0.000    0.000    0.000 {built-in method _contextvars.copy_context}\n",
      "        4    0.000    0.000    0.000    0.000 {built-in method builtins.hash}\n",
      "        2    0.000    0.000    0.000    0.000 queue.py:209(_qsize)\n",
      "        1    0.000    0.000    0.000    0.000 history.py:839(_writeout_output_cache)\n",
      "        4    0.000    0.000    0.000    0.000 zmqstream.py:562(receiving)\n",
      "        1    0.000    0.000    0.000    0.000 threading.py:308(_release_save)\n",
      "        1    0.000    0.000    0.000    0.000 {method 'values' of 'mappingproxy' objects}\n",
      "        1    0.000    0.000    0.000    0.000 events.py:72(cancel)\n",
      "        4    0.000    0.000    0.000    0.000 {method 'get' of 'dict' objects}\n",
      "        3    0.000    0.000    0.000    0.000 base_events.py:539(_check_closed)\n",
      "        2    0.000    0.000    0.000    0.000 {method '__enter__' of '_thread.lock' objects}\n",
      "        2    0.000    0.000    0.000    0.000 {built-in method builtins.iter}\n",
      "        1    0.000    0.000    0.000    0.000 zmqstream.py:718(<lambda>)\n",
      "        1    0.000    0.000    0.000    0.000 selectors.py:275(_key_from_fd)\n",
      "        1    0.000    0.000    0.000    0.000 {built-in method _heapq.heappop}\n",
      "        3    0.000    0.000    0.000    0.000 threading.py:601(is_set)\n",
      "        4    0.000    0.000    0.000    0.000 inspect.py:3079(parameters)\n",
      "        4    0.000    0.000    0.000    0.000 inspect.py:2786(name)\n",
      "        2    0.000    0.000    0.000    0.000 traitlets.py:3486(validate_elements)\n",
      "        2    0.000    0.000    0.000    0.000 iostream.py:255(closed)\n",
      "        1    0.000    0.000    0.000    0.000 {built-in method _heapq.heappush}\n",
      "        1    0.000    0.000    0.000    0.000 {method 'cancelled' of '_asyncio.Future' objects}\n",
      "        1    0.000    0.000    0.000    0.000 {built-in method _thread.allocate_lock}\n",
      "        1    0.000    0.000    0.000    0.000 {method 'items' of 'dict' objects}\n",
      "        1    0.000    0.000    0.000    0.000 threading.py:314(_is_owned)\n",
      "        2    0.000    0.000    0.000    0.000 {method 'extend' of 'list' objects}\n",
      "        1    0.000    0.000    0.000    0.000 inspect.py:2878(__init__)\n",
      "        1    0.000    0.000    0.000    0.000 base_events.py:1905(_timer_handle_cancelled)\n",
      "        1    0.000    0.000    0.000    0.000 {method 'release' of '_thread.lock' objects}"
     ]
    }
   ],
   "source": [
    "%%prun\n",
    "insertion(test2)"
   ]
  },
  {
   "cell_type": "markdown",
   "metadata": {},
   "source": [
    "## 1.3 Selection"
   ]
  },
  {
   "attachments": {},
   "cell_type": "markdown",
   "metadata": {},
   "source": [
    "**Un pseudocode possible** *(source : Wikipedia, réécrit sous format python)*\n",
    "\n",
    "```\n",
    "procédure tri_selection(tableau t, entier n):\n",
    "  pour i de 0 à n - 2:\n",
    "      min = i       \n",
    "      pour j de i + 1 à n - 1:\n",
    "          si t[j] < t[min]:\n",
    "            min = j\n",
    "      si min ≠ i,\n",
    "          échanger(t, i, min)\n",
    "```"
   ]
  },
  {
   "cell_type": "code",
   "execution_count": null,
   "metadata": {},
   "outputs": [],
   "source": [
    "def selection(A):\n",
    "    \"\"\"Trie le tableau en cherchant le plus petit élément à mettre dans la\n",
    "    première case, puis le second plus petit à mettre dans la seconde case,\n",
    "    etc\"\"\"\n",
    "\n",
    "    for i in range(0, len(A)):\n",
    "\n",
    "        min = i\n",
    "\n",
    "        for j in range(i+1, len(A)):\n",
    "\n",
    "            if A[j] < A[min]:\n",
    "\n",
    "                min = j\n",
    "        \n",
    "        if min != i:\n",
    "\n",
    "            swap(A, i, min)\n",
    "    \n",
    "    return A"
   ]
  },
  {
   "cell_type": "markdown",
   "metadata": {},
   "source": [
    "### N = 10"
   ]
  },
  {
   "cell_type": "code",
   "execution_count": null,
   "metadata": {},
   "outputs": [],
   "source": [
    "%%prun\n",
    "selection(generate_random_array(N=10))"
   ]
  },
  {
   "cell_type": "code",
   "execution_count": null,
   "metadata": {},
   "outputs": [],
   "source": [
    "test = [x for x in range(0, 10)]"
   ]
  },
  {
   "cell_type": "code",
   "execution_count": null,
   "metadata": {},
   "outputs": [],
   "source": [
    "%%prun\n",
    "selection(test)"
   ]
  },
  {
   "cell_type": "code",
   "execution_count": null,
   "metadata": {},
   "outputs": [],
   "source": [
    "test2 = [x for x in range(10, 0, -1)]"
   ]
  },
  {
   "cell_type": "code",
   "execution_count": null,
   "metadata": {},
   "outputs": [],
   "source": [
    "%%prun\n",
    "selection(test2)"
   ]
  },
  {
   "cell_type": "markdown",
   "metadata": {},
   "source": [
    "### N = 100"
   ]
  },
  {
   "cell_type": "code",
   "execution_count": null,
   "metadata": {},
   "outputs": [],
   "source": [
    "%%prun\n",
    "selection(generate_random_array(N=100))"
   ]
  },
  {
   "cell_type": "code",
   "execution_count": null,
   "metadata": {},
   "outputs": [],
   "source": [
    "test = [x for x in range(0, 100)]"
   ]
  },
  {
   "cell_type": "code",
   "execution_count": null,
   "metadata": {},
   "outputs": [],
   "source": [
    "%%prun\n",
    "selection(test)"
   ]
  },
  {
   "cell_type": "code",
   "execution_count": null,
   "metadata": {},
   "outputs": [],
   "source": [
    "test2 = [x for x in range(100, 0, -1)]"
   ]
  },
  {
   "cell_type": "code",
   "execution_count": null,
   "metadata": {},
   "outputs": [],
   "source": [
    "%%prun\n",
    "selection(test2)"
   ]
  },
  {
   "cell_type": "markdown",
   "metadata": {},
   "source": [
    "### N = 1000"
   ]
  },
  {
   "cell_type": "code",
   "execution_count": null,
   "metadata": {},
   "outputs": [],
   "source": [
    "%%prun\n",
    "selection(generate_random_array(N=1000))"
   ]
  },
  {
   "cell_type": "code",
   "execution_count": null,
   "metadata": {},
   "outputs": [],
   "source": [
    "test = [x for x in range(0, 1000)]"
   ]
  },
  {
   "cell_type": "code",
   "execution_count": null,
   "metadata": {},
   "outputs": [],
   "source": [
    "%%prun\n",
    "selection(test)"
   ]
  },
  {
   "cell_type": "code",
   "execution_count": null,
   "metadata": {},
   "outputs": [],
   "source": [
    "test2 = [x for x in range(1000, 0, -1)]"
   ]
  },
  {
   "cell_type": "code",
   "execution_count": null,
   "metadata": {},
   "outputs": [],
   "source": [
    "%%prun\n",
    "selection(test2)"
   ]
  },
  {
   "cell_type": "markdown",
   "metadata": {},
   "source": [
    "### N = 10000"
   ]
  },
  {
   "cell_type": "code",
   "execution_count": null,
   "metadata": {},
   "outputs": [],
   "source": [
    "%%prun\n",
    "selection(generate_random_array(N=10000))"
   ]
  },
  {
   "cell_type": "code",
   "execution_count": null,
   "metadata": {},
   "outputs": [],
   "source": [
    "test = [x for x in range(0, 10000)]"
   ]
  },
  {
   "cell_type": "code",
   "execution_count": null,
   "metadata": {},
   "outputs": [],
   "source": [
    "%%prun\n",
    "selection(test)"
   ]
  },
  {
   "cell_type": "code",
   "execution_count": null,
   "metadata": {},
   "outputs": [],
   "source": [
    "test2 = [x for x in range(10000, 0, -1)]"
   ]
  },
  {
   "cell_type": "code",
   "execution_count": null,
   "metadata": {},
   "outputs": [],
   "source": [
    "%%prun\n",
    "selection(test2)"
   ]
  }
 ],
 "metadata": {
  "kernelspec": {
   "display_name": "Python 3 (ipykernel)",
   "language": "python",
   "name": "python3"
  },
  "language_info": {
   "codemirror_mode": {
    "name": "ipython",
    "version": 3
   },
   "file_extension": ".py",
   "mimetype": "text/x-python",
   "name": "python",
   "nbconvert_exporter": "python",
   "pygments_lexer": "ipython3",
   "version": "3.1.undefined"
  }
 },
 "nbformat": 4,
 "nbformat_minor": 2
}
