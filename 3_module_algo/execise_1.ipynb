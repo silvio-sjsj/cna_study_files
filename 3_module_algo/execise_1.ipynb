{
 "cells": [
  {
   "cell_type": "markdown",
   "metadata": {},
   "source": []
  },
  {
   "cell_type": "code",
   "execution_count": 23,
   "metadata": {},
   "outputs": [],
   "source": [
    "import random"
   ]
  },
  {
   "cell_type": "code",
   "execution_count": 24,
   "metadata": {},
   "outputs": [],
   "source": [
    "list_chiffres = [\"1\", \"2\", \"3\", \"4\", \"5\", \"6\", \"7\", \"8\", \"9\", \"10\", \"V\", \"D\", \"R\", \"J\"]\n",
    "list_couleurs = [\"cœur\", \"carreau\", \"pique\", \"trèfle\"]"
   ]
  },
  {
   "cell_type": "code",
   "execution_count": 25,
   "metadata": {},
   "outputs": [],
   "source": [
    "def carte_to_num(list1, list2):\n",
    "\n",
    "    list_val = []\n",
    "\n",
    "    for i in range(len(list1)):\n",
    "\n",
    "        for j in range(len(list2)):\n",
    "\n",
    "            val = int(str(i) + str(j))\n",
    "\n",
    "            list_val.append(val)\n",
    "    \n",
    "    return list_val"
   ]
  },
  {
   "cell_type": "code",
   "execution_count": 26,
   "metadata": {},
   "outputs": [],
   "source": [
    "def num_to_carte(list1):\n",
    "\n",
    "    list_car = []\n",
    "\n",
    "    for n in list1:\n",
    "\n",
    "        if n == 0:\n",
    "            list_car.append(\"1\" + \"\" + \"cœur\")\n",
    "        elif n == 1:\n",
    "            list_car.append(\"1\" + \"\" + \"carreau\")\n",
    "        elif n == 2:\n",
    "            list_car.append(\"1\" + \"\" + \"pique\")\n",
    "        elif n == 3:\n",
    "            list_car.append(\"1\" + \"\" + \"trèfle\")\n",
    "        else:\n",
    "            dernier = n % 10\n",
    "            valeur = n // 10\n",
    "            if dernier == 0:\n",
    "                list_car.append(str(1+valeur) + \"\" + \"cœur\")\n",
    "            if dernier == 1:\n",
    "                list_car.append(str(1+valeur) + \"\" + \"carreau\")\n",
    "            if dernier == 2:\n",
    "                list_car.append(str(1+valeur) + \"\" + \"pique\")\n",
    "            if dernier == 3:\n",
    "                list_car.append(str(1+valeur) + \"\" + \"trèfle\")\n",
    "        \n",
    "    return list_car"
   ]
  },
  {
   "cell_type": "code",
   "execution_count": 27,
   "metadata": {},
   "outputs": [],
   "source": [
    "def permutation(list_permut):\n",
    "\n",
    "    for i in range(len(list_permut)):\n",
    "        for j in range(i+1, len(list_permut)):\n",
    "\n",
    "            if list_permut[j] <= list_permut[i]:\n",
    "                list_permut[i], list_permut[j] = list_permut[j], list_permut[i]\n",
    "            else:\n",
    "                pass\n",
    "    \n",
    "    return list_permut"
   ]
  },
  {
   "cell_type": "code",
   "execution_count": 28,
   "metadata": {},
   "outputs": [],
   "source": [
    "list_initial = carte_to_num(list_chiffres, list_couleurs)\n",
    "liste_ordonnee = permutation(list_initial)\n",
    "list_finale = num_to_carte(liste_ordonnee)"
   ]
  },
  {
   "cell_type": "code",
   "execution_count": 29,
   "metadata": {},
   "outputs": [
    {
     "data": {
      "text/plain": [
       "['1cœur',\n",
       " '1carreau',\n",
       " '1pique',\n",
       " '1trèfle',\n",
       " '2cœur',\n",
       " '2carreau',\n",
       " '2pique',\n",
       " '2trèfle',\n",
       " '3cœur',\n",
       " '3carreau',\n",
       " '3pique',\n",
       " '3trèfle',\n",
       " '4cœur',\n",
       " '4carreau',\n",
       " '4pique',\n",
       " '4trèfle',\n",
       " '5cœur',\n",
       " '5carreau',\n",
       " '5pique',\n",
       " '5trèfle',\n",
       " '6cœur',\n",
       " '6carreau',\n",
       " '6pique',\n",
       " '6trèfle',\n",
       " '7cœur',\n",
       " '7carreau',\n",
       " '7pique',\n",
       " '7trèfle',\n",
       " '8cœur',\n",
       " '8carreau',\n",
       " '8pique',\n",
       " '8trèfle',\n",
       " '9cœur',\n",
       " '9carreau',\n",
       " '9pique',\n",
       " '9trèfle',\n",
       " '10cœur',\n",
       " '10carreau',\n",
       " '10pique',\n",
       " '10trèfle',\n",
       " '11cœur',\n",
       " '11carreau',\n",
       " '11pique',\n",
       " '11trèfle',\n",
       " '12cœur',\n",
       " '12carreau',\n",
       " '12pique',\n",
       " '12trèfle',\n",
       " '13cœur',\n",
       " '13carreau',\n",
       " '13pique',\n",
       " '13trèfle',\n",
       " '14cœur',\n",
       " '14carreau',\n",
       " '14pique',\n",
       " '14trèfle']"
      ]
     },
     "execution_count": 29,
     "metadata": {},
     "output_type": "execute_result"
    }
   ],
   "source": [
    "list_finale"
   ]
  }
 ],
 "metadata": {
  "kernelspec": {
   "display_name": "cna-arbres",
   "language": "python",
   "name": "python3"
  },
  "language_info": {
   "codemirror_mode": {
    "name": "ipython",
    "version": 3
   },
   "file_extension": ".py",
   "mimetype": "text/x-python",
   "name": "python",
   "nbconvert_exporter": "python",
   "pygments_lexer": "ipython3",
   "version": "3.12.4"
  }
 },
 "nbformat": 4,
 "nbformat_minor": 2
}
