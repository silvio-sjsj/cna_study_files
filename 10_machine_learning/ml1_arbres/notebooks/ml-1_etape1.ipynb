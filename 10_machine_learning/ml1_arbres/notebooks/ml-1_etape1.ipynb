{
 "cells": [
  {
   "cell_type": "code",
   "execution_count": 152,
   "metadata": {},
   "outputs": [],
   "source": [
    "import pandas as pd\n",
    "import numpy as np\n",
    "import matplotlib.pyplot as plt\n",
    "import seaborn as sns\n",
    "import ast\n",
    "\n",
    "from pathlib import Path\n",
    "from sklearn.model_selection import train_test_split"
   ]
  },
  {
   "cell_type": "code",
   "execution_count": 153,
   "metadata": {},
   "outputs": [],
   "source": [
    "IMAGES_PATH = Path().resolve().parent / \"images\"\n",
    "IMAGES_PATH.mkdir(parents=True, exist_ok=True)\n",
    "\n",
    "def save_fig(fig_id, tight_layout=True, fig_extension=\"png\", resolution=300):\n",
    "    path = IMAGES_PATH / f\"{fig_id}.{fig_extension}\"\n",
    "    if tight_layout:\n",
    "        plt.tight_layout()\n",
    "    plt.savefig(path, format=fig_extension, dpi=resolution)"
   ]
  },
  {
   "cell_type": "code",
   "execution_count": 154,
   "metadata": {},
   "outputs": [],
   "source": [
    "data_path = Path().resolve().parent / \"data\"\n",
    "\n",
    "data = pd.read_csv(data_path/\"arbres_grenoble_epsg4326.csv\")"
   ]
  },
  {
   "cell_type": "code",
   "execution_count": 155,
   "metadata": {},
   "outputs": [
    {
     "data": {
      "text/html": [
       "<div>\n",
       "<style scoped>\n",
       "    .dataframe tbody tr th:only-of-type {\n",
       "        vertical-align: middle;\n",
       "    }\n",
       "\n",
       "    .dataframe tbody tr th {\n",
       "        vertical-align: top;\n",
       "    }\n",
       "\n",
       "    .dataframe thead th {\n",
       "        text-align: right;\n",
       "    }\n",
       "</style>\n",
       "<table border=\"1\" class=\"dataframe\">\n",
       "  <thead>\n",
       "    <tr style=\"text-align: right;\">\n",
       "      <th></th>\n",
       "      <th>elem_point_id</th>\n",
       "      <th>code</th>\n",
       "      <th>nom</th>\n",
       "      <th>genre</th>\n",
       "      <th>genre_desc</th>\n",
       "      <th>categorie</th>\n",
       "      <th>categorie_desc</th>\n",
       "      <th>sous_categorie</th>\n",
       "      <th>sous_categorie_desc</th>\n",
       "      <th>code_parent</th>\n",
       "      <th>...</th>\n",
       "      <th>diametrearbre</th>\n",
       "      <th>causeabattage</th>\n",
       "      <th>collectivite</th>\n",
       "      <th>stationmetro</th>\n",
       "      <th>hauteurarbre</th>\n",
       "      <th>portarbre</th>\n",
       "      <th>structure</th>\n",
       "      <th>forme</th>\n",
       "      <th>typenature</th>\n",
       "      <th>geo_point_2d</th>\n",
       "    </tr>\n",
       "  </thead>\n",
       "  <tbody>\n",
       "    <tr>\n",
       "      <th>0</th>\n",
       "      <td>25301</td>\n",
       "      <td>ESP30399</td>\n",
       "      <td>AR30399</td>\n",
       "      <td>VEG</td>\n",
       "      <td>VEGETATION</td>\n",
       "      <td>ESP01</td>\n",
       "      <td>Arbre</td>\n",
       "      <td>ESP187</td>\n",
       "      <td>Bois semi naturel</td>\n",
       "      <td>ESP761</td>\n",
       "      <td>...</td>\n",
       "      <td>NaN</td>\n",
       "      <td>NaN</td>\n",
       "      <td>Ville de Grenoble</td>\n",
       "      <td>NaN</td>\n",
       "      <td>NaN</td>\n",
       "      <td>NaN</td>\n",
       "      <td>Ville de Grenoble</td>\n",
       "      <td>NaN</td>\n",
       "      <td>NaN</td>\n",
       "      <td>45.164519466065315,5.7364309029098335</td>\n",
       "    </tr>\n",
       "    <tr>\n",
       "      <th>1</th>\n",
       "      <td>17909</td>\n",
       "      <td>ESP5185</td>\n",
       "      <td>AR5185</td>\n",
       "      <td>VEG</td>\n",
       "      <td>VEGETATION</td>\n",
       "      <td>ESP01</td>\n",
       "      <td>Arbre</td>\n",
       "      <td>ESP187</td>\n",
       "      <td>Bois semi naturel</td>\n",
       "      <td>ESP761</td>\n",
       "      <td>...</td>\n",
       "      <td>NaN</td>\n",
       "      <td>NaN</td>\n",
       "      <td>Ville de Grenoble</td>\n",
       "      <td>NaN</td>\n",
       "      <td>NaN</td>\n",
       "      <td>NaN</td>\n",
       "      <td>Ville de Grenoble</td>\n",
       "      <td>NaN</td>\n",
       "      <td>NaN</td>\n",
       "      <td>45.16450876797978,5.736451624755175</td>\n",
       "    </tr>\n",
       "    <tr>\n",
       "      <th>2</th>\n",
       "      <td>28960</td>\n",
       "      <td>ESP16027</td>\n",
       "      <td>AR16027</td>\n",
       "      <td>VEG</td>\n",
       "      <td>VEGETATION</td>\n",
       "      <td>ESP01</td>\n",
       "      <td>Arbre</td>\n",
       "      <td>ESP187</td>\n",
       "      <td>Bois semi naturel</td>\n",
       "      <td>ESP761</td>\n",
       "      <td>...</td>\n",
       "      <td>NaN</td>\n",
       "      <td>NaN</td>\n",
       "      <td>Ville de Grenoble</td>\n",
       "      <td>NaN</td>\n",
       "      <td>NaN</td>\n",
       "      <td>NaN</td>\n",
       "      <td>Ville de Grenoble</td>\n",
       "      <td>NaN</td>\n",
       "      <td>NaN</td>\n",
       "      <td>45.164556703715526,5.736307688353201</td>\n",
       "    </tr>\n",
       "    <tr>\n",
       "      <th>3</th>\n",
       "      <td>14246</td>\n",
       "      <td>ESP17702</td>\n",
       "      <td>AR17702</td>\n",
       "      <td>VEG</td>\n",
       "      <td>VEGETATION</td>\n",
       "      <td>ESP01</td>\n",
       "      <td>Arbre</td>\n",
       "      <td>ESP187</td>\n",
       "      <td>Bois semi naturel</td>\n",
       "      <td>ESP761</td>\n",
       "      <td>...</td>\n",
       "      <td>NaN</td>\n",
       "      <td>NaN</td>\n",
       "      <td>Ville de Grenoble</td>\n",
       "      <td>NaN</td>\n",
       "      <td>NaN</td>\n",
       "      <td>NaN</td>\n",
       "      <td>Ville de Grenoble</td>\n",
       "      <td>NaN</td>\n",
       "      <td>NaN</td>\n",
       "      <td>45.164533444541846,5.736391508663688</td>\n",
       "    </tr>\n",
       "    <tr>\n",
       "      <th>4</th>\n",
       "      <td>45677</td>\n",
       "      <td>ESP41299</td>\n",
       "      <td>AR41299</td>\n",
       "      <td>VEG</td>\n",
       "      <td>VEGETATION</td>\n",
       "      <td>ESP01</td>\n",
       "      <td>Arbre</td>\n",
       "      <td>ESP174</td>\n",
       "      <td>Arbre d'espaces ouverts</td>\n",
       "      <td>ESP137</td>\n",
       "      <td>...</td>\n",
       "      <td>NaN</td>\n",
       "      <td>NaN</td>\n",
       "      <td>NaN</td>\n",
       "      <td>NaN</td>\n",
       "      <td>NaN</td>\n",
       "      <td>NaN</td>\n",
       "      <td>NaN</td>\n",
       "      <td>NaN</td>\n",
       "      <td>NaN</td>\n",
       "      <td>45.18330787379752,5.709045164969469</td>\n",
       "    </tr>\n",
       "  </tbody>\n",
       "</table>\n",
       "<p>5 rows × 38 columns</p>\n",
       "</div>"
      ],
      "text/plain": [
       "   elem_point_id      code      nom genre  genre_desc categorie  \\\n",
       "0          25301  ESP30399  AR30399   VEG  VEGETATION     ESP01   \n",
       "1          17909   ESP5185   AR5185   VEG  VEGETATION     ESP01   \n",
       "2          28960  ESP16027  AR16027   VEG  VEGETATION     ESP01   \n",
       "3          14246  ESP17702  AR17702   VEG  VEGETATION     ESP01   \n",
       "4          45677  ESP41299  AR41299   VEG  VEGETATION     ESP01   \n",
       "\n",
       "  categorie_desc sous_categorie      sous_categorie_desc code_parent  ...  \\\n",
       "0          Arbre         ESP187        Bois semi naturel      ESP761  ...   \n",
       "1          Arbre         ESP187        Bois semi naturel      ESP761  ...   \n",
       "2          Arbre         ESP187        Bois semi naturel      ESP761  ...   \n",
       "3          Arbre         ESP187        Bois semi naturel      ESP761  ...   \n",
       "4          Arbre         ESP174  Arbre d'espaces ouverts      ESP137  ...   \n",
       "\n",
       "  diametrearbre  causeabattage       collectivite stationmetro hauteurarbre  \\\n",
       "0           NaN            NaN  Ville de Grenoble          NaN          NaN   \n",
       "1           NaN            NaN  Ville de Grenoble          NaN          NaN   \n",
       "2           NaN            NaN  Ville de Grenoble          NaN          NaN   \n",
       "3           NaN            NaN  Ville de Grenoble          NaN          NaN   \n",
       "4           NaN            NaN                NaN          NaN          NaN   \n",
       "\n",
       "  portarbre          structure  forme typenature  \\\n",
       "0       NaN  Ville de Grenoble    NaN        NaN   \n",
       "1       NaN  Ville de Grenoble    NaN        NaN   \n",
       "2       NaN  Ville de Grenoble    NaN        NaN   \n",
       "3       NaN  Ville de Grenoble    NaN        NaN   \n",
       "4       NaN                NaN    NaN        NaN   \n",
       "\n",
       "                            geo_point_2d  \n",
       "0  45.164519466065315,5.7364309029098335  \n",
       "1    45.16450876797978,5.736451624755175  \n",
       "2   45.164556703715526,5.736307688353201  \n",
       "3   45.164533444541846,5.736391508663688  \n",
       "4    45.18330787379752,5.709045164969469  \n",
       "\n",
       "[5 rows x 38 columns]"
      ]
     },
     "execution_count": 155,
     "metadata": {},
     "output_type": "execute_result"
    }
   ],
   "source": [
    "data.head()"
   ]
  },
  {
   "cell_type": "code",
   "execution_count": 156,
   "metadata": {},
   "outputs": [
    {
     "name": "stdout",
     "output_type": "stream",
     "text": [
      "<class 'pandas.core.frame.DataFrame'>\n",
      "RangeIndex: 31895 entries, 0 to 31894\n",
      "Data columns (total 38 columns):\n",
      " #   Column                 Non-Null Count  Dtype  \n",
      "---  ------                 --------------  -----  \n",
      " 0   elem_point_id          31895 non-null  int64  \n",
      " 1   code                   31895 non-null  object \n",
      " 2   nom                    31895 non-null  object \n",
      " 3   genre                  31895 non-null  object \n",
      " 4   genre_desc             31895 non-null  object \n",
      " 5   categorie              31895 non-null  object \n",
      " 6   categorie_desc         31895 non-null  object \n",
      " 7   sous_categorie         31895 non-null  object \n",
      " 8   sous_categorie_desc    31895 non-null  object \n",
      " 9   code_parent            31895 non-null  object \n",
      " 10  code_parent_desc       31895 non-null  object \n",
      " 11  adr_secteur            31895 non-null  int64  \n",
      " 12  bien_reference         31895 non-null  object \n",
      " 13  genre_bota             31079 non-null  object \n",
      " 14  espece                 29415 non-null  object \n",
      " 15  variete                4600 non-null   object \n",
      " 16  stadededeveloppement   27645 non-null  object \n",
      " 17  equipe                 0 non-null      float64\n",
      " 18  remarques              5340 non-null   object \n",
      " 19  anneedeplantation      29756 non-null  float64\n",
      " 20  raisondeplantation     3289 non-null   object \n",
      " 21  traitementchenilles    2077 non-null   object \n",
      " 22  courrier               0 non-null      float64\n",
      " 23  identifiantplu         592 non-null    float64\n",
      " 24  typeimplantationplu    4976 non-null   object \n",
      " 25  intituleprotectionplu  592 non-null    object \n",
      " 26  anneeabattage          0 non-null      float64\n",
      " 27  essouchement           0 non-null      float64\n",
      " 28  diametrearbre          0 non-null      float64\n",
      " 29  causeabattage          0 non-null      float64\n",
      " 30  collectivite           31188 non-null  object \n",
      " 31  stationmetro           1882 non-null   object \n",
      " 32  hauteurarbre           20199 non-null  object \n",
      " 33  portarbre              13818 non-null  object \n",
      " 34  structure              31080 non-null  object \n",
      " 35  forme                  8541 non-null   object \n",
      " 36  typenature             13818 non-null  object \n",
      " 37  geo_point_2d           31895 non-null  object \n",
      "dtypes: float64(8), int64(2), object(28)\n",
      "memory usage: 9.2+ MB\n"
     ]
    }
   ],
   "source": [
    "data.info()"
   ]
  },
  {
   "cell_type": "code",
   "execution_count": 157,
   "metadata": {},
   "outputs": [],
   "source": [
    "arbres_df = data[data['anneedeplantation'].notnull()].reset_index(drop=True)\n",
    "anne_null = data[data['anneedeplantation'].isnull()].reset_index(drop=True)"
   ]
  },
  {
   "cell_type": "code",
   "execution_count": 158,
   "metadata": {},
   "outputs": [
    {
     "name": "stdout",
     "output_type": "stream",
     "text": [
      "<class 'pandas.core.frame.DataFrame'>\n",
      "RangeIndex: 29756 entries, 0 to 29755\n",
      "Data columns (total 38 columns):\n",
      " #   Column                 Non-Null Count  Dtype  \n",
      "---  ------                 --------------  -----  \n",
      " 0   elem_point_id          29756 non-null  int64  \n",
      " 1   code                   29756 non-null  object \n",
      " 2   nom                    29756 non-null  object \n",
      " 3   genre                  29756 non-null  object \n",
      " 4   genre_desc             29756 non-null  object \n",
      " 5   categorie              29756 non-null  object \n",
      " 6   categorie_desc         29756 non-null  object \n",
      " 7   sous_categorie         29756 non-null  object \n",
      " 8   sous_categorie_desc    29756 non-null  object \n",
      " 9   code_parent            29756 non-null  object \n",
      " 10  code_parent_desc       29756 non-null  object \n",
      " 11  adr_secteur            29756 non-null  int64  \n",
      " 12  bien_reference         29756 non-null  object \n",
      " 13  genre_bota             29716 non-null  object \n",
      " 14  espece                 28378 non-null  object \n",
      " 15  variete                4504 non-null   object \n",
      " 16  stadededeveloppement   27232 non-null  object \n",
      " 17  equipe                 0 non-null      float64\n",
      " 18  remarques              5037 non-null   object \n",
      " 19  anneedeplantation      29756 non-null  float64\n",
      " 20  raisondeplantation     3262 non-null   object \n",
      " 21  traitementchenilles    2077 non-null   object \n",
      " 22  courrier               0 non-null      float64\n",
      " 23  identifiantplu         592 non-null    float64\n",
      " 24  typeimplantationplu    4972 non-null   object \n",
      " 25  intituleprotectionplu  592 non-null    object \n",
      " 26  anneeabattage          0 non-null      float64\n",
      " 27  essouchement           0 non-null      float64\n",
      " 28  diametrearbre          0 non-null      float64\n",
      " 29  causeabattage          0 non-null      float64\n",
      " 30  collectivite           29661 non-null  object \n",
      " 31  stationmetro           1882 non-null   object \n",
      " 32  hauteurarbre           19562 non-null  object \n",
      " 33  portarbre              13573 non-null  object \n",
      " 34  structure              29605 non-null  object \n",
      " 35  forme                  8424 non-null   object \n",
      " 36  typenature             13573 non-null  object \n",
      " 37  geo_point_2d           29756 non-null  object \n",
      "dtypes: float64(8), int64(2), object(28)\n",
      "memory usage: 8.6+ MB\n"
     ]
    }
   ],
   "source": [
    "arbres_df.info()"
   ]
  },
  {
   "cell_type": "code",
   "execution_count": 159,
   "metadata": {},
   "outputs": [
    {
     "data": {
      "text/html": [
       "<div>\n",
       "<style scoped>\n",
       "    .dataframe tbody tr th:only-of-type {\n",
       "        vertical-align: middle;\n",
       "    }\n",
       "\n",
       "    .dataframe tbody tr th {\n",
       "        vertical-align: top;\n",
       "    }\n",
       "\n",
       "    .dataframe thead th {\n",
       "        text-align: right;\n",
       "    }\n",
       "</style>\n",
       "<table border=\"1\" class=\"dataframe\">\n",
       "  <thead>\n",
       "    <tr style=\"text-align: right;\">\n",
       "      <th></th>\n",
       "      <th>elem_point_id</th>\n",
       "      <th>adr_secteur</th>\n",
       "      <th>equipe</th>\n",
       "      <th>anneedeplantation</th>\n",
       "      <th>courrier</th>\n",
       "      <th>identifiantplu</th>\n",
       "      <th>anneeabattage</th>\n",
       "      <th>essouchement</th>\n",
       "      <th>diametrearbre</th>\n",
       "      <th>causeabattage</th>\n",
       "    </tr>\n",
       "  </thead>\n",
       "  <tbody>\n",
       "    <tr>\n",
       "      <th>count</th>\n",
       "      <td>29756.000000</td>\n",
       "      <td>29756.000000</td>\n",
       "      <td>0.0</td>\n",
       "      <td>29756.000000</td>\n",
       "      <td>0.0</td>\n",
       "      <td>592.000000</td>\n",
       "      <td>0.0</td>\n",
       "      <td>0.0</td>\n",
       "      <td>0.0</td>\n",
       "      <td>0.0</td>\n",
       "    </tr>\n",
       "    <tr>\n",
       "      <th>mean</th>\n",
       "      <td>19438.515392</td>\n",
       "      <td>252.977551</td>\n",
       "      <td>NaN</td>\n",
       "      <td>1990.402037</td>\n",
       "      <td>NaN</td>\n",
       "      <td>88.087838</td>\n",
       "      <td>NaN</td>\n",
       "      <td>NaN</td>\n",
       "      <td>NaN</td>\n",
       "      <td>NaN</td>\n",
       "    </tr>\n",
       "    <tr>\n",
       "      <th>std</th>\n",
       "      <td>12111.760070</td>\n",
       "      <td>3075.731911</td>\n",
       "      <td>NaN</td>\n",
       "      <td>18.154057</td>\n",
       "      <td>NaN</td>\n",
       "      <td>61.006469</td>\n",
       "      <td>NaN</td>\n",
       "      <td>NaN</td>\n",
       "      <td>NaN</td>\n",
       "      <td>NaN</td>\n",
       "    </tr>\n",
       "    <tr>\n",
       "      <th>min</th>\n",
       "      <td>1.000000</td>\n",
       "      <td>1.000000</td>\n",
       "      <td>NaN</td>\n",
       "      <td>1900.000000</td>\n",
       "      <td>NaN</td>\n",
       "      <td>2.000000</td>\n",
       "      <td>NaN</td>\n",
       "      <td>NaN</td>\n",
       "      <td>NaN</td>\n",
       "      <td>NaN</td>\n",
       "    </tr>\n",
       "    <tr>\n",
       "      <th>25%</th>\n",
       "      <td>9288.750000</td>\n",
       "      <td>2.000000</td>\n",
       "      <td>NaN</td>\n",
       "      <td>1975.000000</td>\n",
       "      <td>NaN</td>\n",
       "      <td>67.000000</td>\n",
       "      <td>NaN</td>\n",
       "      <td>NaN</td>\n",
       "      <td>NaN</td>\n",
       "      <td>NaN</td>\n",
       "    </tr>\n",
       "    <tr>\n",
       "      <th>50%</th>\n",
       "      <td>18688.500000</td>\n",
       "      <td>4.000000</td>\n",
       "      <td>NaN</td>\n",
       "      <td>1987.000000</td>\n",
       "      <td>NaN</td>\n",
       "      <td>70.000000</td>\n",
       "      <td>NaN</td>\n",
       "      <td>NaN</td>\n",
       "      <td>NaN</td>\n",
       "      <td>NaN</td>\n",
       "    </tr>\n",
       "    <tr>\n",
       "      <th>75%</th>\n",
       "      <td>28090.250000</td>\n",
       "      <td>5.000000</td>\n",
       "      <td>NaN</td>\n",
       "      <td>2006.000000</td>\n",
       "      <td>NaN</td>\n",
       "      <td>70.000000</td>\n",
       "      <td>NaN</td>\n",
       "      <td>NaN</td>\n",
       "      <td>NaN</td>\n",
       "      <td>NaN</td>\n",
       "    </tr>\n",
       "    <tr>\n",
       "      <th>max</th>\n",
       "      <td>48322.000000</td>\n",
       "      <td>38421.000000</td>\n",
       "      <td>NaN</td>\n",
       "      <td>2024.000000</td>\n",
       "      <td>NaN</td>\n",
       "      <td>358.000000</td>\n",
       "      <td>NaN</td>\n",
       "      <td>NaN</td>\n",
       "      <td>NaN</td>\n",
       "      <td>NaN</td>\n",
       "    </tr>\n",
       "  </tbody>\n",
       "</table>\n",
       "</div>"
      ],
      "text/plain": [
       "       elem_point_id   adr_secteur  equipe  anneedeplantation  courrier  \\\n",
       "count   29756.000000  29756.000000     0.0       29756.000000       0.0   \n",
       "mean    19438.515392    252.977551     NaN        1990.402037       NaN   \n",
       "std     12111.760070   3075.731911     NaN          18.154057       NaN   \n",
       "min         1.000000      1.000000     NaN        1900.000000       NaN   \n",
       "25%      9288.750000      2.000000     NaN        1975.000000       NaN   \n",
       "50%     18688.500000      4.000000     NaN        1987.000000       NaN   \n",
       "75%     28090.250000      5.000000     NaN        2006.000000       NaN   \n",
       "max     48322.000000  38421.000000     NaN        2024.000000       NaN   \n",
       "\n",
       "       identifiantplu  anneeabattage  essouchement  diametrearbre  \\\n",
       "count      592.000000            0.0           0.0            0.0   \n",
       "mean        88.087838            NaN           NaN            NaN   \n",
       "std         61.006469            NaN           NaN            NaN   \n",
       "min          2.000000            NaN           NaN            NaN   \n",
       "25%         67.000000            NaN           NaN            NaN   \n",
       "50%         70.000000            NaN           NaN            NaN   \n",
       "75%         70.000000            NaN           NaN            NaN   \n",
       "max        358.000000            NaN           NaN            NaN   \n",
       "\n",
       "       causeabattage  \n",
       "count            0.0  \n",
       "mean             NaN  \n",
       "std              NaN  \n",
       "min              NaN  \n",
       "25%              NaN  \n",
       "50%              NaN  \n",
       "75%              NaN  \n",
       "max              NaN  "
      ]
     },
     "execution_count": 159,
     "metadata": {},
     "output_type": "execute_result"
    }
   ],
   "source": [
    "arbres_df.describe()"
   ]
  },
  {
   "cell_type": "code",
   "execution_count": 160,
   "metadata": {},
   "outputs": [],
   "source": [
    "train_set, test_set = train_test_split(arbres_df, test_size=0.2, random_state=42)"
   ]
  },
  {
   "cell_type": "code",
   "execution_count": 161,
   "metadata": {},
   "outputs": [],
   "source": [
    "train_set.reset_index(inplace=True, drop=True)\n",
    "test_set.reset_index(inplace=True, drop=True)"
   ]
  },
  {
   "cell_type": "code",
   "execution_count": 164,
   "metadata": {},
   "outputs": [],
   "source": [
    "train_vis = train_set.copy().reset_index(drop=True)"
   ]
  },
  {
   "cell_type": "code",
   "execution_count": 165,
   "metadata": {},
   "outputs": [
    {
     "data": {
      "text/plain": [
       "<Axes: xlabel='lat', ylabel='lon'>"
      ]
     },
     "execution_count": 165,
     "metadata": {},
     "output_type": "execute_result"
    },
    {
     "data": {
      "image/png": "[encoded data removed]",
      "text/plain": [
       "<Figure size 640x480 with 1 Axes>"
      ]
     },
     "metadata": {},
     "output_type": "display_data"
    }
   ],
   "source": [
    "train_vis[[\"lat\", \"lon\"]] = [ast.literal_eval(x)[:2] for x in train_vis[\"geo_point_2d\"]]\n",
    "train_vis.drop(\"geo_point_2d\", axis=1, inplace=True)\n",
    "train_vis.plot(kind=\"scatter\", x=\"lat\", y=\"lon\", alpha=0.05)"
   ]
  },
  {
   "cell_type": "code",
   "execution_count": 166,
   "metadata": {},
   "outputs": [
    {
     "data": {
      "text/plain": [
       "<Axes: >"
      ]
     },
     "execution_count": 166,
     "metadata": {},
     "output_type": "execute_result"
    },
    {
     "data": {
      "image/png": "[encoded data removed]",
      "text/plain": [
       "<Figure size 640x480 with 2 Axes>"
      ]
     },
     "metadata": {},
     "output_type": "display_data"
    }
   ],
   "source": [
    "train_vis.dropna(axis=1, how=\"all\", inplace=True)\n",
    "corr_matrix = train_vis.corr(numeric_only=True)\n",
    "sns.heatmap(corr_matrix)"
   ]
  },
  {
   "cell_type": "code",
   "execution_count": 167,
   "metadata": {},
   "outputs": [],
   "source": [
    "train_feat = train_set.drop(\"anneedeplantation\", axis=1).reset_index(drop=True)\n",
    "train_target = train_set[\"anneedeplantation\"].copy().reset_index(drop=True)"
   ]
  },
  {
   "cell_type": "code",
   "execution_count": 168,
   "metadata": {},
   "outputs": [
    {
     "name": "stdout",
     "output_type": "stream",
     "text": [
      "<class 'pandas.core.frame.DataFrame'>\n",
      "RangeIndex: 23804 entries, 0 to 23803\n",
      "Data columns (total 37 columns):\n",
      " #   Column                 Non-Null Count  Dtype  \n",
      "---  ------                 --------------  -----  \n",
      " 0   elem_point_id          23804 non-null  int64  \n",
      " 1   code                   23804 non-null  object \n",
      " 2   nom                    23804 non-null  object \n",
      " 3   genre                  23804 non-null  object \n",
      " 4   genre_desc             23804 non-null  object \n",
      " 5   categorie              23804 non-null  object \n",
      " 6   categorie_desc         23804 non-null  object \n",
      " 7   sous_categorie         23804 non-null  object \n",
      " 8   sous_categorie_desc    23804 non-null  object \n",
      " 9   code_parent            23804 non-null  object \n",
      " 10  code_parent_desc       23804 non-null  object \n",
      " 11  adr_secteur            23804 non-null  int64  \n",
      " 12  bien_reference         23804 non-null  object \n",
      " 13  genre_bota             23772 non-null  object \n",
      " 14  espece                 22686 non-null  object \n",
      " 15  variete                3590 non-null   object \n",
      " 16  stadededeveloppement   21771 non-null  object \n",
      " 17  equipe                 0 non-null      float64\n",
      " 18  remarques              4000 non-null   object \n",
      " 19  raisondeplantation     2644 non-null   object \n",
      " 20  traitementchenilles    1652 non-null   object \n",
      " 21  courrier               0 non-null      float64\n",
      " 22  identifiantplu         468 non-null    float64\n",
      " 23  typeimplantationplu    3971 non-null   object \n",
      " 24  intituleprotectionplu  468 non-null    object \n",
      " 25  anneeabattage          0 non-null      float64\n",
      " 26  essouchement           0 non-null      float64\n",
      " 27  diametrearbre          0 non-null      float64\n",
      " 28  causeabattage          0 non-null      float64\n",
      " 29  collectivite           23727 non-null  object \n",
      " 30  stationmetro           1506 non-null   object \n",
      " 31  hauteurarbre           15658 non-null  object \n",
      " 32  portarbre              10846 non-null  object \n",
      " 33  structure              23680 non-null  object \n",
      " 34  forme                  6792 non-null   object \n",
      " 35  typenature             10846 non-null  object \n",
      " 36  geo_point_2d           23804 non-null  object \n",
      "dtypes: float64(7), int64(2), object(28)\n",
      "memory usage: 6.7+ MB\n"
     ]
    }
   ],
   "source": [
    "train_feat.info()"
   ]
  },
  {
   "cell_type": "code",
   "execution_count": 169,
   "metadata": {},
   "outputs": [],
   "source": [
    "columns_to_drop = [\"elem_point_id\", \"code\", \"nom\", \"genre\", \"genre_desc\", \"categorie\",\n",
    "                   \"categorie_desc\", \"sous_categorie_desc\", \"code_parent\", \"code_parent_desc\",\n",
    "                   \"bien_reference\", \"genre_bota\", \"espece\", \"variete\", \"equipe\", \"remarques\",\n",
    "                   \"courrier\", \"identifiantplu\", \"typeimplantationplu\", \"intituleprotectionplu\",\n",
    "                   \"anneeabattage\", \"essouchement\", \"diametrearbre\", \"causeabattage\",\n",
    "                   \"stationmetro\", \"forme\", \"typenature\", \"traitementchenilles\"]\n",
    "\n",
    "train_feat.drop(columns_to_drop, axis=1, inplace=True)"
   ]
  },
  {
   "cell_type": "code",
   "execution_count": 170,
   "metadata": {},
   "outputs": [
    {
     "name": "stdout",
     "output_type": "stream",
     "text": [
      "<class 'pandas.core.frame.DataFrame'>\n",
      "RangeIndex: 23804 entries, 0 to 23803\n",
      "Data columns (total 9 columns):\n",
      " #   Column                Non-Null Count  Dtype \n",
      "---  ------                --------------  ----- \n",
      " 0   sous_categorie        23804 non-null  object\n",
      " 1   adr_secteur           23804 non-null  int64 \n",
      " 2   stadededeveloppement  21771 non-null  object\n",
      " 3   raisondeplantation    2644 non-null   object\n",
      " 4   collectivite          23727 non-null  object\n",
      " 5   hauteurarbre          15658 non-null  object\n",
      " 6   portarbre             10846 non-null  object\n",
      " 7   structure             23680 non-null  object\n",
      " 8   geo_point_2d          23804 non-null  object\n",
      "dtypes: int64(1), object(8)\n",
      "memory usage: 1.6+ MB\n"
     ]
    }
   ],
   "source": [
    "train_feat.info()"
   ]
  },
  {
   "cell_type": "code",
   "execution_count": 171,
   "metadata": {},
   "outputs": [
    {
     "data": {
      "text/html": [
       "<div>\n",
       "<style scoped>\n",
       "    .dataframe tbody tr th:only-of-type {\n",
       "        vertical-align: middle;\n",
       "    }\n",
       "\n",
       "    .dataframe tbody tr th {\n",
       "        vertical-align: top;\n",
       "    }\n",
       "\n",
       "    .dataframe thead th {\n",
       "        text-align: right;\n",
       "    }\n",
       "</style>\n",
       "<table border=\"1\" class=\"dataframe\">\n",
       "  <thead>\n",
       "    <tr style=\"text-align: right;\">\n",
       "      <th></th>\n",
       "      <th>stadededeveloppement</th>\n",
       "      <th>raisondeplantation</th>\n",
       "      <th>collectivite</th>\n",
       "      <th>hauteurarbre</th>\n",
       "      <th>portarbre</th>\n",
       "      <th>structure</th>\n",
       "    </tr>\n",
       "  </thead>\n",
       "  <tbody>\n",
       "    <tr>\n",
       "      <th>0</th>\n",
       "      <td>NaN</td>\n",
       "      <td>Nouveau</td>\n",
       "      <td>Ville de Grenoble</td>\n",
       "      <td>Moins de 10 m</td>\n",
       "      <td>NaN</td>\n",
       "      <td>Ville de Grenoble</td>\n",
       "    </tr>\n",
       "    <tr>\n",
       "      <th>1</th>\n",
       "      <td>Arbre jeune</td>\n",
       "      <td>Nouveau</td>\n",
       "      <td>Ville de Grenoble</td>\n",
       "      <td>NaN</td>\n",
       "      <td>NaN</td>\n",
       "      <td>Ville de Grenoble</td>\n",
       "    </tr>\n",
       "    <tr>\n",
       "      <th>2</th>\n",
       "      <td>Arbre adulte</td>\n",
       "      <td>NaN</td>\n",
       "      <td>Ville de Grenoble</td>\n",
       "      <td>NaN</td>\n",
       "      <td>NaN</td>\n",
       "      <td>Ville de Grenoble</td>\n",
       "    </tr>\n",
       "    <tr>\n",
       "      <th>3</th>\n",
       "      <td>Arbre adulte</td>\n",
       "      <td>NaN</td>\n",
       "      <td>Ville de Grenoble</td>\n",
       "      <td>de 10 m à 20 m</td>\n",
       "      <td>Libre</td>\n",
       "      <td>Ville de Grenoble</td>\n",
       "    </tr>\n",
       "    <tr>\n",
       "      <th>4</th>\n",
       "      <td>Arbre adulte</td>\n",
       "      <td>NaN</td>\n",
       "      <td>Ville de Grenoble</td>\n",
       "      <td>NaN</td>\n",
       "      <td>NaN</td>\n",
       "      <td>Ville de Grenoble</td>\n",
       "    </tr>\n",
       "    <tr>\n",
       "      <th>...</th>\n",
       "      <td>...</td>\n",
       "      <td>...</td>\n",
       "      <td>...</td>\n",
       "      <td>...</td>\n",
       "      <td>...</td>\n",
       "      <td>...</td>\n",
       "    </tr>\n",
       "    <tr>\n",
       "      <th>23799</th>\n",
       "      <td>Arbre jeune</td>\n",
       "      <td>NaN</td>\n",
       "      <td>Grenoble Alpes Métropole</td>\n",
       "      <td>Moins de 10 m</td>\n",
       "      <td>Semi-libre</td>\n",
       "      <td>Métropole de Grenoble</td>\n",
       "    </tr>\n",
       "    <tr>\n",
       "      <th>23800</th>\n",
       "      <td>Arbre vieillissant</td>\n",
       "      <td>NaN</td>\n",
       "      <td>Grenoble Alpes Métropole</td>\n",
       "      <td>de 10 m à 20 m</td>\n",
       "      <td>Semi-libre</td>\n",
       "      <td>Métropole de Grenoble</td>\n",
       "    </tr>\n",
       "    <tr>\n",
       "      <th>23801</th>\n",
       "      <td>Arbre jeune</td>\n",
       "      <td>Nouveau</td>\n",
       "      <td>Grenoble Alpes Métropole</td>\n",
       "      <td>Moins de 10 m</td>\n",
       "      <td>NaN</td>\n",
       "      <td>Métropole de Grenoble</td>\n",
       "    </tr>\n",
       "    <tr>\n",
       "      <th>23802</th>\n",
       "      <td>Arbre adulte</td>\n",
       "      <td>NaN</td>\n",
       "      <td>Grenoble Alpes Métropole</td>\n",
       "      <td>de 10 m à 20 m</td>\n",
       "      <td>Libre</td>\n",
       "      <td>Métropole de Grenoble</td>\n",
       "    </tr>\n",
       "    <tr>\n",
       "      <th>23803</th>\n",
       "      <td>Arbre adulte</td>\n",
       "      <td>NaN</td>\n",
       "      <td>Grenoble Alpes Métropole</td>\n",
       "      <td>NaN</td>\n",
       "      <td>NaN</td>\n",
       "      <td>Métropole de Grenoble</td>\n",
       "    </tr>\n",
       "  </tbody>\n",
       "</table>\n",
       "<p>23804 rows × 6 columns</p>\n",
       "</div>"
      ],
      "text/plain": [
       "      stadededeveloppement raisondeplantation              collectivite  \\\n",
       "0                      NaN            Nouveau         Ville de Grenoble   \n",
       "1              Arbre jeune            Nouveau         Ville de Grenoble   \n",
       "2             Arbre adulte                NaN         Ville de Grenoble   \n",
       "3             Arbre adulte                NaN         Ville de Grenoble   \n",
       "4             Arbre adulte                NaN         Ville de Grenoble   \n",
       "...                    ...                ...                       ...   \n",
       "23799          Arbre jeune                NaN  Grenoble Alpes Métropole   \n",
       "23800   Arbre vieillissant                NaN  Grenoble Alpes Métropole   \n",
       "23801          Arbre jeune            Nouveau  Grenoble Alpes Métropole   \n",
       "23802         Arbre adulte                NaN  Grenoble Alpes Métropole   \n",
       "23803         Arbre adulte                NaN  Grenoble Alpes Métropole   \n",
       "\n",
       "         hauteurarbre   portarbre              structure  \n",
       "0       Moins de 10 m         NaN      Ville de Grenoble  \n",
       "1                 NaN         NaN      Ville de Grenoble  \n",
       "2                 NaN         NaN      Ville de Grenoble  \n",
       "3      de 10 m à 20 m       Libre      Ville de Grenoble  \n",
       "4                 NaN         NaN      Ville de Grenoble  \n",
       "...               ...         ...                    ...  \n",
       "23799   Moins de 10 m  Semi-libre  Métropole de Grenoble  \n",
       "23800  de 10 m à 20 m  Semi-libre  Métropole de Grenoble  \n",
       "23801   Moins de 10 m         NaN  Métropole de Grenoble  \n",
       "23802  de 10 m à 20 m       Libre  Métropole de Grenoble  \n",
       "23803             NaN         NaN  Métropole de Grenoble  \n",
       "\n",
       "[23804 rows x 6 columns]"
      ]
     },
     "execution_count": 171,
     "metadata": {},
     "output_type": "execute_result"
    }
   ],
   "source": [
    "train_feat[[\"stadededeveloppement\", \"raisondeplantation\", \"collectivite\", \"hauteurarbre\", \"portarbre\", \"structure\"]]"
   ]
  },
  {
   "cell_type": "code",
   "execution_count": 172,
   "metadata": {},
   "outputs": [
    {
     "data": {
      "text/plain": [
       "portarbre\n",
       "NaN             12958\n",
       "Libre            6070\n",
       "Semi-libre       4449\n",
       "Architecturé      316\n",
       "Pyramidale          7\n",
       "Pleureur            4\n",
       "Name: count, dtype: int64"
      ]
     },
     "execution_count": 172,
     "metadata": {},
     "output_type": "execute_result"
    }
   ],
   "source": [
    "train_feat[\"portarbre\"].value_counts(dropna=False)"
   ]
  },
  {
   "cell_type": "code",
   "execution_count": 173,
   "metadata": {},
   "outputs": [
    {
     "data": {
      "text/plain": [
       "sous_categorie\n",
       "ESP174    15397\n",
       "ESP151    12498\n",
       "ESP065     2500\n",
       "ESP187     1500\n",
       "Name: count, dtype: int64"
      ]
     },
     "execution_count": 173,
     "metadata": {},
     "output_type": "execute_result"
    }
   ],
   "source": [
    "data[\"sous_categorie\"].value_counts(dropna=False)"
   ]
  },
  {
   "cell_type": "code",
   "execution_count": 174,
   "metadata": {},
   "outputs": [
    {
     "data": {
      "text/html": [
       "<div>\n",
       "<style scoped>\n",
       "    .dataframe tbody tr th:only-of-type {\n",
       "        vertical-align: middle;\n",
       "    }\n",
       "\n",
       "    .dataframe tbody tr th {\n",
       "        vertical-align: top;\n",
       "    }\n",
       "\n",
       "    .dataframe thead th {\n",
       "        text-align: right;\n",
       "    }\n",
       "</style>\n",
       "<table border=\"1\" class=\"dataframe\">\n",
       "  <thead>\n",
       "    <tr style=\"text-align: right;\">\n",
       "      <th>sous_categorie</th>\n",
       "      <th>ESP065</th>\n",
       "      <th>ESP151</th>\n",
       "      <th>ESP174</th>\n",
       "      <th>ESP187</th>\n",
       "    </tr>\n",
       "    <tr>\n",
       "      <th>raisondeplantation</th>\n",
       "      <th></th>\n",
       "      <th></th>\n",
       "      <th></th>\n",
       "      <th></th>\n",
       "    </tr>\n",
       "  </thead>\n",
       "  <tbody>\n",
       "    <tr>\n",
       "      <th>Existant</th>\n",
       "      <td>1.0</td>\n",
       "      <td>1.0</td>\n",
       "      <td>1.0</td>\n",
       "      <td>NaN</td>\n",
       "    </tr>\n",
       "    <tr>\n",
       "      <th>Nouveau</th>\n",
       "      <td>52.0</td>\n",
       "      <td>1312.0</td>\n",
       "      <td>1469.0</td>\n",
       "      <td>65.0</td>\n",
       "    </tr>\n",
       "    <tr>\n",
       "      <th>Remplacement</th>\n",
       "      <td>18.0</td>\n",
       "      <td>282.0</td>\n",
       "      <td>88.0</td>\n",
       "      <td>NaN</td>\n",
       "    </tr>\n",
       "  </tbody>\n",
       "</table>\n",
       "</div>"
      ],
      "text/plain": [
       "sous_categorie      ESP065  ESP151  ESP174  ESP187\n",
       "raisondeplantation                                \n",
       "Existant               1.0     1.0     1.0     NaN\n",
       "Nouveau               52.0  1312.0  1469.0    65.0\n",
       "Remplacement          18.0   282.0    88.0     NaN"
      ]
     },
     "execution_count": 174,
     "metadata": {},
     "output_type": "execute_result"
    }
   ],
   "source": [
    "data.pivot_table(index='raisondeplantation', columns='sous_categorie', aggfunc='size')"
   ]
  },
  {
   "cell_type": "code",
   "execution_count": 175,
   "metadata": {},
   "outputs": [
    {
     "data": {
      "text/plain": [
       "0                       NaN\n",
       "1               Arbre jeune\n",
       "2              Arbre adulte\n",
       "3              Arbre adulte\n",
       "4              Arbre adulte\n",
       "                ...        \n",
       "23799           Arbre jeune\n",
       "23800    Arbre vieillissant\n",
       "23801           Arbre jeune\n",
       "23802          Arbre adulte\n",
       "23803          Arbre adulte\n",
       "Name: stadededeveloppement, Length: 23804, dtype: object"
      ]
     },
     "execution_count": 175,
     "metadata": {},
     "output_type": "execute_result"
    }
   ],
   "source": [
    "train_feat[\"stadededeveloppement\"]"
   ]
  },
  {
   "cell_type": "code",
   "execution_count": 176,
   "metadata": {},
   "outputs": [],
   "source": [
    "train_feat[\"stadededeveloppement\"] = train_feat[\"stadededeveloppement\"].fillna(value=\"Arbre adulte\")"
   ]
  },
  {
   "cell_type": "code",
   "execution_count": 177,
   "metadata": {},
   "outputs": [
    {
     "data": {
      "text/plain": [
       "portarbre\n",
       "NaN             12958\n",
       "Libre            6070\n",
       "Semi-libre       4449\n",
       "Architecturé      316\n",
       "Pyramidale          7\n",
       "Pleureur            4\n",
       "Name: count, dtype: int64"
      ]
     },
     "execution_count": 177,
     "metadata": {},
     "output_type": "execute_result"
    }
   ],
   "source": [
    "train_feat[\"portarbre\"].value_counts(dropna=False)"
   ]
  },
  {
   "cell_type": "code",
   "execution_count": 178,
   "metadata": {},
   "outputs": [
    {
     "name": "stderr",
     "output_type": "stream",
     "text": [
      "/tmp/ipykernel_5334/3066127487.py:9: FutureWarning: Downcasting object dtype arrays on .fillna, .ffill, .bfill is deprecated and will change in a future version. Call result.infer_objects(copy=False) instead. To opt-in to the future behavior, set `pd.set_option('future.no_silent_downcasting', True)`\n",
      "  train_feat.loc[train_feat[\"adr_secteur\"] == feat_value, \"portarbre\"].fillna(value=mode_value)\n",
      "/tmp/ipykernel_5334/3066127487.py:9: FutureWarning: Downcasting object dtype arrays on .fillna, .ffill, .bfill is deprecated and will change in a future version. Call result.infer_objects(copy=False) instead. To opt-in to the future behavior, set `pd.set_option('future.no_silent_downcasting', True)`\n",
      "  train_feat.loc[train_feat[\"adr_secteur\"] == feat_value, \"portarbre\"].fillna(value=mode_value)\n",
      "/tmp/ipykernel_5334/3066127487.py:9: FutureWarning: Downcasting object dtype arrays on .fillna, .ffill, .bfill is deprecated and will change in a future version. Call result.infer_objects(copy=False) instead. To opt-in to the future behavior, set `pd.set_option('future.no_silent_downcasting', True)`\n",
      "  train_feat.loc[train_feat[\"adr_secteur\"] == feat_value, \"portarbre\"].fillna(value=mode_value)\n"
     ]
    }
   ],
   "source": [
    "mode_df = train_feat.groupby(\"adr_secteur\")[\"portarbre\"].agg(lambda x: x.mode().max()).reset_index()\n",
    "mode_df.columns = [\"adr_secteur\", \"mode_portarbre\"]\n",
    "\n",
    "for index, row in mode_df.iterrows():\n",
    "\n",
    "    feat_value = row[\"adr_secteur\"]\n",
    "    mode_value = row[\"mode_portarbre\"]\n",
    "    train_feat.loc[train_feat[\"adr_secteur\"] == feat_value, \"portarbre\"] = \\\n",
    "        train_feat.loc[train_feat[\"adr_secteur\"] == feat_value, \"portarbre\"].fillna(value=mode_value)"
   ]
  },
  {
   "cell_type": "code",
   "execution_count": 179,
   "metadata": {},
   "outputs": [
    {
     "data": {
      "text/plain": [
       "raisondeplantation\n",
       "NaN             21160\n",
       "Nouveau          2326\n",
       "Remplacement      317\n",
       "Existant            1\n",
       "Name: count, dtype: int64"
      ]
     },
     "execution_count": 179,
     "metadata": {},
     "output_type": "execute_result"
    }
   ],
   "source": [
    "train_feat[\"raisondeplantation\"].value_counts(dropna=False)"
   ]
  },
  {
   "cell_type": "code",
   "execution_count": 180,
   "metadata": {},
   "outputs": [],
   "source": [
    "mode_df = train_feat.groupby(\"sous_categorie\")[\"raisondeplantation\"].agg(lambda x: x.mode().max()).reset_index()\n",
    "mode_df.columns = [\"sous_categorie\", \"mode_raison\"]\n",
    "\n",
    "for index, row in mode_df.iterrows():\n",
    "\n",
    "    feat_value = row[\"sous_categorie\"]\n",
    "    mode_value = row[\"mode_raison\"]\n",
    "    train_feat.loc[train_feat[\"sous_categorie\"] == feat_value, \"raisondeplantation\"] = \\\n",
    "        train_feat.loc[train_feat[\"sous_categorie\"] == feat_value, \"raisondeplantation\"].fillna(value=mode_value)"
   ]
  },
  {
   "cell_type": "code",
   "execution_count": 181,
   "metadata": {},
   "outputs": [
    {
     "data": {
      "text/html": [
       "<div>\n",
       "<style scoped>\n",
       "    .dataframe tbody tr th:only-of-type {\n",
       "        vertical-align: middle;\n",
       "    }\n",
       "\n",
       "    .dataframe tbody tr th {\n",
       "        vertical-align: top;\n",
       "    }\n",
       "\n",
       "    .dataframe thead th {\n",
       "        text-align: right;\n",
       "    }\n",
       "</style>\n",
       "<table border=\"1\" class=\"dataframe\">\n",
       "  <thead>\n",
       "    <tr style=\"text-align: right;\">\n",
       "      <th>sous_categorie</th>\n",
       "      <th>ESP065</th>\n",
       "      <th>ESP151</th>\n",
       "      <th>ESP174</th>\n",
       "      <th>ESP187</th>\n",
       "    </tr>\n",
       "    <tr>\n",
       "      <th>collectivite</th>\n",
       "      <th></th>\n",
       "      <th></th>\n",
       "      <th></th>\n",
       "      <th></th>\n",
       "    </tr>\n",
       "  </thead>\n",
       "  <tbody>\n",
       "    <tr>\n",
       "      <th>Grenoble Alpes Métropole</th>\n",
       "      <td>77</td>\n",
       "      <td>10994</td>\n",
       "      <td>4130</td>\n",
       "      <td>50</td>\n",
       "    </tr>\n",
       "    <tr>\n",
       "      <th>Ville de Grenoble</th>\n",
       "      <td>2288</td>\n",
       "      <td>1231</td>\n",
       "      <td>10968</td>\n",
       "      <td>1450</td>\n",
       "    </tr>\n",
       "  </tbody>\n",
       "</table>\n",
       "</div>"
      ],
      "text/plain": [
       "sous_categorie            ESP065  ESP151  ESP174  ESP187\n",
       "collectivite                                            \n",
       "Grenoble Alpes Métropole      77   10994    4130      50\n",
       "Ville de Grenoble           2288    1231   10968    1450"
      ]
     },
     "execution_count": 181,
     "metadata": {},
     "output_type": "execute_result"
    }
   ],
   "source": [
    "data.pivot_table(index='collectivite', columns='sous_categorie', aggfunc='size')"
   ]
  },
  {
   "cell_type": "code",
   "execution_count": 182,
   "metadata": {},
   "outputs": [],
   "source": [
    "mode_df = train_feat.groupby(\"sous_categorie\")[\"collectivite\"].agg(lambda x: x.mode().max()).reset_index()\n",
    "mode_df.columns = [\"sous_categorie\", \"mode_collec\"]\n",
    "\n",
    "for index, row in mode_df.iterrows():\n",
    "\n",
    "    feat_value = row[\"sous_categorie\"]\n",
    "    mode_value = row[\"mode_collec\"]\n",
    "    train_feat.loc[train_feat[\"sous_categorie\"] == feat_value, \"collectivite\"] = \\\n",
    "        train_feat.loc[train_feat[\"sous_categorie\"] == feat_value, \"collectivite\"].fillna(value=mode_value)"
   ]
  },
  {
   "cell_type": "code",
   "execution_count": 183,
   "metadata": {},
   "outputs": [
    {
     "data": {
      "text/html": [
       "<div>\n",
       "<style scoped>\n",
       "    .dataframe tbody tr th:only-of-type {\n",
       "        vertical-align: middle;\n",
       "    }\n",
       "\n",
       "    .dataframe tbody tr th {\n",
       "        vertical-align: top;\n",
       "    }\n",
       "\n",
       "    .dataframe thead th {\n",
       "        text-align: right;\n",
       "    }\n",
       "</style>\n",
       "<table border=\"1\" class=\"dataframe\">\n",
       "  <thead>\n",
       "    <tr style=\"text-align: right;\">\n",
       "      <th>stadededeveloppement</th>\n",
       "      <th>Arbre adulte</th>\n",
       "      <th>Arbre jeune</th>\n",
       "      <th>Arbre vieillissant</th>\n",
       "    </tr>\n",
       "    <tr>\n",
       "      <th>hauteurarbre</th>\n",
       "      <th></th>\n",
       "      <th></th>\n",
       "      <th></th>\n",
       "    </tr>\n",
       "  </thead>\n",
       "  <tbody>\n",
       "    <tr>\n",
       "      <th>Moins de 10 m</th>\n",
       "      <td>4312</td>\n",
       "      <td>2788</td>\n",
       "      <td>125</td>\n",
       "    </tr>\n",
       "    <tr>\n",
       "      <th>Plus de 20 m</th>\n",
       "      <td>1783</td>\n",
       "      <td>1</td>\n",
       "      <td>296</td>\n",
       "    </tr>\n",
       "    <tr>\n",
       "      <th>de 10 m à 20 m</th>\n",
       "      <td>8124</td>\n",
       "      <td>585</td>\n",
       "      <td>358</td>\n",
       "    </tr>\n",
       "  </tbody>\n",
       "</table>\n",
       "</div>"
      ],
      "text/plain": [
       "stadededeveloppement  Arbre adulte  Arbre jeune  Arbre vieillissant\n",
       "hauteurarbre                                                       \n",
       "Moins de 10 m                 4312         2788                 125\n",
       "Plus de 20 m                  1783            1                 296\n",
       "de 10 m à 20 m                8124          585                 358"
      ]
     },
     "execution_count": 183,
     "metadata": {},
     "output_type": "execute_result"
    }
   ],
   "source": [
    "data.pivot_table(index='hauteurarbre', columns='stadededeveloppement', aggfunc='size')"
   ]
  },
  {
   "cell_type": "code",
   "execution_count": 184,
   "metadata": {},
   "outputs": [],
   "source": [
    "mode_df = train_feat.groupby(\"stadededeveloppement\")[\"hauteurarbre\"].agg(lambda x: x.mode().max()).reset_index()\n",
    "mode_df.columns = [\"stadededeveloppement\", \"mode_haut\"]\n",
    "\n",
    "for index, row in mode_df.iterrows():\n",
    "\n",
    "    feat_value = row[\"stadededeveloppement\"]\n",
    "    mode_value = row[\"mode_haut\"]\n",
    "    train_feat.loc[train_feat[\"stadededeveloppement\"] == feat_value, \"hauteurarbre\"] = \\\n",
    "        train_feat.loc[train_feat[\"stadededeveloppement\"] == feat_value, \"hauteurarbre\"].fillna(value=mode_value)"
   ]
  },
  {
   "cell_type": "code",
   "execution_count": 185,
   "metadata": {},
   "outputs": [],
   "source": [
    "mode_df = train_feat.groupby(\"sous_categorie\")[\"structure\"].agg(lambda x: x.mode().max()).reset_index()\n",
    "mode_df.columns = [\"sous_categorie\", \"mode_struc\"]\n",
    "\n",
    "for index, row in mode_df.iterrows():\n",
    "\n",
    "    feat_value = row[\"sous_categorie\"]\n",
    "    mode_value = row[\"mode_struc\"]\n",
    "    train_feat.loc[train_feat[\"sous_categorie\"] == feat_value, \"structure\"] = \\\n",
    "        train_feat.loc[train_feat[\"sous_categorie\"] == feat_value, \"structure\"].fillna(value=mode_value)"
   ]
  },
  {
   "cell_type": "code",
   "execution_count": 186,
   "metadata": {},
   "outputs": [
    {
     "name": "stdout",
     "output_type": "stream",
     "text": [
      "<class 'pandas.core.frame.DataFrame'>\n",
      "RangeIndex: 23804 entries, 0 to 23803\n",
      "Data columns (total 9 columns):\n",
      " #   Column                Non-Null Count  Dtype \n",
      "---  ------                --------------  ----- \n",
      " 0   sous_categorie        23804 non-null  object\n",
      " 1   adr_secteur           23804 non-null  int64 \n",
      " 2   stadededeveloppement  23804 non-null  object\n",
      " 3   raisondeplantation    23804 non-null  object\n",
      " 4   collectivite          23804 non-null  object\n",
      " 5   hauteurarbre          23804 non-null  object\n",
      " 6   portarbre             23731 non-null  object\n",
      " 7   structure             23804 non-null  object\n",
      " 8   geo_point_2d          23804 non-null  object\n",
      "dtypes: int64(1), object(8)\n",
      "memory usage: 1.6+ MB\n"
     ]
    }
   ],
   "source": [
    "train_feat.info()"
   ]
  },
  {
   "cell_type": "code",
   "execution_count": 187,
   "metadata": {},
   "outputs": [
    {
     "name": "stdout",
     "output_type": "stream",
     "text": [
      "<class 'pandas.core.frame.DataFrame'>\n",
      "RangeIndex: 23731 entries, 0 to 23730\n",
      "Data columns (total 9 columns):\n",
      " #   Column                Non-Null Count  Dtype \n",
      "---  ------                --------------  ----- \n",
      " 0   sous_categorie        23731 non-null  object\n",
      " 1   adr_secteur           23731 non-null  int64 \n",
      " 2   stadededeveloppement  23731 non-null  object\n",
      " 3   raisondeplantation    23731 non-null  object\n",
      " 4   collectivite          23731 non-null  object\n",
      " 5   hauteurarbre          23731 non-null  object\n",
      " 6   portarbre             23731 non-null  object\n",
      " 7   structure             23731 non-null  object\n",
      " 8   geo_point_2d          23731 non-null  object\n",
      "dtypes: int64(1), object(8)\n",
      "memory usage: 1.6+ MB\n"
     ]
    }
   ],
   "source": [
    "train_feat.dropna(inplace=True)\n",
    "train_feat.reset_index(drop=True, inplace=True)\n",
    "train_feat.info()"
   ]
  },
  {
   "cell_type": "code",
   "execution_count": 201,
   "metadata": {},
   "outputs": [
    {
     "data": {
      "text/plain": [
       "hauteurarbre\n",
       "de 10 m à 20 m    13146\n",
       "Moins de 10 m      8964\n",
       "Plus de 20 m       1621\n",
       "Name: count, dtype: int64"
      ]
     },
     "execution_count": 201,
     "metadata": {},
     "output_type": "execute_result"
    }
   ],
   "source": [
    "train_feat[\"hauteurarbre\"].value_counts()"
   ]
  },
  {
   "cell_type": "code",
   "execution_count": 188,
   "metadata": {},
   "outputs": [],
   "source": [
    "train_feat.to_pickle(data_path/\"train_feat.pkl\")\n",
    "train_target.to_pickle(data_path/\"train_target.pkl\")\n",
    "test_set.to_pickle(data_path/\"test_set.pkl\")\n",
    "anne_null.to_pickle(data_path/\"anne_null.pkl\")"
   ]
  }
 ],
 "metadata": {
  "kernelspec": {
   "display_name": "cna-ml",
   "language": "python",
   "name": "python3"
  },
  "language_info": {
   "codemirror_mode": {
    "name": "ipython",
    "version": 3
   },
   "file_extension": ".py",
   "mimetype": "text/x-python",
   "name": "python",
   "nbconvert_exporter": "python",
   "pygments_lexer": "ipython3",
   "version": "3.12.4"
  }
 },
 "nbformat": 4,
 "nbformat_minor": 2
}
